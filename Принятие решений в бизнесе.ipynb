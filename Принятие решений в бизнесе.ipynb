{
 "cells": [
  {
   "cell_type": "markdown",
   "metadata": {},
   "source": [
    "# Принятие решений в бизнесе"
   ]
  },
  {
   "cell_type": "markdown",
   "metadata": {},
   "source": [
    "## Часть 1"
   ]
  },
  {
   "cell_type": "code",
   "execution_count": 1,
   "metadata": {},
   "outputs": [],
   "source": [
    "import pandas as pd\n",
    "import datetime as dt\n",
    "import scipy.stats as stats\n",
    "import numpy as np\n",
    "import matplotlib.pyplot as plt"
   ]
  },
  {
   "cell_type": "code",
   "execution_count": 2,
   "metadata": {},
   "outputs": [],
   "source": [
    "pd.options.display.float_format = '{:,.1f}'.format\n",
    "pd.options.display.max_colwidth = 200"
   ]
  },
  {
   "cell_type": "code",
   "execution_count": 3,
   "metadata": {},
   "outputs": [
    {
     "data": {
      "text/html": [
       "<div>\n",
       "<style scoped>\n",
       "    .dataframe tbody tr th:only-of-type {\n",
       "        vertical-align: middle;\n",
       "    }\n",
       "\n",
       "    .dataframe tbody tr th {\n",
       "        vertical-align: top;\n",
       "    }\n",
       "\n",
       "    .dataframe thead th {\n",
       "        text-align: right;\n",
       "    }\n",
       "</style>\n",
       "<table border=\"1\" class=\"dataframe\">\n",
       "  <thead>\n",
       "    <tr style=\"text-align: right;\">\n",
       "      <th></th>\n",
       "      <th>Hypothesis</th>\n",
       "      <th>Reach</th>\n",
       "      <th>Impact</th>\n",
       "      <th>Confidence</th>\n",
       "      <th>Efforts</th>\n",
       "    </tr>\n",
       "  </thead>\n",
       "  <tbody>\n",
       "    <tr>\n",
       "      <th>0</th>\n",
       "      <td>Добавить два новых канала привлечения трафика, что позволит привлекать на 30% больше пользователей</td>\n",
       "      <td>3</td>\n",
       "      <td>10</td>\n",
       "      <td>8</td>\n",
       "      <td>6</td>\n",
       "    </tr>\n",
       "    <tr>\n",
       "      <th>1</th>\n",
       "      <td>Запустить собственную службу доставки, что сократит срок доставки заказов</td>\n",
       "      <td>2</td>\n",
       "      <td>5</td>\n",
       "      <td>4</td>\n",
       "      <td>10</td>\n",
       "    </tr>\n",
       "    <tr>\n",
       "      <th>2</th>\n",
       "      <td>Добавить блоки рекомендаций товаров на сайт интернет магазина, чтобы повысить конверсию и средний чек заказа</td>\n",
       "      <td>8</td>\n",
       "      <td>3</td>\n",
       "      <td>7</td>\n",
       "      <td>3</td>\n",
       "    </tr>\n",
       "    <tr>\n",
       "      <th>3</th>\n",
       "      <td>Изменить структура категорий, что увеличит конверсию, т.к. пользователи быстрее найдут нужный товар</td>\n",
       "      <td>8</td>\n",
       "      <td>3</td>\n",
       "      <td>3</td>\n",
       "      <td>8</td>\n",
       "    </tr>\n",
       "    <tr>\n",
       "      <th>4</th>\n",
       "      <td>Изменить цвет фона главной страницы, чтобы увеличить вовлеченность пользователей</td>\n",
       "      <td>3</td>\n",
       "      <td>1</td>\n",
       "      <td>1</td>\n",
       "      <td>1</td>\n",
       "    </tr>\n",
       "    <tr>\n",
       "      <th>5</th>\n",
       "      <td>Добавить страницу отзывов клиентов о магазине, что позволит увеличить количество заказов</td>\n",
       "      <td>3</td>\n",
       "      <td>2</td>\n",
       "      <td>2</td>\n",
       "      <td>3</td>\n",
       "    </tr>\n",
       "    <tr>\n",
       "      <th>6</th>\n",
       "      <td>Показать на главной странице баннеры с актуальными акциями и распродажами, чтобы увеличить конверсию</td>\n",
       "      <td>5</td>\n",
       "      <td>3</td>\n",
       "      <td>8</td>\n",
       "      <td>3</td>\n",
       "    </tr>\n",
       "    <tr>\n",
       "      <th>7</th>\n",
       "      <td>Добавить форму подписки на все основные страницы, чтобы собрать базу клиентов для email-рассылок</td>\n",
       "      <td>10</td>\n",
       "      <td>7</td>\n",
       "      <td>8</td>\n",
       "      <td>5</td>\n",
       "    </tr>\n",
       "    <tr>\n",
       "      <th>8</th>\n",
       "      <td>Запустить акцию, дающую скидку на товар в день рождения</td>\n",
       "      <td>1</td>\n",
       "      <td>9</td>\n",
       "      <td>9</td>\n",
       "      <td>5</td>\n",
       "    </tr>\n",
       "  </tbody>\n",
       "</table>\n",
       "</div>"
      ],
      "text/plain": [
       "                                                                                                     Hypothesis  \\\n",
       "0            Добавить два новых канала привлечения трафика, что позволит привлекать на 30% больше пользователей   \n",
       "1                                     Запустить собственную службу доставки, что сократит срок доставки заказов   \n",
       "2  Добавить блоки рекомендаций товаров на сайт интернет магазина, чтобы повысить конверсию и средний чек заказа   \n",
       "3           Изменить структура категорий, что увеличит конверсию, т.к. пользователи быстрее найдут нужный товар   \n",
       "4                              Изменить цвет фона главной страницы, чтобы увеличить вовлеченность пользователей   \n",
       "5                      Добавить страницу отзывов клиентов о магазине, что позволит увеличить количество заказов   \n",
       "6          Показать на главной странице баннеры с актуальными акциями и распродажами, чтобы увеличить конверсию   \n",
       "7              Добавить форму подписки на все основные страницы, чтобы собрать базу клиентов для email-рассылок   \n",
       "8                                                       Запустить акцию, дающую скидку на товар в день рождения   \n",
       "\n",
       "   Reach  Impact  Confidence  Efforts  \n",
       "0      3      10           8        6  \n",
       "1      2       5           4       10  \n",
       "2      8       3           7        3  \n",
       "3      8       3           3        8  \n",
       "4      3       1           1        1  \n",
       "5      3       2           2        3  \n",
       "6      5       3           8        3  \n",
       "7     10       7           8        5  \n",
       "8      1       9           9        5  "
      ]
     },
     "execution_count": 3,
     "metadata": {},
     "output_type": "execute_result"
    }
   ],
   "source": [
    "hypothesis = pd.read_csv('/datasets/hypothesis.csv')\n",
    "hypothesis"
   ]
  },
  {
   "cell_type": "code",
   "execution_count": 4,
   "metadata": {},
   "outputs": [],
   "source": [
    "hypothesis.columns = hypothesis.columns.str.lower()"
   ]
  },
  {
   "cell_type": "markdown",
   "metadata": {},
   "source": [
    "Чтобы максимизировать ожидаемое улучшение ключевых метрик бизнеса, сформулированные гипотезы приоритизируют. ICE и RICE - способы приоритизировать гипотезы.\n",
    "\n",
    "ICE рассчитывает по формуле (impact(влияние) * confidence(уверенность)) / efforts(усилия). Каждому параметру присваивается своя оценка. В данном случае параметры оцениваются числом от 0 до 10.\n",
    "\n",
    "RICE = (reach * impact * confidence)/efforts, где reach - оценка, скольких пользователей затронет изменение. Как и в предыдущем случае, каждому параметру присваивают оценку."
   ]
  },
  {
   "cell_type": "code",
   "execution_count": 5,
   "metadata": {},
   "outputs": [],
   "source": [
    "hypothesis['ICE'] = (hypothesis['impact'] * hypothesis['confidence']) / hypothesis['efforts']"
   ]
  },
  {
   "cell_type": "code",
   "execution_count": 6,
   "metadata": {},
   "outputs": [
    {
     "data": {
      "text/html": [
       "<div>\n",
       "<style scoped>\n",
       "    .dataframe tbody tr th:only-of-type {\n",
       "        vertical-align: middle;\n",
       "    }\n",
       "\n",
       "    .dataframe tbody tr th {\n",
       "        vertical-align: top;\n",
       "    }\n",
       "\n",
       "    .dataframe thead th {\n",
       "        text-align: right;\n",
       "    }\n",
       "</style>\n",
       "<table border=\"1\" class=\"dataframe\">\n",
       "  <thead>\n",
       "    <tr style=\"text-align: right;\">\n",
       "      <th></th>\n",
       "      <th>hypothesis</th>\n",
       "      <th>reach</th>\n",
       "      <th>impact</th>\n",
       "      <th>confidence</th>\n",
       "      <th>efforts</th>\n",
       "      <th>ICE</th>\n",
       "    </tr>\n",
       "  </thead>\n",
       "  <tbody>\n",
       "    <tr>\n",
       "      <th>8</th>\n",
       "      <td>Запустить акцию, дающую скидку на товар в день рождения</td>\n",
       "      <td>1</td>\n",
       "      <td>9</td>\n",
       "      <td>9</td>\n",
       "      <td>5</td>\n",
       "      <td>16.2</td>\n",
       "    </tr>\n",
       "    <tr>\n",
       "      <th>0</th>\n",
       "      <td>Добавить два новых канала привлечения трафика, что позволит привлекать на 30% больше пользователей</td>\n",
       "      <td>3</td>\n",
       "      <td>10</td>\n",
       "      <td>8</td>\n",
       "      <td>6</td>\n",
       "      <td>13.3</td>\n",
       "    </tr>\n",
       "    <tr>\n",
       "      <th>7</th>\n",
       "      <td>Добавить форму подписки на все основные страницы, чтобы собрать базу клиентов для email-рассылок</td>\n",
       "      <td>10</td>\n",
       "      <td>7</td>\n",
       "      <td>8</td>\n",
       "      <td>5</td>\n",
       "      <td>11.2</td>\n",
       "    </tr>\n",
       "    <tr>\n",
       "      <th>6</th>\n",
       "      <td>Показать на главной странице баннеры с актуальными акциями и распродажами, чтобы увеличить конверсию</td>\n",
       "      <td>5</td>\n",
       "      <td>3</td>\n",
       "      <td>8</td>\n",
       "      <td>3</td>\n",
       "      <td>8.0</td>\n",
       "    </tr>\n",
       "    <tr>\n",
       "      <th>2</th>\n",
       "      <td>Добавить блоки рекомендаций товаров на сайт интернет магазина, чтобы повысить конверсию и средний чек заказа</td>\n",
       "      <td>8</td>\n",
       "      <td>3</td>\n",
       "      <td>7</td>\n",
       "      <td>3</td>\n",
       "      <td>7.0</td>\n",
       "    </tr>\n",
       "    <tr>\n",
       "      <th>1</th>\n",
       "      <td>Запустить собственную службу доставки, что сократит срок доставки заказов</td>\n",
       "      <td>2</td>\n",
       "      <td>5</td>\n",
       "      <td>4</td>\n",
       "      <td>10</td>\n",
       "      <td>2.0</td>\n",
       "    </tr>\n",
       "    <tr>\n",
       "      <th>5</th>\n",
       "      <td>Добавить страницу отзывов клиентов о магазине, что позволит увеличить количество заказов</td>\n",
       "      <td>3</td>\n",
       "      <td>2</td>\n",
       "      <td>2</td>\n",
       "      <td>3</td>\n",
       "      <td>1.3</td>\n",
       "    </tr>\n",
       "    <tr>\n",
       "      <th>3</th>\n",
       "      <td>Изменить структура категорий, что увеличит конверсию, т.к. пользователи быстрее найдут нужный товар</td>\n",
       "      <td>8</td>\n",
       "      <td>3</td>\n",
       "      <td>3</td>\n",
       "      <td>8</td>\n",
       "      <td>1.1</td>\n",
       "    </tr>\n",
       "    <tr>\n",
       "      <th>4</th>\n",
       "      <td>Изменить цвет фона главной страницы, чтобы увеличить вовлеченность пользователей</td>\n",
       "      <td>3</td>\n",
       "      <td>1</td>\n",
       "      <td>1</td>\n",
       "      <td>1</td>\n",
       "      <td>1.0</td>\n",
       "    </tr>\n",
       "  </tbody>\n",
       "</table>\n",
       "</div>"
      ],
      "text/plain": [
       "                                                                                                     hypothesis  \\\n",
       "8                                                       Запустить акцию, дающую скидку на товар в день рождения   \n",
       "0            Добавить два новых канала привлечения трафика, что позволит привлекать на 30% больше пользователей   \n",
       "7              Добавить форму подписки на все основные страницы, чтобы собрать базу клиентов для email-рассылок   \n",
       "6          Показать на главной странице баннеры с актуальными акциями и распродажами, чтобы увеличить конверсию   \n",
       "2  Добавить блоки рекомендаций товаров на сайт интернет магазина, чтобы повысить конверсию и средний чек заказа   \n",
       "1                                     Запустить собственную службу доставки, что сократит срок доставки заказов   \n",
       "5                      Добавить страницу отзывов клиентов о магазине, что позволит увеличить количество заказов   \n",
       "3           Изменить структура категорий, что увеличит конверсию, т.к. пользователи быстрее найдут нужный товар   \n",
       "4                              Изменить цвет фона главной страницы, чтобы увеличить вовлеченность пользователей   \n",
       "\n",
       "   reach  impact  confidence  efforts  ICE  \n",
       "8      1       9           9        5 16.2  \n",
       "0      3      10           8        6 13.3  \n",
       "7     10       7           8        5 11.2  \n",
       "6      5       3           8        3  8.0  \n",
       "2      8       3           7        3  7.0  \n",
       "1      2       5           4       10  2.0  \n",
       "5      3       2           2        3  1.3  \n",
       "3      8       3           3        8  1.1  \n",
       "4      3       1           1        1  1.0  "
      ]
     },
     "execution_count": 6,
     "metadata": {},
     "output_type": "execute_result"
    }
   ],
   "source": [
    "hypothesis.sort_values(by=['ICE'], ascending=False)"
   ]
  },
  {
   "cell_type": "markdown",
   "metadata": {},
   "source": [
    "Топ-3 гипотезы после использования метода приоритизации ICE:\n",
    "\n",
    "1. Запустить акцию, дающую скидку на товар в день рождения.\n",
    "\n",
    "2. Добавить два новых канала привлечения трафика, \n",
    "что позволит привлекать на 30% больше пользователей.\n",
    "\n",
    "3. Добавить форму подписки на все основные страницы, чтобы собрать базу клиентов для email-рассылок."
   ]
  },
  {
   "cell_type": "code",
   "execution_count": 7,
   "metadata": {},
   "outputs": [],
   "source": [
    "hypothesis['RICE'] = (hypothesis['reach']*hypothesis['impact'] * hypothesis['confidence']) / hypothesis['efforts']"
   ]
  },
  {
   "cell_type": "code",
   "execution_count": 8,
   "metadata": {},
   "outputs": [
    {
     "data": {
      "text/html": [
       "<div>\n",
       "<style scoped>\n",
       "    .dataframe tbody tr th:only-of-type {\n",
       "        vertical-align: middle;\n",
       "    }\n",
       "\n",
       "    .dataframe tbody tr th {\n",
       "        vertical-align: top;\n",
       "    }\n",
       "\n",
       "    .dataframe thead th {\n",
       "        text-align: right;\n",
       "    }\n",
       "</style>\n",
       "<table border=\"1\" class=\"dataframe\">\n",
       "  <thead>\n",
       "    <tr style=\"text-align: right;\">\n",
       "      <th></th>\n",
       "      <th>hypothesis</th>\n",
       "      <th>reach</th>\n",
       "      <th>impact</th>\n",
       "      <th>confidence</th>\n",
       "      <th>efforts</th>\n",
       "      <th>ICE</th>\n",
       "      <th>RICE</th>\n",
       "    </tr>\n",
       "  </thead>\n",
       "  <tbody>\n",
       "    <tr>\n",
       "      <th>7</th>\n",
       "      <td>Добавить форму подписки на все основные страницы, чтобы собрать базу клиентов для email-рассылок</td>\n",
       "      <td>10</td>\n",
       "      <td>7</td>\n",
       "      <td>8</td>\n",
       "      <td>5</td>\n",
       "      <td>11.2</td>\n",
       "      <td>112.0</td>\n",
       "    </tr>\n",
       "    <tr>\n",
       "      <th>2</th>\n",
       "      <td>Добавить блоки рекомендаций товаров на сайт интернет магазина, чтобы повысить конверсию и средний чек заказа</td>\n",
       "      <td>8</td>\n",
       "      <td>3</td>\n",
       "      <td>7</td>\n",
       "      <td>3</td>\n",
       "      <td>7.0</td>\n",
       "      <td>56.0</td>\n",
       "    </tr>\n",
       "    <tr>\n",
       "      <th>0</th>\n",
       "      <td>Добавить два новых канала привлечения трафика, что позволит привлекать на 30% больше пользователей</td>\n",
       "      <td>3</td>\n",
       "      <td>10</td>\n",
       "      <td>8</td>\n",
       "      <td>6</td>\n",
       "      <td>13.3</td>\n",
       "      <td>40.0</td>\n",
       "    </tr>\n",
       "    <tr>\n",
       "      <th>6</th>\n",
       "      <td>Показать на главной странице баннеры с актуальными акциями и распродажами, чтобы увеличить конверсию</td>\n",
       "      <td>5</td>\n",
       "      <td>3</td>\n",
       "      <td>8</td>\n",
       "      <td>3</td>\n",
       "      <td>8.0</td>\n",
       "      <td>40.0</td>\n",
       "    </tr>\n",
       "    <tr>\n",
       "      <th>8</th>\n",
       "      <td>Запустить акцию, дающую скидку на товар в день рождения</td>\n",
       "      <td>1</td>\n",
       "      <td>9</td>\n",
       "      <td>9</td>\n",
       "      <td>5</td>\n",
       "      <td>16.2</td>\n",
       "      <td>16.2</td>\n",
       "    </tr>\n",
       "    <tr>\n",
       "      <th>3</th>\n",
       "      <td>Изменить структура категорий, что увеличит конверсию, т.к. пользователи быстрее найдут нужный товар</td>\n",
       "      <td>8</td>\n",
       "      <td>3</td>\n",
       "      <td>3</td>\n",
       "      <td>8</td>\n",
       "      <td>1.1</td>\n",
       "      <td>9.0</td>\n",
       "    </tr>\n",
       "    <tr>\n",
       "      <th>1</th>\n",
       "      <td>Запустить собственную службу доставки, что сократит срок доставки заказов</td>\n",
       "      <td>2</td>\n",
       "      <td>5</td>\n",
       "      <td>4</td>\n",
       "      <td>10</td>\n",
       "      <td>2.0</td>\n",
       "      <td>4.0</td>\n",
       "    </tr>\n",
       "    <tr>\n",
       "      <th>5</th>\n",
       "      <td>Добавить страницу отзывов клиентов о магазине, что позволит увеличить количество заказов</td>\n",
       "      <td>3</td>\n",
       "      <td>2</td>\n",
       "      <td>2</td>\n",
       "      <td>3</td>\n",
       "      <td>1.3</td>\n",
       "      <td>4.0</td>\n",
       "    </tr>\n",
       "    <tr>\n",
       "      <th>4</th>\n",
       "      <td>Изменить цвет фона главной страницы, чтобы увеличить вовлеченность пользователей</td>\n",
       "      <td>3</td>\n",
       "      <td>1</td>\n",
       "      <td>1</td>\n",
       "      <td>1</td>\n",
       "      <td>1.0</td>\n",
       "      <td>3.0</td>\n",
       "    </tr>\n",
       "  </tbody>\n",
       "</table>\n",
       "</div>"
      ],
      "text/plain": [
       "                                                                                                     hypothesis  \\\n",
       "7              Добавить форму подписки на все основные страницы, чтобы собрать базу клиентов для email-рассылок   \n",
       "2  Добавить блоки рекомендаций товаров на сайт интернет магазина, чтобы повысить конверсию и средний чек заказа   \n",
       "0            Добавить два новых канала привлечения трафика, что позволит привлекать на 30% больше пользователей   \n",
       "6          Показать на главной странице баннеры с актуальными акциями и распродажами, чтобы увеличить конверсию   \n",
       "8                                                       Запустить акцию, дающую скидку на товар в день рождения   \n",
       "3           Изменить структура категорий, что увеличит конверсию, т.к. пользователи быстрее найдут нужный товар   \n",
       "1                                     Запустить собственную службу доставки, что сократит срок доставки заказов   \n",
       "5                      Добавить страницу отзывов клиентов о магазине, что позволит увеличить количество заказов   \n",
       "4                              Изменить цвет фона главной страницы, чтобы увеличить вовлеченность пользователей   \n",
       "\n",
       "   reach  impact  confidence  efforts  ICE  RICE  \n",
       "7     10       7           8        5 11.2 112.0  \n",
       "2      8       3           7        3  7.0  56.0  \n",
       "0      3      10           8        6 13.3  40.0  \n",
       "6      5       3           8        3  8.0  40.0  \n",
       "8      1       9           9        5 16.2  16.2  \n",
       "3      8       3           3        8  1.1   9.0  \n",
       "1      2       5           4       10  2.0   4.0  \n",
       "5      3       2           2        3  1.3   4.0  \n",
       "4      3       1           1        1  1.0   3.0  "
      ]
     },
     "execution_count": 8,
     "metadata": {},
     "output_type": "execute_result"
    }
   ],
   "source": [
    "hypothesis.sort_values(by=['RICE'], ascending=False)"
   ]
  },
  {
   "cell_type": "markdown",
   "metadata": {},
   "source": [
    "Топ-3 гипотезы после использования метода приоритизации RICE:\n",
    "\n",
    "1. Добавить форму подписки на все основные страницы, чтобы собрать базу клиентов для email-рассылок.\n",
    "\n",
    "2. Добавить блоки рекомендаций товаров на сайт интернет магазина, чтобы повысить конверсию и средний чек заказа.\n",
    "\n",
    "3. Добавить два новых канала привлечения трафика, что позволит привлекать на 30% больше пользователей."
   ]
  },
  {
   "cell_type": "markdown",
   "metadata": {},
   "source": [
    "После применения RICE порядок приоритетов гипотез изменился, что связано с разными методами вычисления приоритизации гипотез. При рассчете ICE учитываются параметры: Impact, Confidence, Efforts, но не учитывается Reach (скольких пользователей затронет изменение, которое хотим внести), как в случае с RICE. "
   ]
  },
  {
   "cell_type": "markdown",
   "metadata": {},
   "source": [
    "## Часть 2"
   ]
  },
  {
   "cell_type": "markdown",
   "metadata": {},
   "source": [
    "1. Постройте график кумулятивной выручки по группам. Сделайте выводы и предположения."
   ]
  },
  {
   "cell_type": "markdown",
   "metadata": {},
   "source": [
    "В начале подготовим данные. Проверим данные на наличие пропусков и дубликатов. Также стоит обратить внимание, что некоторые пользователи могли попасть в обе группы: их также нужны проверить и решить, что с ними делать."
   ]
  },
  {
   "cell_type": "code",
   "execution_count": 9,
   "metadata": {},
   "outputs": [
    {
     "data": {
      "text/html": [
       "<div>\n",
       "<style scoped>\n",
       "    .dataframe tbody tr th:only-of-type {\n",
       "        vertical-align: middle;\n",
       "    }\n",
       "\n",
       "    .dataframe tbody tr th {\n",
       "        vertical-align: top;\n",
       "    }\n",
       "\n",
       "    .dataframe thead th {\n",
       "        text-align: right;\n",
       "    }\n",
       "</style>\n",
       "<table border=\"1\" class=\"dataframe\">\n",
       "  <thead>\n",
       "    <tr style=\"text-align: right;\">\n",
       "      <th></th>\n",
       "      <th>transactionId</th>\n",
       "      <th>visitorId</th>\n",
       "      <th>date</th>\n",
       "      <th>revenue</th>\n",
       "      <th>group</th>\n",
       "    </tr>\n",
       "  </thead>\n",
       "  <tbody>\n",
       "    <tr>\n",
       "      <th>0</th>\n",
       "      <td>3667963787</td>\n",
       "      <td>3312258926</td>\n",
       "      <td>2019-08-15</td>\n",
       "      <td>1650</td>\n",
       "      <td>B</td>\n",
       "    </tr>\n",
       "    <tr>\n",
       "      <th>1</th>\n",
       "      <td>2804400009</td>\n",
       "      <td>3642806036</td>\n",
       "      <td>2019-08-15</td>\n",
       "      <td>730</td>\n",
       "      <td>B</td>\n",
       "    </tr>\n",
       "    <tr>\n",
       "      <th>2</th>\n",
       "      <td>2961555356</td>\n",
       "      <td>4069496402</td>\n",
       "      <td>2019-08-15</td>\n",
       "      <td>400</td>\n",
       "      <td>A</td>\n",
       "    </tr>\n",
       "    <tr>\n",
       "      <th>3</th>\n",
       "      <td>3797467345</td>\n",
       "      <td>1196621759</td>\n",
       "      <td>2019-08-15</td>\n",
       "      <td>9759</td>\n",
       "      <td>B</td>\n",
       "    </tr>\n",
       "    <tr>\n",
       "      <th>4</th>\n",
       "      <td>2282983706</td>\n",
       "      <td>2322279887</td>\n",
       "      <td>2019-08-15</td>\n",
       "      <td>2308</td>\n",
       "      <td>B</td>\n",
       "    </tr>\n",
       "  </tbody>\n",
       "</table>\n",
       "</div>"
      ],
      "text/plain": [
       "   transactionId   visitorId        date  revenue group\n",
       "0     3667963787  3312258926  2019-08-15     1650     B\n",
       "1     2804400009  3642806036  2019-08-15      730     B\n",
       "2     2961555356  4069496402  2019-08-15      400     A\n",
       "3     3797467345  1196621759  2019-08-15     9759     B\n",
       "4     2282983706  2322279887  2019-08-15     2308     B"
      ]
     },
     "execution_count": 9,
     "metadata": {},
     "output_type": "execute_result"
    }
   ],
   "source": [
    "orders = pd.read_csv('/datasets/orders.csv')\n",
    "orders.head(5)"
   ]
  },
  {
   "cell_type": "code",
   "execution_count": 10,
   "metadata": {},
   "outputs": [
    {
     "data": {
      "text/html": [
       "<div>\n",
       "<style scoped>\n",
       "    .dataframe tbody tr th:only-of-type {\n",
       "        vertical-align: middle;\n",
       "    }\n",
       "\n",
       "    .dataframe tbody tr th {\n",
       "        vertical-align: top;\n",
       "    }\n",
       "\n",
       "    .dataframe thead th {\n",
       "        text-align: right;\n",
       "    }\n",
       "</style>\n",
       "<table border=\"1\" class=\"dataframe\">\n",
       "  <thead>\n",
       "    <tr style=\"text-align: right;\">\n",
       "      <th></th>\n",
       "      <th>date</th>\n",
       "      <th>group</th>\n",
       "      <th>visitors</th>\n",
       "    </tr>\n",
       "  </thead>\n",
       "  <tbody>\n",
       "    <tr>\n",
       "      <th>0</th>\n",
       "      <td>2019-08-01</td>\n",
       "      <td>A</td>\n",
       "      <td>719</td>\n",
       "    </tr>\n",
       "    <tr>\n",
       "      <th>1</th>\n",
       "      <td>2019-08-02</td>\n",
       "      <td>A</td>\n",
       "      <td>619</td>\n",
       "    </tr>\n",
       "    <tr>\n",
       "      <th>2</th>\n",
       "      <td>2019-08-03</td>\n",
       "      <td>A</td>\n",
       "      <td>507</td>\n",
       "    </tr>\n",
       "    <tr>\n",
       "      <th>3</th>\n",
       "      <td>2019-08-04</td>\n",
       "      <td>A</td>\n",
       "      <td>717</td>\n",
       "    </tr>\n",
       "    <tr>\n",
       "      <th>4</th>\n",
       "      <td>2019-08-05</td>\n",
       "      <td>A</td>\n",
       "      <td>756</td>\n",
       "    </tr>\n",
       "  </tbody>\n",
       "</table>\n",
       "</div>"
      ],
      "text/plain": [
       "         date group  visitors\n",
       "0  2019-08-01     A       719\n",
       "1  2019-08-02     A       619\n",
       "2  2019-08-03     A       507\n",
       "3  2019-08-04     A       717\n",
       "4  2019-08-05     A       756"
      ]
     },
     "execution_count": 10,
     "metadata": {},
     "output_type": "execute_result"
    }
   ],
   "source": [
    "visitors = pd.read_csv('/datasets/visitors.csv')\n",
    "visitors.head(5)"
   ]
  },
  {
   "cell_type": "code",
   "execution_count": 11,
   "metadata": {},
   "outputs": [
    {
     "name": "stdout",
     "output_type": "stream",
     "text": [
      "<class 'pandas.core.frame.DataFrame'>\n",
      "RangeIndex: 1197 entries, 0 to 1196\n",
      "Data columns (total 5 columns):\n",
      " #   Column         Non-Null Count  Dtype \n",
      "---  ------         --------------  ----- \n",
      " 0   transactionId  1197 non-null   int64 \n",
      " 1   visitorId      1197 non-null   int64 \n",
      " 2   date           1197 non-null   object\n",
      " 3   revenue        1197 non-null   int64 \n",
      " 4   group          1197 non-null   object\n",
      "dtypes: int64(3), object(2)\n",
      "memory usage: 46.9+ KB\n"
     ]
    }
   ],
   "source": [
    "orders.info()"
   ]
  },
  {
   "cell_type": "code",
   "execution_count": 12,
   "metadata": {},
   "outputs": [
    {
     "data": {
      "text/plain": [
       "transactionId    0\n",
       "visitorId        0\n",
       "date             0\n",
       "revenue          0\n",
       "group            0\n",
       "dtype: int64"
      ]
     },
     "execution_count": 12,
     "metadata": {},
     "output_type": "execute_result"
    }
   ],
   "source": [
    "orders.isna().sum()"
   ]
  },
  {
   "cell_type": "code",
   "execution_count": 13,
   "metadata": {},
   "outputs": [
    {
     "name": "stdout",
     "output_type": "stream",
     "text": [
      "<class 'pandas.core.frame.DataFrame'>\n",
      "RangeIndex: 62 entries, 0 to 61\n",
      "Data columns (total 3 columns):\n",
      " #   Column    Non-Null Count  Dtype \n",
      "---  ------    --------------  ----- \n",
      " 0   date      62 non-null     object\n",
      " 1   group     62 non-null     object\n",
      " 2   visitors  62 non-null     int64 \n",
      "dtypes: int64(1), object(2)\n",
      "memory usage: 1.6+ KB\n"
     ]
    }
   ],
   "source": [
    "visitors.info()"
   ]
  },
  {
   "cell_type": "code",
   "execution_count": 14,
   "metadata": {},
   "outputs": [
    {
     "data": {
      "text/plain": [
       "date        0\n",
       "group       0\n",
       "visitors    0\n",
       "dtype: int64"
      ]
     },
     "execution_count": 14,
     "metadata": {},
     "output_type": "execute_result"
    }
   ],
   "source": [
    "visitors.isna().sum()"
   ]
  },
  {
   "cell_type": "code",
   "execution_count": 15,
   "metadata": {},
   "outputs": [
    {
     "data": {
      "text/plain": [
       "0"
      ]
     },
     "execution_count": 15,
     "metadata": {},
     "output_type": "execute_result"
    }
   ],
   "source": [
    "visitors.duplicated().sum()"
   ]
  },
  {
   "cell_type": "code",
   "execution_count": 16,
   "metadata": {},
   "outputs": [
    {
     "data": {
      "text/plain": [
       "0"
      ]
     },
     "execution_count": 16,
     "metadata": {},
     "output_type": "execute_result"
    }
   ],
   "source": [
    "orders.duplicated().sum()"
   ]
  },
  {
   "cell_type": "markdown",
   "metadata": {},
   "source": [
    "Изменим тип данных в дате."
   ]
  },
  {
   "cell_type": "code",
   "execution_count": 17,
   "metadata": {},
   "outputs": [],
   "source": [
    "orders['date'] = pd.to_datetime(orders['date'])"
   ]
  },
  {
   "cell_type": "code",
   "execution_count": 18,
   "metadata": {},
   "outputs": [],
   "source": [
    "orders = pd.read_csv('/datasets/orders.csv', sep=',')\n",
    "orders['date'] = orders['date'].map(\n",
    "    lambda x: dt.datetime.strptime(x, '%Y-%m-%d')\n",
    ")\n",
    "\n",
    "visitors = pd.read_csv('/datasets/visitors.csv', sep=',')\n",
    "visitors['date'] = visitors['date'].map(\n",
    "    lambda x: dt.datetime.strptime(x, '%Y-%m-%d')\n",
    ")"
   ]
  },
  {
   "cell_type": "markdown",
   "metadata": {},
   "source": [
    "Пропуски и полные дубликаты отсутствуют."
   ]
  },
  {
   "cell_type": "markdown",
   "metadata": {},
   "source": [
    "Посчитаем, есть ли пользователи, попавшие в обе группы. Если есть - удалим."
   ]
  },
  {
   "cell_type": "code",
   "execution_count": 19,
   "metadata": {},
   "outputs": [
    {
     "data": {
      "text/plain": [
       "group    58\n",
       "dtype: int64"
      ]
     },
     "execution_count": 19,
     "metadata": {},
     "output_type": "execute_result"
    }
   ],
   "source": [
    "orders.groupby('visitorId').agg({'group': 'nunique'}).query('group>1').count()"
   ]
  },
  {
   "cell_type": "code",
   "execution_count": 20,
   "metadata": {},
   "outputs": [],
   "source": [
    "dupl = orders.groupby('visitorId').agg({'group': 'nunique'}).query('group>1').reset_index()"
   ]
  },
  {
   "cell_type": "code",
   "execution_count": 21,
   "metadata": {},
   "outputs": [],
   "source": [
    "orders = orders[~orders['visitorId'].isin(dupl['visitorId'])]"
   ]
  },
  {
   "cell_type": "code",
   "execution_count": 22,
   "metadata": {},
   "outputs": [
    {
     "data": {
      "text/plain": [
       "group    0\n",
       "dtype: int64"
      ]
     },
     "execution_count": 22,
     "metadata": {},
     "output_type": "execute_result"
    }
   ],
   "source": [
    "orders.groupby('visitorId').agg({'group': 'nunique'}).query('group>1').count()"
   ]
  },
  {
   "cell_type": "markdown",
   "metadata": {},
   "source": [
    "Можно ещё проверить, если ли отрицательное число в выручке, чтобы не искажало результаты."
   ]
  },
  {
   "cell_type": "code",
   "execution_count": 23,
   "metadata": {},
   "outputs": [
    {
     "data": {
      "text/plain": [
       "transactionId    0\n",
       "visitorId        0\n",
       "date             0\n",
       "revenue          0\n",
       "group            0\n",
       "dtype: int64"
      ]
     },
     "execution_count": 23,
     "metadata": {},
     "output_type": "execute_result"
    }
   ],
   "source": [
    "orders.query('revenue<0').count()"
   ]
  },
  {
   "cell_type": "markdown",
   "metadata": {},
   "source": [
    "Посчитаем количество покупателей в каждой группе."
   ]
  },
  {
   "cell_type": "code",
   "execution_count": 24,
   "metadata": {},
   "outputs": [
    {
     "data": {
      "text/plain": [
       "transactionId    468\n",
       "visitorId        468\n",
       "date             468\n",
       "revenue          468\n",
       "group            468\n",
       "dtype: int64"
      ]
     },
     "metadata": {},
     "output_type": "display_data"
    },
    {
     "data": {
      "text/plain": [
       "transactionId    548\n",
       "visitorId        548\n",
       "date             548\n",
       "revenue          548\n",
       "group            548\n",
       "dtype: int64"
      ]
     },
     "metadata": {},
     "output_type": "display_data"
    }
   ],
   "source": [
    "display(orders.query('group==\"A\"').count())\n",
    "display(orders.query('group==\"B\"').count())"
   ]
  },
  {
   "cell_type": "markdown",
   "metadata": {},
   "source": [
    "Таким образом, предобработка данных выявила, что в данных есть пользователи, которые попали в обе группы. Так как такие пересечения влияют на результаты теста, их удалили.\n",
    "Кроме того, стоит обратить внимание, что в группе В больше пользователей, чем в группе А."
   ]
  },
  {
   "cell_type": "markdown",
   "metadata": {},
   "source": [
    "Далее можно переходить к построению графиков."
   ]
  },
  {
   "cell_type": "markdown",
   "metadata": {},
   "source": [
    "Создаем массив уникальных пар значений дат и групп теста."
   ]
  },
  {
   "cell_type": "code",
   "execution_count": 25,
   "metadata": {},
   "outputs": [
    {
     "data": {
      "text/html": [
       "<div>\n",
       "<style scoped>\n",
       "    .dataframe tbody tr th:only-of-type {\n",
       "        vertical-align: middle;\n",
       "    }\n",
       "\n",
       "    .dataframe tbody tr th {\n",
       "        vertical-align: top;\n",
       "    }\n",
       "\n",
       "    .dataframe thead th {\n",
       "        text-align: right;\n",
       "    }\n",
       "</style>\n",
       "<table border=\"1\" class=\"dataframe\">\n",
       "  <thead>\n",
       "    <tr style=\"text-align: right;\">\n",
       "      <th></th>\n",
       "      <th>date</th>\n",
       "      <th>group</th>\n",
       "    </tr>\n",
       "  </thead>\n",
       "  <tbody>\n",
       "    <tr>\n",
       "      <th>0</th>\n",
       "      <td>2019-08-15</td>\n",
       "      <td>B</td>\n",
       "    </tr>\n",
       "    <tr>\n",
       "      <th>7</th>\n",
       "      <td>2019-08-15</td>\n",
       "      <td>A</td>\n",
       "    </tr>\n",
       "    <tr>\n",
       "      <th>45</th>\n",
       "      <td>2019-08-16</td>\n",
       "      <td>A</td>\n",
       "    </tr>\n",
       "    <tr>\n",
       "      <th>47</th>\n",
       "      <td>2019-08-16</td>\n",
       "      <td>B</td>\n",
       "    </tr>\n",
       "    <tr>\n",
       "      <th>55</th>\n",
       "      <td>2019-08-01</td>\n",
       "      <td>A</td>\n",
       "    </tr>\n",
       "  </tbody>\n",
       "</table>\n",
       "</div>"
      ],
      "text/plain": [
       "         date group\n",
       "0  2019-08-15     B\n",
       "7  2019-08-15     A\n",
       "45 2019-08-16     A\n",
       "47 2019-08-16     B\n",
       "55 2019-08-01     A"
      ]
     },
     "execution_count": 25,
     "metadata": {},
     "output_type": "execute_result"
    }
   ],
   "source": [
    "datesGroups = orders[['date','group']].drop_duplicates()\n",
    "datesGroups.head(5)"
   ]
  },
  {
   "cell_type": "markdown",
   "metadata": {},
   "source": [
    "Соберём агрегированные кумулятивные по дням данные о заказах в несколько действий. "
   ]
  },
  {
   "cell_type": "code",
   "execution_count": 26,
   "metadata": {},
   "outputs": [
    {
     "data": {
      "text/html": [
       "<div>\n",
       "<style scoped>\n",
       "    .dataframe tbody tr th:only-of-type {\n",
       "        vertical-align: middle;\n",
       "    }\n",
       "\n",
       "    .dataframe tbody tr th {\n",
       "        vertical-align: top;\n",
       "    }\n",
       "\n",
       "    .dataframe thead th {\n",
       "        text-align: right;\n",
       "    }\n",
       "</style>\n",
       "<table border=\"1\" class=\"dataframe\">\n",
       "  <thead>\n",
       "    <tr style=\"text-align: right;\">\n",
       "      <th></th>\n",
       "      <th>date</th>\n",
       "      <th>group</th>\n",
       "      <th>transactionId</th>\n",
       "      <th>visitorId</th>\n",
       "      <th>revenue</th>\n",
       "    </tr>\n",
       "  </thead>\n",
       "  <tbody>\n",
       "    <tr>\n",
       "      <th>55</th>\n",
       "      <td>2019-08-01</td>\n",
       "      <td>A</td>\n",
       "      <td>23</td>\n",
       "      <td>19</td>\n",
       "      <td>142779</td>\n",
       "    </tr>\n",
       "    <tr>\n",
       "      <th>66</th>\n",
       "      <td>2019-08-01</td>\n",
       "      <td>B</td>\n",
       "      <td>17</td>\n",
       "      <td>17</td>\n",
       "      <td>59758</td>\n",
       "    </tr>\n",
       "    <tr>\n",
       "      <th>175</th>\n",
       "      <td>2019-08-02</td>\n",
       "      <td>A</td>\n",
       "      <td>42</td>\n",
       "      <td>36</td>\n",
       "      <td>234381</td>\n",
       "    </tr>\n",
       "    <tr>\n",
       "      <th>173</th>\n",
       "      <td>2019-08-02</td>\n",
       "      <td>B</td>\n",
       "      <td>40</td>\n",
       "      <td>39</td>\n",
       "      <td>221801</td>\n",
       "    </tr>\n",
       "    <tr>\n",
       "      <th>291</th>\n",
       "      <td>2019-08-03</td>\n",
       "      <td>A</td>\n",
       "      <td>66</td>\n",
       "      <td>60</td>\n",
       "      <td>346854</td>\n",
       "    </tr>\n",
       "  </tbody>\n",
       "</table>\n",
       "</div>"
      ],
      "text/plain": [
       "          date group  transactionId  visitorId  revenue\n",
       "55  2019-08-01     A             23         19   142779\n",
       "66  2019-08-01     B             17         17    59758\n",
       "175 2019-08-02     A             42         36   234381\n",
       "173 2019-08-02     B             40         39   221801\n",
       "291 2019-08-03     A             66         60   346854"
      ]
     },
     "execution_count": 26,
     "metadata": {},
     "output_type": "execute_result"
    }
   ],
   "source": [
    "ordersAggregated = datesGroups.apply(lambda x: orders[np.logical_and(orders['date'] \n",
    "        <= x['date'], orders['group'] == x['group'])]\\\n",
    ".agg({'date' : 'max', 'group' : 'max', 'transactionId' : 'nunique', \n",
    "'visitorId' : 'nunique', 'revenue' : 'sum'}), axis=1).sort_values(by=['date','group'])\n",
    "ordersAggregated.head(5)"
   ]
  },
  {
   "cell_type": "markdown",
   "metadata": {},
   "source": [
    "Соберем агрегированные кумулятивные по дням данные о посетителях интернет-магазина."
   ]
  },
  {
   "cell_type": "code",
   "execution_count": 27,
   "metadata": {},
   "outputs": [
    {
     "data": {
      "text/html": [
       "<div>\n",
       "<style scoped>\n",
       "    .dataframe tbody tr th:only-of-type {\n",
       "        vertical-align: middle;\n",
       "    }\n",
       "\n",
       "    .dataframe tbody tr th {\n",
       "        vertical-align: top;\n",
       "    }\n",
       "\n",
       "    .dataframe thead th {\n",
       "        text-align: right;\n",
       "    }\n",
       "</style>\n",
       "<table border=\"1\" class=\"dataframe\">\n",
       "  <thead>\n",
       "    <tr style=\"text-align: right;\">\n",
       "      <th></th>\n",
       "      <th>date</th>\n",
       "      <th>group</th>\n",
       "      <th>visitors</th>\n",
       "    </tr>\n",
       "  </thead>\n",
       "  <tbody>\n",
       "    <tr>\n",
       "      <th>55</th>\n",
       "      <td>2019-08-01</td>\n",
       "      <td>A</td>\n",
       "      <td>719</td>\n",
       "    </tr>\n",
       "    <tr>\n",
       "      <th>66</th>\n",
       "      <td>2019-08-01</td>\n",
       "      <td>B</td>\n",
       "      <td>713</td>\n",
       "    </tr>\n",
       "    <tr>\n",
       "      <th>175</th>\n",
       "      <td>2019-08-02</td>\n",
       "      <td>A</td>\n",
       "      <td>1338</td>\n",
       "    </tr>\n",
       "    <tr>\n",
       "      <th>173</th>\n",
       "      <td>2019-08-02</td>\n",
       "      <td>B</td>\n",
       "      <td>1294</td>\n",
       "    </tr>\n",
       "    <tr>\n",
       "      <th>291</th>\n",
       "      <td>2019-08-03</td>\n",
       "      <td>A</td>\n",
       "      <td>1845</td>\n",
       "    </tr>\n",
       "  </tbody>\n",
       "</table>\n",
       "</div>"
      ],
      "text/plain": [
       "          date group  visitors\n",
       "55  2019-08-01     A       719\n",
       "66  2019-08-01     B       713\n",
       "175 2019-08-02     A      1338\n",
       "173 2019-08-02     B      1294\n",
       "291 2019-08-03     A      1845"
      ]
     },
     "execution_count": 27,
     "metadata": {},
     "output_type": "execute_result"
    }
   ],
   "source": [
    "visitorsAggregated = datesGroups.apply(lambda x: visitors[np.logical_and(visitors['date'] \n",
    "<= x['date'], visitors['group'] == x['group'])]\\\n",
    ".agg({'date' : 'max', 'group' : 'max', 'visitors' : 'sum'}), axis=1).sort_values(by=['date','group'])\n",
    "visitorsAggregated.head(5)"
   ]
  },
  {
   "cell_type": "markdown",
   "metadata": {},
   "source": [
    "Объединяем кумулятивные данные в одной таблице."
   ]
  },
  {
   "cell_type": "code",
   "execution_count": 28,
   "metadata": {},
   "outputs": [
    {
     "data": {
      "text/html": [
       "<div>\n",
       "<style scoped>\n",
       "    .dataframe tbody tr th:only-of-type {\n",
       "        vertical-align: middle;\n",
       "    }\n",
       "\n",
       "    .dataframe tbody tr th {\n",
       "        vertical-align: top;\n",
       "    }\n",
       "\n",
       "    .dataframe thead th {\n",
       "        text-align: right;\n",
       "    }\n",
       "</style>\n",
       "<table border=\"1\" class=\"dataframe\">\n",
       "  <thead>\n",
       "    <tr style=\"text-align: right;\">\n",
       "      <th></th>\n",
       "      <th>date</th>\n",
       "      <th>group</th>\n",
       "      <th>orders</th>\n",
       "      <th>buyers</th>\n",
       "      <th>revenue</th>\n",
       "      <th>visitors</th>\n",
       "    </tr>\n",
       "  </thead>\n",
       "  <tbody>\n",
       "    <tr>\n",
       "      <th>0</th>\n",
       "      <td>2019-08-01</td>\n",
       "      <td>A</td>\n",
       "      <td>23</td>\n",
       "      <td>19</td>\n",
       "      <td>142779</td>\n",
       "      <td>719</td>\n",
       "    </tr>\n",
       "    <tr>\n",
       "      <th>1</th>\n",
       "      <td>2019-08-01</td>\n",
       "      <td>B</td>\n",
       "      <td>17</td>\n",
       "      <td>17</td>\n",
       "      <td>59758</td>\n",
       "      <td>713</td>\n",
       "    </tr>\n",
       "    <tr>\n",
       "      <th>2</th>\n",
       "      <td>2019-08-02</td>\n",
       "      <td>A</td>\n",
       "      <td>42</td>\n",
       "      <td>36</td>\n",
       "      <td>234381</td>\n",
       "      <td>1338</td>\n",
       "    </tr>\n",
       "    <tr>\n",
       "      <th>3</th>\n",
       "      <td>2019-08-02</td>\n",
       "      <td>B</td>\n",
       "      <td>40</td>\n",
       "      <td>39</td>\n",
       "      <td>221801</td>\n",
       "      <td>1294</td>\n",
       "    </tr>\n",
       "    <tr>\n",
       "      <th>4</th>\n",
       "      <td>2019-08-03</td>\n",
       "      <td>A</td>\n",
       "      <td>66</td>\n",
       "      <td>60</td>\n",
       "      <td>346854</td>\n",
       "      <td>1845</td>\n",
       "    </tr>\n",
       "  </tbody>\n",
       "</table>\n",
       "</div>"
      ],
      "text/plain": [
       "        date group  orders  buyers  revenue  visitors\n",
       "0 2019-08-01     A      23      19   142779       719\n",
       "1 2019-08-01     B      17      17    59758       713\n",
       "2 2019-08-02     A      42      36   234381      1338\n",
       "3 2019-08-02     B      40      39   221801      1294\n",
       "4 2019-08-03     A      66      60   346854      1845"
      ]
     },
     "execution_count": 28,
     "metadata": {},
     "output_type": "execute_result"
    }
   ],
   "source": [
    "cumulativeData = ordersAggregated.merge(visitorsAggregated, left_on=['date', 'group'], right_on=['date', 'group'])\n",
    "cumulativeData.columns = ['date', 'group', 'orders', 'buyers', 'revenue', 'visitors']\n",
    "cumulativeData.head(5)"
   ]
  },
  {
   "cell_type": "markdown",
   "metadata": {},
   "source": [
    "Посмотрим даты начала и конца в таблице."
   ]
  },
  {
   "cell_type": "code",
   "execution_count": 29,
   "metadata": {},
   "outputs": [
    {
     "data": {
      "text/plain": [
       "Timestamp('2019-08-01 00:00:00')"
      ]
     },
     "execution_count": 29,
     "metadata": {},
     "output_type": "execute_result"
    }
   ],
   "source": [
    "cumulativeData['date'].min()"
   ]
  },
  {
   "cell_type": "code",
   "execution_count": 30,
   "metadata": {},
   "outputs": [
    {
     "data": {
      "text/plain": [
       "Timestamp('2019-08-31 00:00:00')"
      ]
     },
     "execution_count": 30,
     "metadata": {},
     "output_type": "execute_result"
    }
   ],
   "source": [
    "cumulativeData['date'].max()"
   ]
  },
  {
   "cell_type": "markdown",
   "metadata": {},
   "source": [
    "Теперь, подготовив данные, можно построить графи кумулятивной выручки по группам."
   ]
  },
  {
   "cell_type": "code",
   "execution_count": 31,
   "metadata": {},
   "outputs": [
    {
     "data": {
      "image/png": "[encoded data removed]",
      "text/plain": [
       "<Figure size 720x720 with 1 Axes>"
      ]
     },
     "metadata": {
      "needs_background": "light"
     },
     "output_type": "display_data"
    }
   ],
   "source": [
    "cumulativeRevenueA = cumulativeData[cumulativeData['group']=='A'][['date','revenue', 'orders']]\n",
    "cumulativeRevenueB = cumulativeData[cumulativeData['group']=='B'][['date','revenue', 'orders']]\n",
    "\n",
    "plt.figure(figsize=(10, 10))\n",
    "plt.plot(cumulativeRevenueA['date'], cumulativeRevenueA['revenue'], label='A')\n",
    "plt.plot(cumulativeRevenueB['date'], cumulativeRevenueB['revenue'], label='B')\n",
    "\n",
    "plt.xlabel('Дата')\n",
    "plt.ylabel('Выручка с накоплением')\n",
    "plt.xticks(rotation=45)\n",
    "plt.title('Изменение выручки по группам') \n",
    "plt.grid()\n",
    "plt.legend()\n",
    "plt.show()"
   ]
  },
  {
   "cell_type": "markdown",
   "metadata": {},
   "source": [
    "Выручка увеличивается неравномерно. По графику видно, что лучше себя показала группа B, с самого начала эксперимента группа А отстает. Возможно, покупатели из группы В делали дорогие покупки или по какой-то причине с середины месяца стали покупать больше, т.е увеличилось число заказов."
   ]
  },
  {
   "cell_type": "markdown",
   "metadata": {},
   "source": [
    "2. Постройте график кумулятивного среднего чека по группам. Сделайте выводы и предположения."
   ]
  },
  {
   "cell_type": "code",
   "execution_count": 32,
   "metadata": {},
   "outputs": [
    {
     "data": {
      "image/png": "[encoded data removed]",
      "text/plain": [
       "<Figure size 720x720 with 1 Axes>"
      ]
     },
     "metadata": {
      "needs_background": "light"
     },
     "output_type": "display_data"
    }
   ],
   "source": [
    "plt.figure(figsize=(10, 10))\n",
    "\n",
    "plt.plot(cumulativeRevenueA['date'], cumulativeRevenueA['revenue']/cumulativeRevenueA['orders'], label='A')\n",
    "plt.plot(cumulativeRevenueB['date'], cumulativeRevenueB['revenue']/cumulativeRevenueB['orders'], label='B')\n",
    "\n",
    "plt.xlabel('Дата')\n",
    "plt.ylabel('Средний чек')\n",
    "plt.xticks(rotation=45)\n",
    "plt.title('Изменение среднего чека по группам') \n",
    "plt.grid()\n",
    "plt.legend()\n",
    "plt.show()"
   ]
  },
  {
   "cell_type": "markdown",
   "metadata": {},
   "source": [
    "Средний чек изменяется неравномерно. Группа В с середины месяца значительно оторвалась вперед по сравнению с группой А опять с середины месяца, на графике виден резкий всплеск. Возможно, в группу B попали крупные заказы."
   ]
  },
  {
   "cell_type": "markdown",
   "metadata": {},
   "source": [
    "3. Постройте график относительного изменения кумулятивного среднего чека группы B к группе A. Сделайте выводы и предположения."
   ]
  },
  {
   "cell_type": "code",
   "execution_count": 33,
   "metadata": {
    "scrolled": false
   },
   "outputs": [
    {
     "data": {
      "image/png": "[encoded data removed]",
      "text/plain": [
       "<Figure size 720x720 with 1 Axes>"
      ]
     },
     "metadata": {
      "needs_background": "light"
     },
     "output_type": "display_data"
    }
   ],
   "source": [
    "plt.figure(figsize=(10, 10))\n",
    "mergedCumulativeRevenue = cumulativeRevenueA.merge(cumulativeRevenueB, \n",
    "left_on='date', right_on='date', how='left', suffixes=['A', 'B'])\n",
    "\n",
    "plt.plot(mergedCumulativeRevenue['date'], \n",
    "(mergedCumulativeRevenue['revenueB']/mergedCumulativeRevenue['ordersB'])/\n",
    "(mergedCumulativeRevenue['revenueA']/mergedCumulativeRevenue['ordersA'])-1)\n",
    "\n",
    "plt.axhline(y=0, color='black', linestyle='--')\n",
    "plt.xticks(rotation=45)\n",
    "plt.xlabel('Дата')\n",
    "plt.ylabel('Средний чек')\n",
    "plt.title('Изменение среднего чека группы В к группе А') \n",
    "plt.grid()\n",
    "plt.show()"
   ]
  },
  {
   "cell_type": "markdown",
   "metadata": {},
   "source": [
    "График различия между группами скачет, наблюдаются резкие всплески, т.е. график \"колеблется\". Впоследствии нужно будет обратить внимание на аномалии и дорогие заказы."
   ]
  },
  {
   "cell_type": "markdown",
   "metadata": {},
   "source": [
    "4. Постройте график кумулятивного среднего количества заказов на посетителя по группам. Сделайте выводы и предположения."
   ]
  },
  {
   "cell_type": "code",
   "execution_count": 34,
   "metadata": {},
   "outputs": [],
   "source": [
    "cumulativeData['conversion'] = cumulativeData['orders']/cumulativeData['visitors']\n",
    "cumulativeDataA = cumulativeData[cumulativeData['group']=='A']\n",
    "cumulativeDataB = cumulativeData[cumulativeData['group']=='B']"
   ]
  },
  {
   "cell_type": "code",
   "execution_count": 35,
   "metadata": {},
   "outputs": [
    {
     "data": {
      "text/plain": [
       "0.023842917251051893"
      ]
     },
     "execution_count": 35,
     "metadata": {},
     "output_type": "execute_result"
    }
   ],
   "source": [
    "cumulativeData['conversion'].min()"
   ]
  },
  {
   "cell_type": "code",
   "execution_count": 36,
   "metadata": {},
   "outputs": [
    {
     "data": {
      "text/plain": [
       "0.03577235772357724"
      ]
     },
     "execution_count": 36,
     "metadata": {},
     "output_type": "execute_result"
    }
   ],
   "source": [
    "cumulativeData['conversion'].max()"
   ]
  },
  {
   "cell_type": "code",
   "execution_count": 37,
   "metadata": {},
   "outputs": [
    {
     "data": {
      "image/png": "[encoded data removed]",
      "text/plain": [
       "<Figure size 720x720 with 1 Axes>"
      ]
     },
     "metadata": {
      "needs_background": "light"
     },
     "output_type": "display_data"
    }
   ],
   "source": [
    "plt.figure(figsize=(10, 10))\n",
    "plt.plot(cumulativeDataA['date'], cumulativeDataA['conversion'], label='A')\n",
    "plt.plot(cumulativeDataB['date'], cumulativeDataB['conversion'], label='B')\n",
    "plt.axis([dt.datetime(2019, 8, 1), dt.datetime(2019, 8, 31), 0.022, 0.036])\n",
    "\n",
    "plt.xlabel('Дата')\n",
    "plt.ylabel('Заказы')\n",
    "plt.title('Среднее количество заказов на посетителя по группам') \n",
    "plt.xticks(rotation=45)\n",
    "plt.grid()\n",
    "plt.legend()\n",
    "plt.show()"
   ]
  },
  {
   "cell_type": "markdown",
   "metadata": {},
   "source": [
    "Среднее количество заказов у группы В после \"провала\" в начале начало резко расти, в то время как у группы А после скачка в начале наблюдается резкий спад. В целом, уже в середине первой неделе теста группа В по кол-ву закзов вырвалась очень сильно вперед по сравнению с группой А."
   ]
  },
  {
   "cell_type": "markdown",
   "metadata": {},
   "source": [
    "5. Постройте график относительного изменения кумулятивного среднего количества заказов на посетителя группы B к группе A. Сделайте выводы и предположения."
   ]
  },
  {
   "cell_type": "code",
   "execution_count": 38,
   "metadata": {},
   "outputs": [
    {
     "data": {
      "image/png": "[encoded data removed]",
      "text/plain": [
       "<Figure size 720x720 with 1 Axes>"
      ]
     },
     "metadata": {
      "needs_background": "light"
     },
     "output_type": "display_data"
    }
   ],
   "source": [
    "plt.figure(figsize=(10, 10))\n",
    "mergedCumulativeConversions = cumulativeDataA[['date',\n",
    "'conversion']].merge(cumulativeDataB[['date','conversion']], \n",
    "left_on='date', right_on='date', how='left', suffixes=['A', 'B'])\n",
    "\n",
    "plt.plot(mergedCumulativeConversions['date'], \n",
    "mergedCumulativeConversions['conversionB']/mergedCumulativeConversions['conversionA']-1)\n",
    "\n",
    "plt.axhline(y=0, color='black', linestyle='--')\n",
    "plt.axhline(y=-0.1, color='grey', linestyle='--')\n",
    "\n",
    "plt.axis([dt.datetime(2019, 8, 1), dt.datetime(2019, 8, 31), -0.3, 0.3])\n",
    "plt.xticks(rotation=45)\n",
    "plt.xlabel('Дата')\n",
    "plt.ylabel('Заказы')\n",
    "plt.title('Относительный прирост кумулятивного среднего количества заказов на посетителя группы B относительно группы A') \n",
    "plt.grid()\n",
    "plt.show()"
   ]
  },
  {
   "cell_type": "markdown",
   "metadata": {},
   "source": [
    "В начале группа В проигрывала группе А, но затем вырвалась вперед, и показатель стал быстро расти."
   ]
  },
  {
   "cell_type": "markdown",
   "metadata": {},
   "source": [
    "6. Постройте точечный график количества заказов по пользователям. Сделайте выводы и предположения."
   ]
  },
  {
   "cell_type": "code",
   "execution_count": 39,
   "metadata": {},
   "outputs": [
    {
     "data": {
      "text/html": [
       "<div>\n",
       "<style scoped>\n",
       "    .dataframe tbody tr th:only-of-type {\n",
       "        vertical-align: middle;\n",
       "    }\n",
       "\n",
       "    .dataframe tbody tr th {\n",
       "        vertical-align: top;\n",
       "    }\n",
       "\n",
       "    .dataframe thead th {\n",
       "        text-align: right;\n",
       "    }\n",
       "</style>\n",
       "<table border=\"1\" class=\"dataframe\">\n",
       "  <thead>\n",
       "    <tr style=\"text-align: right;\">\n",
       "      <th></th>\n",
       "      <th>visitorId</th>\n",
       "      <th>transactionId</th>\n",
       "    </tr>\n",
       "  </thead>\n",
       "  <tbody>\n",
       "    <tr>\n",
       "      <th>908</th>\n",
       "      <td>3967698036</td>\n",
       "      <td>3</td>\n",
       "    </tr>\n",
       "    <tr>\n",
       "      <th>55</th>\n",
       "      <td>249864742</td>\n",
       "      <td>3</td>\n",
       "    </tr>\n",
       "    <tr>\n",
       "      <th>478</th>\n",
       "      <td>2108163459</td>\n",
       "      <td>3</td>\n",
       "    </tr>\n",
       "    <tr>\n",
       "      <th>687</th>\n",
       "      <td>2988190573</td>\n",
       "      <td>3</td>\n",
       "    </tr>\n",
       "    <tr>\n",
       "      <th>890</th>\n",
       "      <td>3908431265</td>\n",
       "      <td>3</td>\n",
       "    </tr>\n",
       "    <tr>\n",
       "      <th>...</th>\n",
       "      <td>...</td>\n",
       "      <td>...</td>\n",
       "    </tr>\n",
       "    <tr>\n",
       "      <th>331</th>\n",
       "      <td>1438226485</td>\n",
       "      <td>1</td>\n",
       "    </tr>\n",
       "    <tr>\n",
       "      <th>332</th>\n",
       "      <td>1452540367</td>\n",
       "      <td>1</td>\n",
       "    </tr>\n",
       "    <tr>\n",
       "      <th>333</th>\n",
       "      <td>1455323168</td>\n",
       "      <td>1</td>\n",
       "    </tr>\n",
       "    <tr>\n",
       "      <th>334</th>\n",
       "      <td>1455861274</td>\n",
       "      <td>1</td>\n",
       "    </tr>\n",
       "    <tr>\n",
       "      <th>972</th>\n",
       "      <td>4283872382</td>\n",
       "      <td>1</td>\n",
       "    </tr>\n",
       "  </tbody>\n",
       "</table>\n",
       "<p>973 rows × 2 columns</p>\n",
       "</div>"
      ],
      "text/plain": [
       "      visitorId  transactionId\n",
       "908  3967698036              3\n",
       "55    249864742              3\n",
       "478  2108163459              3\n",
       "687  2988190573              3\n",
       "890  3908431265              3\n",
       "..          ...            ...\n",
       "331  1438226485              1\n",
       "332  1452540367              1\n",
       "333  1455323168              1\n",
       "334  1455861274              1\n",
       "972  4283872382              1\n",
       "\n",
       "[973 rows x 2 columns]"
      ]
     },
     "execution_count": 39,
     "metadata": {},
     "output_type": "execute_result"
    }
   ],
   "source": [
    "visitors_transactions = orders.groupby('visitorId',\n",
    "as_index=False).agg({'transactionId': 'nunique'}).sort_values(by='transactionId', ascending=False)\n",
    "visitors_transactions"
   ]
  },
  {
   "cell_type": "code",
   "execution_count": 40,
   "metadata": {},
   "outputs": [
    {
     "data": {
      "text/plain": [
       "count   973.0\n",
       "mean      1.0\n",
       "std       0.2\n",
       "min       1.0\n",
       "25%       1.0\n",
       "50%       1.0\n",
       "75%       1.0\n",
       "max       3.0\n",
       "Name: transactionId, dtype: float64"
      ]
     },
     "execution_count": 40,
     "metadata": {},
     "output_type": "execute_result"
    }
   ],
   "source": [
    "visitors_transactions['transactionId'].describe()"
   ]
  },
  {
   "cell_type": "code",
   "execution_count": 41,
   "metadata": {},
   "outputs": [
    {
     "data": {
      "image/png": "[encoded data removed]",
      "text/plain": [
       "<Figure size 720x576 with 1 Axes>"
      ]
     },
     "metadata": {
      "needs_background": "light"
     },
     "output_type": "display_data"
    }
   ],
   "source": [
    "plt.figure(figsize=(10, 8))\n",
    "plt.scatter(visitors_transactions['visitorId'], visitors_transactions['transactionId'])\n",
    "plt.xlabel('Идентификатор пользователя')\n",
    "plt.ylabel('Количество заказов')\n",
    "plt.title('Распределение заказов по пользователям')\n",
    "plt.grid()\n",
    "plt.show()"
   ]
  },
  {
   "cell_type": "markdown",
   "metadata": {},
   "source": [
    "Большинство пользователей совершают по 1 заказу, иногда (гораздо меньше) по 2. Всё, что больше, на графике отмечено единичными точками: это выбросы."
   ]
  },
  {
   "cell_type": "markdown",
   "metadata": {},
   "source": [
    "7. Посчитайте 95-й и 99-й перцентили количества заказов на пользователя. Выберите границу для определения аномальных пользователей."
   ]
  },
  {
   "cell_type": "code",
   "execution_count": 42,
   "metadata": {},
   "outputs": [
    {
     "data": {
      "text/plain": [
       "array([1., 2.])"
      ]
     },
     "execution_count": 42,
     "metadata": {},
     "output_type": "execute_result"
    }
   ],
   "source": [
    "np.percentile(visitors_transactions['transactionId'], [95, 99])"
   ]
  },
  {
   "cell_type": "markdown",
   "metadata": {},
   "source": [
    "Менее чем на 5% пользователей приходится более 1-го заказа, менее 1% - 2 . Границу для определения аномальных пользователей можно определить в 2 заказа. "
   ]
  },
  {
   "cell_type": "markdown",
   "metadata": {},
   "source": [
    "8. Постройте точечный график стоимостей заказов. Сделайте выводы и предположения."
   ]
  },
  {
   "cell_type": "code",
   "execution_count": 43,
   "metadata": {
    "scrolled": false
   },
   "outputs": [
    {
     "data": {
      "image/png": "[encoded data removed]",
      "text/plain": [
       "<Figure size 720x576 with 1 Axes>"
      ]
     },
     "metadata": {
      "needs_background": "light"
     },
     "output_type": "display_data"
    }
   ],
   "source": [
    "plt.figure(figsize=(10, 8))\n",
    "x_values = pd.Series(range(0,len(orders)))\n",
    "plt.scatter(x_values, orders['revenue'])\n",
    "plt.xlabel('Кол-во пользователей')\n",
    "plt.ylabel('Выручка')\n",
    "plt.title('Распределение стоимости заказов')\n",
    "plt.grid()\n",
    "plt.show()"
   ]
  },
  {
   "cell_type": "markdown",
   "metadata": {},
   "source": [
    "Большинство покупателей совершают покупки в пределах 20000."
   ]
  },
  {
   "cell_type": "markdown",
   "metadata": {},
   "source": [
    "9. Посчитайте 95-й и 99-й перцентили стоимости заказов. Выберите границу для определения аномальных заказов."
   ]
  },
  {
   "cell_type": "code",
   "execution_count": 44,
   "metadata": {},
   "outputs": [
    {
     "data": {
      "text/plain": [
       "array([26785., 53904.])"
      ]
     },
     "execution_count": 44,
     "metadata": {},
     "output_type": "execute_result"
    }
   ],
   "source": [
    "np.percentile(orders['revenue'], [95, 99])"
   ]
  },
  {
   "cell_type": "markdown",
   "metadata": {},
   "source": [
    "Менее 5% покупают товары дорожен 26785 и менее 1% = 53904.\n",
    "\n",
    "Граница для определения аномальных заказов - 26785."
   ]
  },
  {
   "cell_type": "markdown",
   "metadata": {},
   "source": [
    "10. Посчитайте статистическую значимость различий в среднем количестве заказов на посетителя между группами по «сырым» данным. Сделайте выводы и предположения."
   ]
  },
  {
   "cell_type": "code",
   "execution_count": 45,
   "metadata": {},
   "outputs": [
    {
     "data": {
      "text/html": [
       "<div>\n",
       "<style scoped>\n",
       "    .dataframe tbody tr th:only-of-type {\n",
       "        vertical-align: middle;\n",
       "    }\n",
       "\n",
       "    .dataframe tbody tr th {\n",
       "        vertical-align: top;\n",
       "    }\n",
       "\n",
       "    .dataframe thead th {\n",
       "        text-align: right;\n",
       "    }\n",
       "</style>\n",
       "<table border=\"1\" class=\"dataframe\">\n",
       "  <thead>\n",
       "    <tr style=\"text-align: right;\">\n",
       "      <th></th>\n",
       "      <th>date</th>\n",
       "      <th>ordersPerDateA</th>\n",
       "      <th>revenuePerDateA</th>\n",
       "      <th>ordersPerDateB</th>\n",
       "      <th>revenuePerDateB</th>\n",
       "      <th>ordersCummulativeA</th>\n",
       "      <th>revenueCummulativeA</th>\n",
       "      <th>ordersCummulativeB</th>\n",
       "      <th>revenueCummulativeB</th>\n",
       "      <th>visitorsPerDateA</th>\n",
       "      <th>visitorsPerDateB</th>\n",
       "      <th>visitorsCummulativeA</th>\n",
       "      <th>visitorsCummulativeB</th>\n",
       "    </tr>\n",
       "  </thead>\n",
       "  <tbody>\n",
       "    <tr>\n",
       "      <th>0</th>\n",
       "      <td>2019-08-01</td>\n",
       "      <td>23</td>\n",
       "      <td>142779</td>\n",
       "      <td>17</td>\n",
       "      <td>59758</td>\n",
       "      <td>23</td>\n",
       "      <td>142779</td>\n",
       "      <td>17</td>\n",
       "      <td>59758</td>\n",
       "      <td>719</td>\n",
       "      <td>713</td>\n",
       "      <td>719</td>\n",
       "      <td>713</td>\n",
       "    </tr>\n",
       "    <tr>\n",
       "      <th>1</th>\n",
       "      <td>2019-08-02</td>\n",
       "      <td>19</td>\n",
       "      <td>91602</td>\n",
       "      <td>23</td>\n",
       "      <td>162043</td>\n",
       "      <td>42</td>\n",
       "      <td>234381</td>\n",
       "      <td>40</td>\n",
       "      <td>221801</td>\n",
       "      <td>619</td>\n",
       "      <td>581</td>\n",
       "      <td>1338</td>\n",
       "      <td>1294</td>\n",
       "    </tr>\n",
       "    <tr>\n",
       "      <th>2</th>\n",
       "      <td>2019-08-03</td>\n",
       "      <td>24</td>\n",
       "      <td>112473</td>\n",
       "      <td>14</td>\n",
       "      <td>67049</td>\n",
       "      <td>66</td>\n",
       "      <td>346854</td>\n",
       "      <td>54</td>\n",
       "      <td>288850</td>\n",
       "      <td>507</td>\n",
       "      <td>509</td>\n",
       "      <td>1845</td>\n",
       "      <td>1803</td>\n",
       "    </tr>\n",
       "    <tr>\n",
       "      <th>3</th>\n",
       "      <td>2019-08-04</td>\n",
       "      <td>11</td>\n",
       "      <td>41176</td>\n",
       "      <td>14</td>\n",
       "      <td>96890</td>\n",
       "      <td>77</td>\n",
       "      <td>388030</td>\n",
       "      <td>68</td>\n",
       "      <td>385740</td>\n",
       "      <td>717</td>\n",
       "      <td>770</td>\n",
       "      <td>2562</td>\n",
       "      <td>2573</td>\n",
       "    </tr>\n",
       "    <tr>\n",
       "      <th>4</th>\n",
       "      <td>2019-08-05</td>\n",
       "      <td>22</td>\n",
       "      <td>86383</td>\n",
       "      <td>21</td>\n",
       "      <td>89908</td>\n",
       "      <td>99</td>\n",
       "      <td>474413</td>\n",
       "      <td>89</td>\n",
       "      <td>475648</td>\n",
       "      <td>756</td>\n",
       "      <td>707</td>\n",
       "      <td>3318</td>\n",
       "      <td>3280</td>\n",
       "    </tr>\n",
       "  </tbody>\n",
       "</table>\n",
       "</div>"
      ],
      "text/plain": [
       "        date  ordersPerDateA  revenuePerDateA  ordersPerDateB  \\\n",
       "0 2019-08-01              23           142779              17   \n",
       "1 2019-08-02              19            91602              23   \n",
       "2 2019-08-03              24           112473              14   \n",
       "3 2019-08-04              11            41176              14   \n",
       "4 2019-08-05              22            86383              21   \n",
       "\n",
       "   revenuePerDateB  ordersCummulativeA  revenueCummulativeA  \\\n",
       "0            59758                  23               142779   \n",
       "1           162043                  42               234381   \n",
       "2            67049                  66               346854   \n",
       "3            96890                  77               388030   \n",
       "4            89908                  99               474413   \n",
       "\n",
       "   ordersCummulativeB  revenueCummulativeB  visitorsPerDateA  \\\n",
       "0                  17                59758               719   \n",
       "1                  40               221801               619   \n",
       "2                  54               288850               507   \n",
       "3                  68               385740               717   \n",
       "4                  89               475648               756   \n",
       "\n",
       "   visitorsPerDateB  visitorsCummulativeA  visitorsCummulativeB  \n",
       "0               713                   719                   713  \n",
       "1               581                  1338                  1294  \n",
       "2               509                  1845                  1803  \n",
       "3               770                  2562                  2573  \n",
       "4               707                  3318                  3280  "
      ]
     },
     "execution_count": 45,
     "metadata": {},
     "output_type": "execute_result"
    }
   ],
   "source": [
    "visitorsADaily = visitors[visitors['group'] == 'A'][['date', 'visitors']]\n",
    "visitorsADaily.columns = ['date', 'visitorsPerDateA']\n",
    "\n",
    "visitorsACummulative = visitorsADaily.apply(\n",
    "    lambda x: visitorsADaily[visitorsADaily['date'] <= x['date']].agg(\n",
    "        {'date': 'max', 'visitorsPerDateA': 'sum'}\n",
    "    ),\n",
    "    axis=1,\n",
    ")\n",
    "visitorsACummulative.columns = ['date', 'visitorsCummulativeA']\n",
    "\n",
    "visitorsBDaily = visitors[visitors['group'] == 'B'][['date', 'visitors']]\n",
    "visitorsBDaily.columns = ['date', 'visitorsPerDateB']\n",
    "\n",
    "visitorsBCummulative = visitorsBDaily.apply(\n",
    "    lambda x: visitorsBDaily[visitorsBDaily['date'] <= x['date']].agg(\n",
    "        {'date': 'max', 'visitorsPerDateB': 'sum'}\n",
    "    ),\n",
    "    axis=1,\n",
    ")\n",
    "visitorsBCummulative.columns = ['date', 'visitorsCummulativeB']\n",
    "\n",
    "ordersADaily = (\n",
    "    orders[orders['group'] == 'A'][['date', 'transactionId', 'visitorId', 'revenue']]\n",
    "    .groupby('date', as_index=False)\n",
    "    .agg({'transactionId': pd.Series.nunique, 'revenue': 'sum'})\n",
    ")\n",
    "ordersADaily.columns = ['date', 'ordersPerDateA', 'revenuePerDateA']\n",
    "\n",
    "ordersACummulative = ordersADaily.apply(\n",
    "    lambda x: ordersADaily[ordersADaily['date'] <= x['date']].agg(\n",
    "        {'date': 'max', 'ordersPerDateA': 'sum', 'revenuePerDateA': 'sum'}\n",
    "    ),\n",
    "    axis=1,\n",
    ").sort_values(by=['date'])\n",
    "ordersACummulative.columns = [\n",
    "    'date',\n",
    "    'ordersCummulativeA',\n",
    "    'revenueCummulativeA',\n",
    "]\n",
    "\n",
    "ordersBDaily = (\n",
    "    orders[orders['group'] == 'B'][['date', 'transactionId', 'visitorId', 'revenue']]\n",
    "    .groupby('date', as_index=False)\n",
    "    .agg({'transactionId': pd.Series.nunique, 'revenue': 'sum'})\n",
    ")\n",
    "ordersBDaily.columns = ['date', 'ordersPerDateB', 'revenuePerDateB']\n",
    "\n",
    "ordersBCummulative = ordersBDaily.apply(\n",
    "    lambda x: ordersBDaily[ordersBDaily['date'] <= x['date']].agg(\n",
    "        {'date': 'max', 'ordersPerDateB': 'sum', 'revenuePerDateB': 'sum'}\n",
    "    ),\n",
    "    axis=1,\n",
    ").sort_values(by=['date'])\n",
    "ordersBCummulative.columns = [\n",
    "    'date',\n",
    "    'ordersCummulativeB',\n",
    "    'revenueCummulativeB',\n",
    "]\n",
    "\n",
    "data = (\n",
    "    ordersADaily.merge(\n",
    "        ordersBDaily, left_on='date', right_on='date', how='left'\n",
    "    )\n",
    "    .merge(ordersACummulative, left_on='date', right_on='date', how='left')\n",
    "    .merge(ordersBCummulative, left_on='date', right_on='date', how='left')\n",
    "    .merge(visitorsADaily, left_on='date', right_on='date', how='left')\n",
    "    .merge(visitorsBDaily, left_on='date', right_on='date', how='left')\n",
    "    .merge(visitorsACummulative, left_on='date', right_on='date', how='left')\n",
    "    .merge(visitorsBCummulative, left_on='date', right_on='date', how='left')\n",
    ")\n",
    "\n",
    "data.head(5)"
   ]
  },
  {
   "cell_type": "markdown",
   "metadata": {},
   "source": [
    "Создадим переменные ordersByUsersA и ordersByUsersB со столбцами ['visitorId', 'orders']. В них для пользователей, которые заказывали хотя бы 1 раз, укажем число совершённых заказов. "
   ]
  },
  {
   "cell_type": "code",
   "execution_count": 46,
   "metadata": {},
   "outputs": [],
   "source": [
    "ordersByUsersA = (\n",
    "    orders[orders['group'] == 'A']\n",
    "    .groupby('visitorId', as_index=False)\n",
    "    .agg({'transactionId': pd.Series.nunique})\n",
    ")\n",
    "ordersByUsersA.columns = ['visitorId', 'orders']\n",
    "\n",
    "ordersByUsersB = (\n",
    "    orders[orders['group'] == 'B']\n",
    "    .groupby('visitorId', as_index=False)\n",
    "    .agg({'transactionId': pd.Series.nunique})\n",
    ")\n",
    "ordersByUsersB.columns = ['visitorId', 'orders']"
   ]
  },
  {
   "cell_type": "code",
   "execution_count": 47,
   "metadata": {},
   "outputs": [
    {
     "data": {
      "text/plain": [
       "[0      1\n",
       " 1      1\n",
       " 2      1\n",
       " 3      1\n",
       " 4      1\n",
       "       ..\n",
       " 440    1\n",
       " 441    1\n",
       " 442    1\n",
       " 443    1\n",
       " 444    1\n",
       " Name: orders, Length: 445, dtype: int64,\n",
       " 0        0\n",
       " 1        0\n",
       " 2        0\n",
       " 3        0\n",
       " 4        0\n",
       "         ..\n",
       " 18286    0\n",
       " 18287    0\n",
       " 18288    0\n",
       " 18289    0\n",
       " 18290    0\n",
       " Name: orders, Length: 18291, dtype: int64]"
      ]
     },
     "execution_count": 47,
     "metadata": {},
     "output_type": "execute_result"
    }
   ],
   "source": [
    "pd.Series(0, index=np.arange(data['visitorsPerDateA'].sum() - len(ordersByUsersA['orders'])), name='orders')\n",
    "[ordersByUsersA['orders'],\n",
    "pd.Series(0, index=np.arange(data['visitorsPerDateA'].sum() - len(ordersByUsersA['orders'])), name='orders')]"
   ]
  },
  {
   "cell_type": "markdown",
   "metadata": {},
   "source": [
    "**Нулевая гипотеза (H0):** Нет различий между группами по среднему числу заказов.\n",
    "\n",
    "**Альтернативная гипотеза (H1):** Есть различия между группами по среднему числу заказов."
   ]
  },
  {
   "cell_type": "markdown",
   "metadata": {},
   "source": [
    "Выведем относительный прирост среднего числа заказов группы B: \n",
    "среднее число заказов группы B / среднее число заказов группы A - 1.  "
   ]
  },
  {
   "cell_type": "code",
   "execution_count": 48,
   "metadata": {},
   "outputs": [
    {
     "name": "stdout",
     "output_type": "stream",
     "text": [
      "p-value: 0.011\n",
      "различие между А и B в процентах: 16.0\n"
     ]
    }
   ],
   "source": [
    "sampleA = pd.concat([ordersByUsersA['orders'],\n",
    "pd.Series(0, index=np.arange(data['visitorsPerDateA'].sum() - len(ordersByUsersA['orders'])), \n",
    "          name='orders')],axis=0)\n",
    "\n",
    "sampleB = pd.concat([ordersByUsersB['orders'],\n",
    "pd.Series(0, index=np.arange(data['visitorsPerDateB'].sum() - len(ordersByUsersB['orders'])), \n",
    "          name='orders')],axis=0)\n",
    "\n",
    "print(\"p-value: {0:.3f}\".format(stats.mannwhitneyu(sampleA, sampleB)[1]))\n",
    "\n",
    "print(\"различие между А и B в процентах: {0:.1f}\".format((sampleB.mean() / sampleA.mean() - 1)*100))"
   ]
  },
  {
   "cell_type": "markdown",
   "metadata": {},
   "source": [
    "Относительный проигрыш группы А равен 16 %. Так как p.value меньше уровня статистической значимости, нулевую гипотезу о том, что статистически значимых различий в среднем числе заказов между группами нет, **отвергаем**. Выборки статистически значимо отличаются.\n"
   ]
  },
  {
   "cell_type": "markdown",
   "metadata": {},
   "source": [
    "11. Посчитайте статистическую значимость различий в среднем чеке заказа между группами по «сырым» данным. Сделайте выводы и предположения."
   ]
  },
  {
   "cell_type": "markdown",
   "metadata": {},
   "source": [
    "**Нулевая гипотеза (H0):** Нет различий между группами по среднему чеку.\n",
    "\n",
    "**Альтернативная гипотеза (H1):** Есть различия между группами по среднему чеку."
   ]
  },
  {
   "cell_type": "code",
   "execution_count": 49,
   "metadata": {},
   "outputs": [
    {
     "name": "stdout",
     "output_type": "stream",
     "text": [
      "p-value: 0.829\n",
      "различие между А и B в процентах:28.7\n"
     ]
    }
   ],
   "source": [
    "print('p-value: {0:.3f}'.format(stats.mannwhitneyu(orders[orders['group']=='A']['revenue'], \n",
    "orders[orders['group']=='B']['revenue'])[1]))\n",
    "print('различие между А и B в процентах:{0:.1f}'.format((orders[orders\n",
    "['group']=='B']['revenue'].mean()/orders[orders['group']=='A']['revenue'].mean()-1)*100))"
   ]
  },
  {
   "cell_type": "markdown",
   "metadata": {},
   "source": [
    "Различие между группами в пользу группы В в среднем чеке заказа 29%. \n",
    "\n",
    "Так как p.value больше уровня статистической значимости (0.05) нулевую гипотезу о том, что статистически значимых различий в среднем чеке заказа между группами нет, **не отвергаем**, а значит, различие между группами в среднем чеке не являтся статистически значимым.\n",
    "\n"
   ]
  },
  {
   "cell_type": "markdown",
   "metadata": {},
   "source": [
    "12. Посчитайте статистическую значимость различий в среднем количестве заказов на посетителя между группами по «очищенным» данным. Сделайте выводы и предположения."
   ]
  },
  {
   "cell_type": "markdown",
   "metadata": {},
   "source": [
    "При обработке аномалий я определила верхнюю границу в выручке - 26785, в количестве заказов на посетителя - 2."
   ]
  },
  {
   "cell_type": "code",
   "execution_count": 50,
   "metadata": {},
   "outputs": [
    {
     "name": "stdout",
     "output_type": "stream",
     "text": [
      "568     113298937\n",
      "1099    148427295\n",
      "928     204675465\n",
      "33      249864742\n",
      "684     358944393\n",
      "Name: visitorId, dtype: int64\n",
      "58\n"
     ]
    }
   ],
   "source": [
    "usersWithManyOrders = pd.concat(\n",
    "    [\n",
    "        ordersByUsersA[ordersByUsersA['orders'] > 2]['visitorId'],\n",
    "        ordersByUsersB[ordersByUsersB['orders'] > 2]['visitorId'],\n",
    "    ],\n",
    "    axis=0,\n",
    ")\n",
    "usersWithExpensiveOrders = orders[orders['revenue'] > 26785]['visitorId']\n",
    "abnormalUsers = (\n",
    "    pd.concat([usersWithManyOrders, usersWithExpensiveOrders], axis=0)\n",
    "    .drop_duplicates()\n",
    "    .sort_values()\n",
    ")\n",
    "print(abnormalUsers.head(5))\n",
    "print(abnormalUsers.shape[0])"
   ]
  },
  {
   "cell_type": "markdown",
   "metadata": {},
   "source": [
    "Всего 58 аномальных пользователя. Теперь нужно убрать их из данных и провести рассчеты ещё раз, уже по очищенным данным."
   ]
  },
  {
   "cell_type": "code",
   "execution_count": 51,
   "metadata": {},
   "outputs": [],
   "source": [
    "sampleAFiltered = pd.concat(\n",
    "    [\n",
    "        ordersByUsersA[\n",
    "            np.logical_not(ordersByUsersA['visitorId'].isin(abnormalUsers))\n",
    "        ]['orders'],\n",
    "        pd.Series(\n",
    "            0,\n",
    "            index=np.arange(\n",
    "                data['visitorsPerDateA'].sum() - len(ordersByUsersA['orders'])\n",
    "            ),\n",
    "            name='orders',\n",
    "        ),\n",
    "    ],\n",
    "    axis=0,\n",
    ")\n",
    "\n",
    "sampleBFiltered = pd.concat(\n",
    "    [\n",
    "        ordersByUsersB[\n",
    "            np.logical_not(ordersByUsersB['visitorId'].isin(abnormalUsers))\n",
    "        ]['orders'],\n",
    "        pd.Series(\n",
    "            0,\n",
    "            index=np.arange(\n",
    "                data['visitorsPerDateB'].sum() - len(ordersByUsersB['orders'])\n",
    "            ),\n",
    "            name='orders',\n",
    "        ),\n",
    "    ],\n",
    "    axis=0,\n",
    ")"
   ]
  },
  {
   "cell_type": "markdown",
   "metadata": {},
   "source": [
    "Применим статистический критерий Манна-Уитни к полученным выборкам:\n"
   ]
  },
  {
   "cell_type": "code",
   "execution_count": 52,
   "metadata": {},
   "outputs": [
    {
     "name": "stdout",
     "output_type": "stream",
     "text": [
      "p-value: 0.012\n",
      "различие между А и B в процентах:18.2\n"
     ]
    }
   ],
   "source": [
    "print('p-value: {0:.3f}'.format(stats.mannwhitneyu(sampleAFiltered, sampleBFiltered)[1]))\n",
    "print('различие между А и B в процентах:{0:.1f}'.format((sampleBFiltered.mean()/sampleAFiltered.mean()-1)*100))"
   ]
  },
  {
   "cell_type": "markdown",
   "metadata": {},
   "source": [
    "Результаты по среднему количеству заказов: нулевую гипотезу о равенстве среднего количества заказов все равно отвергаем, p-value все ещё меньше уровня статистической значимости. "
   ]
  },
  {
   "cell_type": "markdown",
   "metadata": {},
   "source": [
    "13. Посчитайте статистическую значимость различий в среднем чеке заказа между группами по «очищенным» данным. Сделайте выводы и предположения."
   ]
  },
  {
   "cell_type": "code",
   "execution_count": 53,
   "metadata": {},
   "outputs": [
    {
     "name": "stdout",
     "output_type": "stream",
     "text": [
      "0.646\n",
      "-0.048\n"
     ]
    }
   ],
   "source": [
    "print(\n",
    "    '{0:.3f}'.format(\n",
    "        stats.mannwhitneyu(\n",
    "            orders[\n",
    "                np.logical_and(\n",
    "                    orders['group'] == 'A',\n",
    "                    np.logical_not(orders['visitorId'].isin(abnormalUsers)),\n",
    "                )\n",
    "            ]['revenue'],\n",
    "            orders[\n",
    "                np.logical_and(\n",
    "                    orders['group'] == 'B',\n",
    "                    np.logical_not(orders['visitorId'].isin(abnormalUsers)),\n",
    "                )\n",
    "            ]['revenue'],\n",
    "        )[1]\n",
    "    )\n",
    ")\n",
    "\n",
    "print(\n",
    "    \"{0:.3f}\".format(\n",
    "        orders[\n",
    "            np.logical_and(\n",
    "                orders['group'] == 'B',\n",
    "                np.logical_not(orders['visitorId'].isin(abnormalUsers)),\n",
    "            )\n",
    "        ]['revenue'].mean()\n",
    "        / orders[\n",
    "            np.logical_and(\n",
    "                orders['group'] == 'A',\n",
    "                np.logical_not(orders['visitorId'].isin(abnormalUsers)),\n",
    "            )\n",
    "        ]['revenue'].mean()\n",
    "        - 1\n",
    "    )\n",
    ")"
   ]
  },
  {
   "cell_type": "markdown",
   "metadata": {},
   "source": [
    "В отличие от \"сырых\" данных здесь наблюдает незначительный проигрыш группы В относительно группы А. Однако p-value все ещё выше уровня статистической значимости, хотя и незначительно уменьшился. Значит, нулевую гипотезу о том, что статистически значимых различий в среднем чеке заказа между группами нет, всё ещё **не отвергаем** и незначительный проигрыш группы В не является статистически значимым.\n"
   ]
  },
  {
   "cell_type": "markdown",
   "metadata": {},
   "source": [
    "**Какие можно сделать выводы:**\n",
    "\n",
    "1) Существует статистически значимое различие по среднему количеству заказов между группами и по \"сырым\" данным, и по данным после фильтрации аномалий. Тут лучше себя показала группа В.\n",
    "\n",
    "2) Нет статистически значимого различия по среднему чеку между группами ни по «сырым», ни по данным после фильтрации аномалий.\n",
    "\n",
    "3) График относительного прироста кумулятивного среднего количества заказов на посетителя группы B относительно группы A показывает, что результат группы В лучше.\n",
    "\n",
    "4) График изменения среднего чека колеблется. Сделать из этого графика определённые выводы нельзя.\n",
    "\n",
    "Группа В лидирует в среднем количестве заказов, по среднему чеку нет статистически значимого различия. На основе полученных данных можно выдвинуть предположение закончить тест и зафиксировать победу группы В."
   ]
  },
  {
   "cell_type": "markdown",
   "metadata": {},
   "source": [
    "## Результат\n",
    "\n",
    "**В ходе работы были выполнены следующие задачи:**\n",
    "\n",
    "1) в первой части применены фреймворки ICE и RICE для приоритизации гипотез. Даны объяснения различий в приоритетах в обоих методах;\n",
    "\n",
    "2) во второй части построены графии кумулятивной выручки по группам, кумулятивного среднего чека по группам, относительного изменения кумулятивного среднего чека группы B к группе A, кумулятивного среднего количества заказов на посетителя по группам, относительного изменения кумулятивного среднего количества заказов на посетителя группы B к группе A; также построены графики количества заказов по пользователям и стоимостей заказов;\n",
    "\n",
    "3) посчитана статистическая значимость различий в среднем количестве заказов на посетителя между группами по «сырым» данным и по данным без выбросов;\n",
    "\n",
    "4) посчитана статистическая значимость различий в среднем чеке заказа между группами по «сырым» данным и без аномалий;\n",
    "\n",
    "5) на основе полученных данных выдвинуто предложение закончить тест и зафиксировать победу группы В."
   ]
  }
 ],
 "metadata": {
  "ExecuteTimeLog": [
   {
    "duration": 734,
    "start_time": "2024-11-18T18:57:45.028Z"
   },
   {
    "duration": 78,
    "start_time": "2024-11-18T18:58:47.250Z"
   },
   {
    "duration": 32,
    "start_time": "2024-11-18T18:59:05.748Z"
   },
   {
    "duration": 4,
    "start_time": "2024-11-18T19:05:58.751Z"
   },
   {
    "duration": 6,
    "start_time": "2024-11-18T19:06:00.071Z"
   },
   {
    "duration": 4,
    "start_time": "2024-11-18T19:06:01.120Z"
   },
   {
    "duration": 3,
    "start_time": "2024-11-18T19:06:55.127Z"
   },
   {
    "duration": 11,
    "start_time": "2024-11-18T19:07:00.082Z"
   },
   {
    "duration": 10,
    "start_time": "2024-11-18T19:07:56.741Z"
   },
   {
    "duration": 3,
    "start_time": "2024-11-18T19:08:31.395Z"
   },
   {
    "duration": 35,
    "start_time": "2024-11-18T19:08:31.401Z"
   },
   {
    "duration": 3,
    "start_time": "2024-11-18T19:08:31.438Z"
   },
   {
    "duration": 14,
    "start_time": "2024-11-18T19:08:31.442Z"
   },
   {
    "duration": 18,
    "start_time": "2024-11-18T19:08:31.458Z"
   },
   {
    "duration": 4,
    "start_time": "2024-11-18T19:08:31.478Z"
   },
   {
    "duration": 17,
    "start_time": "2024-11-18T19:08:31.483Z"
   },
   {
    "duration": 100,
    "start_time": "2024-11-18T19:13:22.546Z"
   },
   {
    "duration": 50,
    "start_time": "2024-11-18T19:13:35.780Z"
   },
   {
    "duration": 67,
    "start_time": "2024-11-18T19:14:33.479Z"
   },
   {
    "duration": 30,
    "start_time": "2024-11-18T19:14:55.524Z"
   },
   {
    "duration": 5,
    "start_time": "2024-11-18T19:16:30.909Z"
   },
   {
    "duration": 10,
    "start_time": "2024-11-18T19:16:49.671Z"
   },
   {
    "duration": 54,
    "start_time": "2024-11-18T19:18:59.762Z"
   },
   {
    "duration": 69,
    "start_time": "2024-11-18T19:19:07.107Z"
   },
   {
    "duration": 11,
    "start_time": "2024-11-18T19:19:51.296Z"
   },
   {
    "duration": 149,
    "start_time": "2024-11-18T19:24:17.239Z"
   },
   {
    "duration": 159,
    "start_time": "2024-11-18T19:24:35.189Z"
   },
   {
    "duration": 33,
    "start_time": "2024-11-18T19:26:40.835Z"
   },
   {
    "duration": 101,
    "start_time": "2024-11-18T19:27:23.507Z"
   },
   {
    "duration": 105,
    "start_time": "2024-11-18T19:27:42.959Z"
   },
   {
    "duration": 6,
    "start_time": "2024-11-18T19:28:26.746Z"
   },
   {
    "duration": 11,
    "start_time": "2024-11-18T19:28:39.966Z"
   },
   {
    "duration": 248,
    "start_time": "2024-11-18T19:30:39.758Z"
   },
   {
    "duration": 247,
    "start_time": "2024-11-18T19:31:02.968Z"
   },
   {
    "duration": 412,
    "start_time": "2024-11-18T19:32:09.562Z"
   },
   {
    "duration": 322,
    "start_time": "2024-11-18T19:33:11.841Z"
   },
   {
    "duration": 285,
    "start_time": "2024-11-18T19:34:22.109Z"
   },
   {
    "duration": 7,
    "start_time": "2024-11-18T19:37:11.350Z"
   },
   {
    "duration": 45,
    "start_time": "2024-11-18T19:38:43.322Z"
   },
   {
    "duration": 10,
    "start_time": "2024-11-18T19:40:07.521Z"
   },
   {
    "duration": 9,
    "start_time": "2024-11-18T19:41:00.422Z"
   },
   {
    "duration": 15,
    "start_time": "2024-11-18T19:41:38.397Z"
   },
   {
    "duration": 132,
    "start_time": "2024-11-18T19:43:41.342Z"
   },
   {
    "duration": 8,
    "start_time": "2024-11-18T19:44:19.117Z"
   },
   {
    "duration": 5,
    "start_time": "2024-11-18T19:44:27.657Z"
   },
   {
    "duration": 100,
    "start_time": "2024-11-18T19:44:29.828Z"
   },
   {
    "duration": 104,
    "start_time": "2024-11-18T19:45:08.061Z"
   },
   {
    "duration": 7,
    "start_time": "2024-11-18T19:45:39.514Z"
   },
   {
    "duration": 93,
    "start_time": "2024-11-18T19:46:20.583Z"
   },
   {
    "duration": 6,
    "start_time": "2024-11-18T19:49:45.835Z"
   },
   {
    "duration": 852,
    "start_time": "2024-11-18T19:50:47.095Z"
   },
   {
    "duration": 11,
    "start_time": "2024-11-18T19:51:10.541Z"
   },
   {
    "duration": 145,
    "start_time": "2024-11-18T19:51:45.805Z"
   },
   {
    "duration": 11,
    "start_time": "2024-11-18T19:52:51.111Z"
   },
   {
    "duration": 144,
    "start_time": "2024-11-18T19:52:58.443Z"
   },
   {
    "duration": 812,
    "start_time": "2024-11-19T09:32:59.387Z"
   },
   {
    "duration": 96,
    "start_time": "2024-11-19T09:33:00.201Z"
   },
   {
    "duration": 4,
    "start_time": "2024-11-19T09:33:00.298Z"
   },
   {
    "duration": 42,
    "start_time": "2024-11-19T09:33:00.303Z"
   },
   {
    "duration": 39,
    "start_time": "2024-11-19T09:33:00.347Z"
   },
   {
    "duration": 76,
    "start_time": "2024-11-19T09:33:00.388Z"
   },
   {
    "duration": 48,
    "start_time": "2024-11-19T09:33:00.466Z"
   },
   {
    "duration": 146,
    "start_time": "2024-11-19T09:33:00.516Z"
   },
   {
    "duration": 67,
    "start_time": "2024-11-19T09:33:00.664Z"
   },
   {
    "duration": 10,
    "start_time": "2024-11-19T09:33:00.733Z"
   },
   {
    "duration": 174,
    "start_time": "2024-11-19T09:33:00.744Z"
   },
   {
    "duration": 134,
    "start_time": "2024-11-19T09:33:00.919Z"
   },
   {
    "duration": 13,
    "start_time": "2024-11-19T09:33:01.055Z"
   },
   {
    "duration": 366,
    "start_time": "2024-11-19T09:33:01.070Z"
   },
   {
    "duration": 0,
    "start_time": "2024-11-19T09:33:01.437Z"
   },
   {
    "duration": 0,
    "start_time": "2024-11-19T09:33:01.438Z"
   },
   {
    "duration": 0,
    "start_time": "2024-11-19T09:33:01.439Z"
   },
   {
    "duration": 0,
    "start_time": "2024-11-19T09:33:01.440Z"
   },
   {
    "duration": 0,
    "start_time": "2024-11-19T09:33:01.452Z"
   },
   {
    "duration": 0,
    "start_time": "2024-11-19T09:33:01.453Z"
   },
   {
    "duration": 0,
    "start_time": "2024-11-19T09:33:01.454Z"
   },
   {
    "duration": 271,
    "start_time": "2024-11-19T09:33:11.303Z"
   },
   {
    "duration": 270,
    "start_time": "2024-11-19T09:33:22.674Z"
   },
   {
    "duration": 276,
    "start_time": "2024-11-19T09:34:46.064Z"
   },
   {
    "duration": 424,
    "start_time": "2024-11-19T09:34:54.913Z"
   },
   {
    "duration": 356,
    "start_time": "2024-11-19T09:35:09.225Z"
   },
   {
    "duration": 264,
    "start_time": "2024-11-19T09:35:21.605Z"
   },
   {
    "duration": 260,
    "start_time": "2024-11-19T09:35:27.921Z"
   },
   {
    "duration": 289,
    "start_time": "2024-11-19T09:35:43.009Z"
   },
   {
    "duration": 289,
    "start_time": "2024-11-19T09:35:53.972Z"
   },
   {
    "duration": 311,
    "start_time": "2024-11-19T09:36:00.876Z"
   },
   {
    "duration": 295,
    "start_time": "2024-11-19T09:36:12.374Z"
   },
   {
    "duration": 265,
    "start_time": "2024-11-19T09:36:30.497Z"
   },
   {
    "duration": 468,
    "start_time": "2024-11-19T09:36:55.896Z"
   },
   {
    "duration": 286,
    "start_time": "2024-11-19T09:37:00.538Z"
   },
   {
    "duration": 9,
    "start_time": "2024-11-19T09:37:32.357Z"
   },
   {
    "duration": 12,
    "start_time": "2024-11-19T09:37:33.573Z"
   },
   {
    "duration": 149,
    "start_time": "2024-11-19T09:37:42.383Z"
   },
   {
    "duration": 5,
    "start_time": "2024-11-19T09:39:25.047Z"
   },
   {
    "duration": 13,
    "start_time": "2024-11-19T09:42:39.305Z"
   },
   {
    "duration": 5,
    "start_time": "2024-11-19T09:43:57.850Z"
   },
   {
    "duration": 13,
    "start_time": "2024-11-19T09:44:31.010Z"
   },
   {
    "duration": 132,
    "start_time": "2024-11-19T09:45:16.299Z"
   },
   {
    "duration": 8,
    "start_time": "2024-11-19T09:46:58.883Z"
   },
   {
    "duration": 6,
    "start_time": "2024-11-19T09:47:03.172Z"
   },
   {
    "duration": 5,
    "start_time": "2024-11-19T09:48:09.861Z"
   },
   {
    "duration": 6,
    "start_time": "2024-11-19T09:48:34.869Z"
   },
   {
    "duration": 135,
    "start_time": "2024-11-19T09:48:53.685Z"
   },
   {
    "duration": 169,
    "start_time": "2024-11-19T09:49:46.557Z"
   },
   {
    "duration": 5,
    "start_time": "2024-11-19T09:51:33.070Z"
   },
   {
    "duration": 173,
    "start_time": "2024-11-19T09:57:55.162Z"
   },
   {
    "duration": 217,
    "start_time": "2024-11-19T09:59:00.352Z"
   },
   {
    "duration": 140,
    "start_time": "2024-11-19T10:01:36.553Z"
   },
   {
    "duration": 7,
    "start_time": "2024-11-19T10:01:54.408Z"
   },
   {
    "duration": 7,
    "start_time": "2024-11-19T10:02:09.321Z"
   },
   {
    "duration": 6,
    "start_time": "2024-11-19T10:02:23.712Z"
   },
   {
    "duration": 12,
    "start_time": "2024-11-19T10:03:47.281Z"
   },
   {
    "duration": 9,
    "start_time": "2024-11-19T10:07:29.777Z"
   },
   {
    "duration": 8,
    "start_time": "2024-11-19T10:08:34.561Z"
   },
   {
    "duration": 10,
    "start_time": "2024-11-19T10:10:08.159Z"
   },
   {
    "duration": 491,
    "start_time": "2024-11-19T10:11:00.877Z"
   },
   {
    "duration": 32,
    "start_time": "2024-11-19T10:11:11.158Z"
   },
   {
    "duration": 10,
    "start_time": "2024-11-19T10:11:16.549Z"
   },
   {
    "duration": 25,
    "start_time": "2024-11-19T10:11:34.149Z"
   },
   {
    "duration": 14,
    "start_time": "2024-11-19T10:11:41.222Z"
   },
   {
    "duration": 5,
    "start_time": "2024-11-19T12:53:26.533Z"
   },
   {
    "duration": 4,
    "start_time": "2024-11-19T12:53:39.109Z"
   },
   {
    "duration": 370,
    "start_time": "2024-11-19T12:55:15.303Z"
   },
   {
    "duration": 366,
    "start_time": "2024-11-19T12:55:25.944Z"
   },
   {
    "duration": 357,
    "start_time": "2024-11-19T13:05:54.619Z"
   },
   {
    "duration": 377,
    "start_time": "2024-11-19T13:07:52.073Z"
   },
   {
    "duration": 496,
    "start_time": "2024-11-19T13:09:01.131Z"
   },
   {
    "duration": 5,
    "start_time": "2024-11-19T13:13:15.451Z"
   },
   {
    "duration": 299,
    "start_time": "2024-11-19T13:13:45.237Z"
   },
   {
    "duration": 22,
    "start_time": "2024-11-19T13:14:04.062Z"
   },
   {
    "duration": 281,
    "start_time": "2024-11-19T13:14:14.626Z"
   },
   {
    "duration": 312,
    "start_time": "2024-11-19T13:14:24.872Z"
   },
   {
    "duration": 18,
    "start_time": "2024-11-19T13:15:03.955Z"
   },
   {
    "duration": 4,
    "start_time": "2024-11-19T13:15:16.138Z"
   },
   {
    "duration": 5,
    "start_time": "2024-11-19T13:15:27.234Z"
   },
   {
    "duration": 360,
    "start_time": "2024-11-19T13:15:42.160Z"
   },
   {
    "duration": 538,
    "start_time": "2024-11-19T13:17:17.421Z"
   },
   {
    "duration": 52,
    "start_time": "2024-11-19T13:21:45.322Z"
   },
   {
    "duration": 418,
    "start_time": "2024-11-19T13:21:50.373Z"
   },
   {
    "duration": 928,
    "start_time": "2024-11-19T13:21:52.546Z"
   },
   {
    "duration": 408,
    "start_time": "2024-11-19T13:22:54.173Z"
   },
   {
    "duration": 459,
    "start_time": "2024-11-19T13:23:18.343Z"
   },
   {
    "duration": 410,
    "start_time": "2024-11-19T13:23:42.009Z"
   },
   {
    "duration": 449,
    "start_time": "2024-11-19T13:24:41.496Z"
   },
   {
    "duration": 184,
    "start_time": "2024-11-19T13:26:58.481Z"
   },
   {
    "duration": 52,
    "start_time": "2024-11-19T13:27:52.035Z"
   },
   {
    "duration": 441,
    "start_time": "2024-11-19T13:27:59.297Z"
   },
   {
    "duration": 516,
    "start_time": "2024-11-19T13:28:41.116Z"
   },
   {
    "duration": 333,
    "start_time": "2024-11-19T13:29:08.090Z"
   },
   {
    "duration": 335,
    "start_time": "2024-11-19T13:29:26.864Z"
   },
   {
    "duration": 468,
    "start_time": "2024-11-19T13:29:30.602Z"
   },
   {
    "duration": 337,
    "start_time": "2024-11-19T13:29:43.178Z"
   },
   {
    "duration": 329,
    "start_time": "2024-11-19T13:29:49.098Z"
   },
   {
    "duration": 331,
    "start_time": "2024-11-19T13:30:06.468Z"
   },
   {
    "duration": 603,
    "start_time": "2024-11-19T13:30:35.253Z"
   },
   {
    "duration": 435,
    "start_time": "2024-11-19T13:30:46.109Z"
   },
   {
    "duration": 486,
    "start_time": "2024-11-19T13:30:58.540Z"
   },
   {
    "duration": 332,
    "start_time": "2024-11-19T13:31:08.764Z"
   },
   {
    "duration": 328,
    "start_time": "2024-11-19T13:31:19.153Z"
   },
   {
    "duration": 341,
    "start_time": "2024-11-19T13:31:29.963Z"
   },
   {
    "duration": 458,
    "start_time": "2024-11-19T13:31:39.068Z"
   },
   {
    "duration": 3,
    "start_time": "2024-11-19T13:31:51.635Z"
   },
   {
    "duration": 77,
    "start_time": "2024-11-19T13:31:51.640Z"
   },
   {
    "duration": 3,
    "start_time": "2024-11-19T13:31:51.718Z"
   },
   {
    "duration": 58,
    "start_time": "2024-11-19T13:31:51.723Z"
   },
   {
    "duration": 25,
    "start_time": "2024-11-19T13:31:51.784Z"
   },
   {
    "duration": 24,
    "start_time": "2024-11-19T13:31:51.811Z"
   },
   {
    "duration": 64,
    "start_time": "2024-11-19T13:31:51.836Z"
   },
   {
    "duration": 65,
    "start_time": "2024-11-19T13:31:51.902Z"
   },
   {
    "duration": 21,
    "start_time": "2024-11-19T13:31:51.975Z"
   },
   {
    "duration": 10,
    "start_time": "2024-11-19T13:31:51.998Z"
   },
   {
    "duration": 194,
    "start_time": "2024-11-19T13:31:52.010Z"
   },
   {
    "duration": 141,
    "start_time": "2024-11-19T13:31:52.206Z"
   },
   {
    "duration": 21,
    "start_time": "2024-11-19T13:31:52.353Z"
   },
   {
    "duration": 14,
    "start_time": "2024-11-19T13:31:52.383Z"
   },
   {
    "duration": 5,
    "start_time": "2024-11-19T13:31:52.399Z"
   },
   {
    "duration": 347,
    "start_time": "2024-11-19T13:31:52.405Z"
   },
   {
    "duration": 0,
    "start_time": "2024-11-19T13:31:52.767Z"
   },
   {
    "duration": 0,
    "start_time": "2024-11-19T13:31:52.768Z"
   },
   {
    "duration": 0,
    "start_time": "2024-11-19T13:31:52.772Z"
   },
   {
    "duration": 0,
    "start_time": "2024-11-19T13:31:52.773Z"
   },
   {
    "duration": 0,
    "start_time": "2024-11-19T13:31:52.773Z"
   },
   {
    "duration": 0,
    "start_time": "2024-11-19T13:31:52.774Z"
   },
   {
    "duration": 0,
    "start_time": "2024-11-19T13:31:52.775Z"
   },
   {
    "duration": 0,
    "start_time": "2024-11-19T13:31:52.775Z"
   },
   {
    "duration": 0,
    "start_time": "2024-11-19T13:31:52.776Z"
   },
   {
    "duration": 0,
    "start_time": "2024-11-19T13:31:52.778Z"
   },
   {
    "duration": 0,
    "start_time": "2024-11-19T13:31:52.781Z"
   },
   {
    "duration": 0,
    "start_time": "2024-11-19T13:31:52.782Z"
   },
   {
    "duration": 0,
    "start_time": "2024-11-19T13:31:52.783Z"
   },
   {
    "duration": 0,
    "start_time": "2024-11-19T13:31:52.786Z"
   },
   {
    "duration": 0,
    "start_time": "2024-11-19T13:31:52.787Z"
   },
   {
    "duration": 0,
    "start_time": "2024-11-19T13:31:52.788Z"
   },
   {
    "duration": 0,
    "start_time": "2024-11-19T13:31:52.789Z"
   },
   {
    "duration": 0,
    "start_time": "2024-11-19T13:31:52.790Z"
   },
   {
    "duration": 0,
    "start_time": "2024-11-19T13:31:52.791Z"
   },
   {
    "duration": 0,
    "start_time": "2024-11-19T13:31:52.793Z"
   },
   {
    "duration": 0,
    "start_time": "2024-11-19T13:31:52.794Z"
   },
   {
    "duration": 0,
    "start_time": "2024-11-19T13:31:52.795Z"
   },
   {
    "duration": 0,
    "start_time": "2024-11-19T13:31:52.796Z"
   },
   {
    "duration": 0,
    "start_time": "2024-11-19T13:31:52.797Z"
   },
   {
    "duration": 0,
    "start_time": "2024-11-19T13:31:52.799Z"
   },
   {
    "duration": 341,
    "start_time": "2024-11-19T13:32:11.411Z"
   },
   {
    "duration": 392,
    "start_time": "2024-11-19T13:32:33.914Z"
   },
   {
    "duration": 343,
    "start_time": "2024-11-19T13:32:46.972Z"
   },
   {
    "duration": 351,
    "start_time": "2024-11-19T13:33:00.372Z"
   },
   {
    "duration": 208,
    "start_time": "2024-11-19T13:33:32.235Z"
   },
   {
    "duration": 341,
    "start_time": "2024-11-19T13:33:41.982Z"
   },
   {
    "duration": 337,
    "start_time": "2024-11-19T13:33:55.106Z"
   },
   {
    "duration": 308,
    "start_time": "2024-11-19T13:34:03.437Z"
   },
   {
    "duration": 342,
    "start_time": "2024-11-19T13:34:14.361Z"
   },
   {
    "duration": 486,
    "start_time": "2024-11-19T13:34:55.627Z"
   },
   {
    "duration": 335,
    "start_time": "2024-11-19T13:34:59.889Z"
   },
   {
    "duration": 328,
    "start_time": "2024-11-19T13:35:04.184Z"
   },
   {
    "duration": 1091,
    "start_time": "2024-11-19T13:35:14.345Z"
   },
   {
    "duration": 102,
    "start_time": "2024-11-19T13:35:15.438Z"
   },
   {
    "duration": 3,
    "start_time": "2024-11-19T13:35:15.542Z"
   },
   {
    "duration": 28,
    "start_time": "2024-11-19T13:35:15.546Z"
   },
   {
    "duration": 11,
    "start_time": "2024-11-19T13:35:15.577Z"
   },
   {
    "duration": 5,
    "start_time": "2024-11-19T13:35:15.590Z"
   },
   {
    "duration": 13,
    "start_time": "2024-11-19T13:35:15.596Z"
   },
   {
    "duration": 58,
    "start_time": "2024-11-19T13:35:15.611Z"
   },
   {
    "duration": 21,
    "start_time": "2024-11-19T13:35:15.670Z"
   },
   {
    "duration": 9,
    "start_time": "2024-11-19T13:35:15.693Z"
   },
   {
    "duration": 197,
    "start_time": "2024-11-19T13:35:15.703Z"
   },
   {
    "duration": 139,
    "start_time": "2024-11-19T13:35:15.902Z"
   },
   {
    "duration": 34,
    "start_time": "2024-11-19T13:35:16.043Z"
   },
   {
    "duration": 23,
    "start_time": "2024-11-19T13:35:16.082Z"
   },
   {
    "duration": 4,
    "start_time": "2024-11-19T13:35:16.107Z"
   },
   {
    "duration": 366,
    "start_time": "2024-11-19T13:35:16.112Z"
   },
   {
    "duration": 326,
    "start_time": "2024-11-19T13:35:16.480Z"
   },
   {
    "duration": 470,
    "start_time": "2024-11-19T13:35:16.807Z"
   },
   {
    "duration": 6,
    "start_time": "2024-11-19T13:35:17.279Z"
   },
   {
    "duration": 6,
    "start_time": "2024-11-19T13:35:17.286Z"
   },
   {
    "duration": 19,
    "start_time": "2024-11-19T13:35:17.293Z"
   },
   {
    "duration": 421,
    "start_time": "2024-11-19T13:35:17.314Z"
   },
   {
    "duration": 0,
    "start_time": "2024-11-19T13:35:17.737Z"
   },
   {
    "duration": 0,
    "start_time": "2024-11-19T13:35:17.738Z"
   },
   {
    "duration": 0,
    "start_time": "2024-11-19T13:35:17.739Z"
   },
   {
    "duration": 0,
    "start_time": "2024-11-19T13:35:17.741Z"
   },
   {
    "duration": 0,
    "start_time": "2024-11-19T13:35:17.752Z"
   },
   {
    "duration": 0,
    "start_time": "2024-11-19T13:35:17.753Z"
   },
   {
    "duration": 0,
    "start_time": "2024-11-19T13:35:17.754Z"
   },
   {
    "duration": 0,
    "start_time": "2024-11-19T13:35:17.755Z"
   },
   {
    "duration": 0,
    "start_time": "2024-11-19T13:35:17.756Z"
   },
   {
    "duration": 0,
    "start_time": "2024-11-19T13:35:17.759Z"
   },
   {
    "duration": 0,
    "start_time": "2024-11-19T13:35:17.760Z"
   },
   {
    "duration": 0,
    "start_time": "2024-11-19T13:35:17.762Z"
   },
   {
    "duration": 0,
    "start_time": "2024-11-19T13:35:17.763Z"
   },
   {
    "duration": 0,
    "start_time": "2024-11-19T13:35:17.764Z"
   },
   {
    "duration": 0,
    "start_time": "2024-11-19T13:35:17.766Z"
   },
   {
    "duration": 0,
    "start_time": "2024-11-19T13:35:17.767Z"
   },
   {
    "duration": 0,
    "start_time": "2024-11-19T13:35:17.769Z"
   },
   {
    "duration": 0,
    "start_time": "2024-11-19T13:35:17.770Z"
   },
   {
    "duration": 0,
    "start_time": "2024-11-19T13:35:17.776Z"
   },
   {
    "duration": 316,
    "start_time": "2024-11-19T13:35:48.023Z"
   },
   {
    "duration": 338,
    "start_time": "2024-11-19T13:35:57.758Z"
   },
   {
    "duration": 320,
    "start_time": "2024-11-19T13:36:34.421Z"
   },
   {
    "duration": 388,
    "start_time": "2024-11-19T13:37:25.960Z"
   },
   {
    "duration": 462,
    "start_time": "2024-11-19T13:38:23.360Z"
   },
   {
    "duration": 20,
    "start_time": "2024-11-19T13:38:49.742Z"
   },
   {
    "duration": 170,
    "start_time": "2024-11-19T13:39:04.803Z"
   },
   {
    "duration": 268,
    "start_time": "2024-11-19T13:39:23.274Z"
   },
   {
    "duration": 5,
    "start_time": "2024-11-19T13:39:30.675Z"
   },
   {
    "duration": 242,
    "start_time": "2024-11-19T13:39:41.737Z"
   },
   {
    "duration": 150,
    "start_time": "2024-11-19T13:39:44.693Z"
   },
   {
    "duration": 13,
    "start_time": "2024-11-19T13:39:53.758Z"
   },
   {
    "duration": 8,
    "start_time": "2024-11-19T13:40:14.741Z"
   },
   {
    "duration": 29,
    "start_time": "2024-11-19T13:40:23.316Z"
   },
   {
    "duration": 11,
    "start_time": "2024-11-19T13:41:11.332Z"
   },
   {
    "duration": 13,
    "start_time": "2024-11-19T13:41:16.748Z"
   },
   {
    "duration": 8,
    "start_time": "2024-11-19T13:41:19.629Z"
   },
   {
    "duration": 38,
    "start_time": "2024-11-19T13:41:23.651Z"
   },
   {
    "duration": 18,
    "start_time": "2024-11-19T13:41:39.468Z"
   },
   {
    "duration": 37,
    "start_time": "2024-11-19T13:44:34.635Z"
   },
   {
    "duration": 41,
    "start_time": "2024-11-19T13:44:43.834Z"
   },
   {
    "duration": 56,
    "start_time": "2024-11-19T13:52:17.201Z"
   },
   {
    "duration": 290,
    "start_time": "2024-11-19T14:07:18.334Z"
   },
   {
    "duration": 310,
    "start_time": "2024-11-19T14:07:24.079Z"
   },
   {
    "duration": 306,
    "start_time": "2024-11-19T14:07:40.517Z"
   },
   {
    "duration": 302,
    "start_time": "2024-11-19T14:07:50.256Z"
   },
   {
    "duration": 14,
    "start_time": "2024-11-19T14:07:59.640Z"
   },
   {
    "duration": 295,
    "start_time": "2024-11-19T14:08:08.167Z"
   },
   {
    "duration": 159,
    "start_time": "2024-11-19T14:08:29.968Z"
   },
   {
    "duration": 291,
    "start_time": "2024-11-19T14:08:43.434Z"
   },
   {
    "duration": 166,
    "start_time": "2024-11-19T14:11:31.726Z"
   },
   {
    "duration": 281,
    "start_time": "2024-11-19T14:11:36.805Z"
   },
   {
    "duration": 160,
    "start_time": "2024-11-19T14:11:40.429Z"
   },
   {
    "duration": 8,
    "start_time": "2024-11-19T14:11:57.353Z"
   },
   {
    "duration": 3,
    "start_time": "2024-11-19T14:14:56.758Z"
   },
   {
    "duration": 9,
    "start_time": "2024-11-19T14:14:57.393Z"
   },
   {
    "duration": 3,
    "start_time": "2024-11-19T14:15:54.196Z"
   },
   {
    "duration": 8,
    "start_time": "2024-11-19T14:15:54.201Z"
   },
   {
    "duration": 35,
    "start_time": "2024-11-19T14:15:54.211Z"
   },
   {
    "duration": 3,
    "start_time": "2024-11-19T14:15:54.247Z"
   },
   {
    "duration": 6,
    "start_time": "2024-11-19T14:15:54.252Z"
   },
   {
    "duration": 11,
    "start_time": "2024-11-19T14:15:54.260Z"
   },
   {
    "duration": 10,
    "start_time": "2024-11-19T14:15:54.273Z"
   },
   {
    "duration": 30,
    "start_time": "2024-11-19T14:15:54.285Z"
   },
   {
    "duration": 48,
    "start_time": "2024-11-19T14:15:54.316Z"
   },
   {
    "duration": 21,
    "start_time": "2024-11-19T14:15:54.365Z"
   },
   {
    "duration": 10,
    "start_time": "2024-11-19T14:15:54.387Z"
   },
   {
    "duration": 166,
    "start_time": "2024-11-19T14:15:54.401Z"
   },
   {
    "duration": 130,
    "start_time": "2024-11-19T14:15:54.568Z"
   },
   {
    "duration": 82,
    "start_time": "2024-11-19T14:15:54.700Z"
   },
   {
    "duration": 5,
    "start_time": "2024-11-19T14:15:54.784Z"
   },
   {
    "duration": 13,
    "start_time": "2024-11-19T14:15:54.791Z"
   },
   {
    "duration": 303,
    "start_time": "2024-11-19T14:15:54.806Z"
   },
   {
    "duration": 302,
    "start_time": "2024-11-19T14:15:55.111Z"
   },
   {
    "duration": 448,
    "start_time": "2024-11-19T14:15:55.415Z"
   },
   {
    "duration": 5,
    "start_time": "2024-11-19T14:15:55.865Z"
   },
   {
    "duration": 12,
    "start_time": "2024-11-19T14:15:55.872Z"
   },
   {
    "duration": 27,
    "start_time": "2024-11-19T14:15:55.886Z"
   },
   {
    "duration": 310,
    "start_time": "2024-11-19T14:15:55.915Z"
   },
   {
    "duration": 471,
    "start_time": "2024-11-19T14:15:56.226Z"
   },
   {
    "duration": 12,
    "start_time": "2024-11-19T14:15:56.698Z"
   },
   {
    "duration": 211,
    "start_time": "2024-11-19T14:15:56.712Z"
   },
   {
    "duration": 4,
    "start_time": "2024-11-19T14:15:56.925Z"
   },
   {
    "duration": 179,
    "start_time": "2024-11-19T14:15:56.931Z"
   },
   {
    "duration": 8,
    "start_time": "2024-11-19T14:15:57.111Z"
   },
   {
    "duration": 13,
    "start_time": "2024-11-19T14:15:57.120Z"
   },
   {
    "duration": 220,
    "start_time": "2024-11-19T14:15:57.135Z"
   },
   {
    "duration": 172,
    "start_time": "2024-11-19T14:15:57.356Z"
   },
   {
    "duration": 8,
    "start_time": "2024-11-19T14:15:57.531Z"
   },
   {
    "duration": 29,
    "start_time": "2024-11-19T14:15:57.553Z"
   },
   {
    "duration": 10,
    "start_time": "2024-11-19T14:15:57.584Z"
   },
   {
    "duration": 21,
    "start_time": "2024-11-19T14:15:57.596Z"
   },
   {
    "duration": 15,
    "start_time": "2024-11-19T14:15:57.619Z"
   },
   {
    "duration": 34,
    "start_time": "2024-11-19T14:15:57.636Z"
   },
   {
    "duration": 19,
    "start_time": "2024-11-19T14:15:57.671Z"
   },
   {
    "duration": 9,
    "start_time": "2024-11-19T14:25:32.338Z"
   },
   {
    "duration": 9,
    "start_time": "2024-11-19T14:26:17.988Z"
   },
   {
    "duration": 26,
    "start_time": "2024-11-19T14:26:22.924Z"
   },
   {
    "duration": 13,
    "start_time": "2024-11-19T14:30:43.491Z"
   },
   {
    "duration": 1223,
    "start_time": "2024-11-20T06:24:12.141Z"
   },
   {
    "duration": 3,
    "start_time": "2024-11-20T06:24:13.366Z"
   },
   {
    "duration": 146,
    "start_time": "2024-11-20T06:24:13.370Z"
   },
   {
    "duration": 3,
    "start_time": "2024-11-20T06:24:13.518Z"
   },
   {
    "duration": 6,
    "start_time": "2024-11-20T06:24:13.523Z"
   },
   {
    "duration": 10,
    "start_time": "2024-11-20T06:24:13.530Z"
   },
   {
    "duration": 8,
    "start_time": "2024-11-20T06:24:13.541Z"
   },
   {
    "duration": 14,
    "start_time": "2024-11-20T06:24:13.551Z"
   },
   {
    "duration": 104,
    "start_time": "2024-11-20T06:24:13.566Z"
   },
   {
    "duration": 76,
    "start_time": "2024-11-20T06:24:13.674Z"
   },
   {
    "duration": 13,
    "start_time": "2024-11-20T06:24:13.752Z"
   },
   {
    "duration": 170,
    "start_time": "2024-11-20T06:24:13.767Z"
   },
   {
    "duration": 127,
    "start_time": "2024-11-20T06:24:13.939Z"
   },
   {
    "duration": 11,
    "start_time": "2024-11-20T06:24:14.067Z"
   },
   {
    "duration": 20,
    "start_time": "2024-11-20T06:24:14.079Z"
   },
   {
    "duration": 15,
    "start_time": "2024-11-20T06:24:14.100Z"
   },
   {
    "duration": 301,
    "start_time": "2024-11-20T06:24:14.116Z"
   },
   {
    "duration": 291,
    "start_time": "2024-11-20T06:24:14.419Z"
   },
   {
    "duration": 468,
    "start_time": "2024-11-20T06:24:14.717Z"
   },
   {
    "duration": 6,
    "start_time": "2024-11-20T06:24:15.187Z"
   },
   {
    "duration": 86,
    "start_time": "2024-11-20T06:24:15.194Z"
   },
   {
    "duration": 15,
    "start_time": "2024-11-20T06:24:15.281Z"
   },
   {
    "duration": 417,
    "start_time": "2024-11-20T06:24:15.298Z"
   },
   {
    "duration": 444,
    "start_time": "2024-11-20T06:24:15.717Z"
   },
   {
    "duration": 12,
    "start_time": "2024-11-20T06:24:16.163Z"
   },
   {
    "duration": 160,
    "start_time": "2024-11-20T06:24:16.176Z"
   },
   {
    "duration": 5,
    "start_time": "2024-11-20T06:24:16.338Z"
   },
   {
    "duration": 173,
    "start_time": "2024-11-20T06:24:16.347Z"
   },
   {
    "duration": 5,
    "start_time": "2024-11-20T06:24:16.521Z"
   },
   {
    "duration": 225,
    "start_time": "2024-11-20T06:24:16.528Z"
   },
   {
    "duration": 156,
    "start_time": "2024-11-20T06:24:16.754Z"
   },
   {
    "duration": 10,
    "start_time": "2024-11-20T06:24:16.912Z"
   },
   {
    "duration": 33,
    "start_time": "2024-11-20T06:24:16.923Z"
   },
   {
    "duration": 15,
    "start_time": "2024-11-20T06:24:16.958Z"
   },
   {
    "duration": 10,
    "start_time": "2024-11-20T06:24:16.974Z"
   },
   {
    "duration": 35,
    "start_time": "2024-11-20T06:24:16.985Z"
   },
   {
    "duration": 26,
    "start_time": "2024-11-20T06:24:17.022Z"
   },
   {
    "duration": 18,
    "start_time": "2024-11-20T06:24:17.049Z"
   },
   {
    "duration": 278,
    "start_time": "2024-11-20T06:24:32.143Z"
   },
   {
    "duration": 291,
    "start_time": "2024-11-20T06:24:37.534Z"
   },
   {
    "duration": 466,
    "start_time": "2024-11-20T06:25:20.982Z"
   },
   {
    "duration": 321,
    "start_time": "2024-11-20T06:26:06.599Z"
   },
   {
    "duration": 310,
    "start_time": "2024-11-20T06:26:53.995Z"
   },
   {
    "duration": 325,
    "start_time": "2024-11-20T06:27:05.989Z"
   },
   {
    "duration": 286,
    "start_time": "2024-11-20T06:27:10.244Z"
   },
   {
    "duration": 356,
    "start_time": "2024-11-20T06:27:30.541Z"
   },
   {
    "duration": 288,
    "start_time": "2024-11-20T06:27:35.925Z"
   },
   {
    "duration": 255,
    "start_time": "2024-11-20T06:28:51.134Z"
   },
   {
    "duration": 249,
    "start_time": "2024-11-20T06:29:46.444Z"
   },
   {
    "duration": 305,
    "start_time": "2024-11-20T06:30:09.497Z"
   },
   {
    "duration": 291,
    "start_time": "2024-11-20T06:31:44.237Z"
   },
   {
    "duration": 400,
    "start_time": "2024-11-20T06:31:49.820Z"
   },
   {
    "duration": 309,
    "start_time": "2024-11-20T06:31:56.024Z"
   },
   {
    "duration": 300,
    "start_time": "2024-11-20T06:32:00.636Z"
   },
   {
    "duration": 296,
    "start_time": "2024-11-20T06:32:06.819Z"
   },
   {
    "duration": 308,
    "start_time": "2024-11-20T06:32:32.787Z"
   },
   {
    "duration": 290,
    "start_time": "2024-11-20T06:32:42.123Z"
   },
   {
    "duration": 291,
    "start_time": "2024-11-20T06:32:52.279Z"
   },
   {
    "duration": 313,
    "start_time": "2024-11-20T06:34:37.574Z"
   },
   {
    "duration": 1029,
    "start_time": "2024-11-20T06:35:52.366Z"
   },
   {
    "duration": 2,
    "start_time": "2024-11-20T06:35:53.397Z"
   },
   {
    "duration": 115,
    "start_time": "2024-11-20T06:35:53.401Z"
   },
   {
    "duration": 4,
    "start_time": "2024-11-20T06:35:53.518Z"
   },
   {
    "duration": 16,
    "start_time": "2024-11-20T06:35:53.526Z"
   },
   {
    "duration": 15,
    "start_time": "2024-11-20T06:35:53.545Z"
   },
   {
    "duration": 10,
    "start_time": "2024-11-20T06:35:53.562Z"
   },
   {
    "duration": 19,
    "start_time": "2024-11-20T06:35:53.573Z"
   },
   {
    "duration": 63,
    "start_time": "2024-11-20T06:35:53.594Z"
   },
   {
    "duration": 22,
    "start_time": "2024-11-20T06:35:53.659Z"
   },
   {
    "duration": 11,
    "start_time": "2024-11-20T06:35:53.683Z"
   },
   {
    "duration": 186,
    "start_time": "2024-11-20T06:35:53.696Z"
   },
   {
    "duration": 142,
    "start_time": "2024-11-20T06:35:53.884Z"
   },
   {
    "duration": 18,
    "start_time": "2024-11-20T06:35:54.029Z"
   },
   {
    "duration": 23,
    "start_time": "2024-11-20T06:35:54.048Z"
   },
   {
    "duration": 22,
    "start_time": "2024-11-20T06:35:54.073Z"
   },
   {
    "duration": 388,
    "start_time": "2024-11-20T06:35:54.097Z"
   },
   {
    "duration": 395,
    "start_time": "2024-11-20T06:35:54.487Z"
   },
   {
    "duration": 0,
    "start_time": "2024-11-20T06:35:54.884Z"
   },
   {
    "duration": 0,
    "start_time": "2024-11-20T06:35:54.885Z"
   },
   {
    "duration": 0,
    "start_time": "2024-11-20T06:35:54.887Z"
   },
   {
    "duration": 0,
    "start_time": "2024-11-20T06:35:54.888Z"
   },
   {
    "duration": 0,
    "start_time": "2024-11-20T06:35:54.889Z"
   },
   {
    "duration": 0,
    "start_time": "2024-11-20T06:35:54.890Z"
   },
   {
    "duration": 0,
    "start_time": "2024-11-20T06:35:54.891Z"
   },
   {
    "duration": 0,
    "start_time": "2024-11-20T06:35:54.892Z"
   },
   {
    "duration": 0,
    "start_time": "2024-11-20T06:35:54.892Z"
   },
   {
    "duration": 0,
    "start_time": "2024-11-20T06:35:54.893Z"
   },
   {
    "duration": 0,
    "start_time": "2024-11-20T06:35:54.918Z"
   },
   {
    "duration": 0,
    "start_time": "2024-11-20T06:35:54.919Z"
   },
   {
    "duration": 0,
    "start_time": "2024-11-20T06:35:54.920Z"
   },
   {
    "duration": 0,
    "start_time": "2024-11-20T06:35:54.922Z"
   },
   {
    "duration": 0,
    "start_time": "2024-11-20T06:35:54.922Z"
   },
   {
    "duration": 0,
    "start_time": "2024-11-20T06:35:54.923Z"
   },
   {
    "duration": 0,
    "start_time": "2024-11-20T06:35:54.924Z"
   },
   {
    "duration": 0,
    "start_time": "2024-11-20T06:35:54.926Z"
   },
   {
    "duration": 0,
    "start_time": "2024-11-20T06:35:54.926Z"
   },
   {
    "duration": 0,
    "start_time": "2024-11-20T06:35:54.927Z"
   },
   {
    "duration": 1024,
    "start_time": "2024-11-20T06:39:08.667Z"
   },
   {
    "duration": 3,
    "start_time": "2024-11-20T06:39:09.694Z"
   },
   {
    "duration": 106,
    "start_time": "2024-11-20T06:39:09.698Z"
   },
   {
    "duration": 39,
    "start_time": "2024-11-20T06:39:09.806Z"
   },
   {
    "duration": 35,
    "start_time": "2024-11-20T06:39:09.847Z"
   },
   {
    "duration": 33,
    "start_time": "2024-11-20T06:39:09.883Z"
   },
   {
    "duration": 23,
    "start_time": "2024-11-20T06:39:09.917Z"
   },
   {
    "duration": 25,
    "start_time": "2024-11-20T06:39:09.941Z"
   },
   {
    "duration": 63,
    "start_time": "2024-11-20T06:39:09.968Z"
   },
   {
    "duration": 20,
    "start_time": "2024-11-20T06:39:10.033Z"
   },
   {
    "duration": 15,
    "start_time": "2024-11-20T06:39:10.054Z"
   },
   {
    "duration": 188,
    "start_time": "2024-11-20T06:39:10.070Z"
   },
   {
    "duration": 133,
    "start_time": "2024-11-20T06:39:10.260Z"
   },
   {
    "duration": 33,
    "start_time": "2024-11-20T06:39:10.397Z"
   },
   {
    "duration": 25,
    "start_time": "2024-11-20T06:39:10.431Z"
   },
   {
    "duration": 32,
    "start_time": "2024-11-20T06:39:10.457Z"
   },
   {
    "duration": 343,
    "start_time": "2024-11-20T06:39:10.490Z"
   },
   {
    "duration": 324,
    "start_time": "2024-11-20T06:39:10.835Z"
   },
   {
    "duration": 404,
    "start_time": "2024-11-20T06:39:11.161Z"
   },
   {
    "duration": 6,
    "start_time": "2024-11-20T06:39:11.566Z"
   },
   {
    "duration": 11,
    "start_time": "2024-11-20T06:39:11.573Z"
   },
   {
    "duration": 28,
    "start_time": "2024-11-20T06:39:11.585Z"
   },
   {
    "duration": 384,
    "start_time": "2024-11-20T06:39:11.615Z"
   },
   {
    "duration": 442,
    "start_time": "2024-11-20T06:39:12.001Z"
   },
   {
    "duration": 11,
    "start_time": "2024-11-20T06:39:12.444Z"
   },
   {
    "duration": 153,
    "start_time": "2024-11-20T06:39:12.457Z"
   },
   {
    "duration": 8,
    "start_time": "2024-11-20T06:39:12.612Z"
   },
   {
    "duration": 168,
    "start_time": "2024-11-20T06:39:12.621Z"
   },
   {
    "duration": 5,
    "start_time": "2024-11-20T06:39:12.791Z"
   },
   {
    "duration": 229,
    "start_time": "2024-11-20T06:39:12.797Z"
   },
   {
    "duration": 165,
    "start_time": "2024-11-20T06:39:13.028Z"
   },
   {
    "duration": 8,
    "start_time": "2024-11-20T06:39:13.195Z"
   },
   {
    "duration": 37,
    "start_time": "2024-11-20T06:39:13.205Z"
   },
   {
    "duration": 11,
    "start_time": "2024-11-20T06:39:13.244Z"
   },
   {
    "duration": 24,
    "start_time": "2024-11-20T06:39:13.256Z"
   },
   {
    "duration": 10,
    "start_time": "2024-11-20T06:39:13.281Z"
   },
   {
    "duration": 41,
    "start_time": "2024-11-20T06:39:13.292Z"
   },
   {
    "duration": 13,
    "start_time": "2024-11-20T06:39:13.335Z"
   },
   {
    "duration": 347,
    "start_time": "2024-11-20T06:39:32.623Z"
   },
   {
    "duration": 344,
    "start_time": "2024-11-20T06:40:47.508Z"
   },
   {
    "duration": 538,
    "start_time": "2024-11-20T06:41:02.700Z"
   },
   {
    "duration": 330,
    "start_time": "2024-11-20T06:41:24.115Z"
   },
   {
    "duration": 469,
    "start_time": "2024-11-20T06:41:45.904Z"
   },
   {
    "duration": 144,
    "start_time": "2024-11-20T06:42:03.123Z"
   },
   {
    "duration": 180,
    "start_time": "2024-11-20T06:42:16.611Z"
   },
   {
    "duration": 7,
    "start_time": "2024-11-20T07:22:17.232Z"
   },
   {
    "duration": 9,
    "start_time": "2024-11-20T07:22:26.832Z"
   },
   {
    "duration": 8,
    "start_time": "2024-11-20T07:23:58.054Z"
   },
   {
    "duration": 8,
    "start_time": "2024-11-20T07:24:20.944Z"
   },
   {
    "duration": 139,
    "start_time": "2024-11-20T07:31:54.351Z"
   },
   {
    "duration": 11,
    "start_time": "2024-11-20T07:35:17.522Z"
   },
   {
    "duration": 9,
    "start_time": "2024-11-20T07:35:27.383Z"
   },
   {
    "duration": 12,
    "start_time": "2024-11-20T07:35:35.351Z"
   },
   {
    "duration": 9,
    "start_time": "2024-11-20T07:35:43.176Z"
   },
   {
    "duration": 8,
    "start_time": "2024-11-20T07:35:53.776Z"
   },
   {
    "duration": 25,
    "start_time": "2024-11-20T07:35:56.831Z"
   },
   {
    "duration": 14,
    "start_time": "2024-11-20T07:41:58.166Z"
   },
   {
    "duration": 11,
    "start_time": "2024-11-20T07:42:23.407Z"
   },
   {
    "duration": 26,
    "start_time": "2024-11-20T07:42:27.967Z"
   },
   {
    "duration": 18,
    "start_time": "2024-11-20T07:42:34.839Z"
   },
   {
    "duration": 1183,
    "start_time": "2024-11-20T08:22:09.995Z"
   },
   {
    "duration": 3,
    "start_time": "2024-11-20T08:22:11.180Z"
   },
   {
    "duration": 89,
    "start_time": "2024-11-20T08:22:11.184Z"
   },
   {
    "duration": 3,
    "start_time": "2024-11-20T08:22:11.275Z"
   },
   {
    "duration": 9,
    "start_time": "2024-11-20T08:22:11.279Z"
   },
   {
    "duration": 9,
    "start_time": "2024-11-20T08:22:11.289Z"
   },
   {
    "duration": 4,
    "start_time": "2024-11-20T08:22:11.299Z"
   },
   {
    "duration": 12,
    "start_time": "2024-11-20T08:22:11.324Z"
   },
   {
    "duration": 44,
    "start_time": "2024-11-20T08:22:11.337Z"
   },
   {
    "duration": 20,
    "start_time": "2024-11-20T08:22:11.384Z"
   },
   {
    "duration": 10,
    "start_time": "2024-11-20T08:22:11.405Z"
   },
   {
    "duration": 197,
    "start_time": "2024-11-20T08:22:11.416Z"
   },
   {
    "duration": 140,
    "start_time": "2024-11-20T08:22:11.614Z"
   },
   {
    "duration": 12,
    "start_time": "2024-11-20T08:22:11.755Z"
   },
   {
    "duration": 7,
    "start_time": "2024-11-20T08:22:11.769Z"
   },
   {
    "duration": 4,
    "start_time": "2024-11-20T08:22:11.778Z"
   },
   {
    "duration": 407,
    "start_time": "2024-11-20T08:22:11.783Z"
   },
   {
    "duration": 363,
    "start_time": "2024-11-20T08:22:12.191Z"
   },
   {
    "duration": 443,
    "start_time": "2024-11-20T08:22:12.555Z"
   },
   {
    "duration": 6,
    "start_time": "2024-11-20T08:22:12.999Z"
   },
   {
    "duration": 71,
    "start_time": "2024-11-20T08:22:13.006Z"
   },
   {
    "duration": 7,
    "start_time": "2024-11-20T08:22:13.079Z"
   },
   {
    "duration": 415,
    "start_time": "2024-11-20T08:22:13.088Z"
   },
   {
    "duration": 500,
    "start_time": "2024-11-20T08:22:13.505Z"
   },
   {
    "duration": 24,
    "start_time": "2024-11-20T08:22:14.007Z"
   },
   {
    "duration": 8,
    "start_time": "2024-11-20T08:22:14.033Z"
   },
   {
    "duration": 176,
    "start_time": "2024-11-20T08:22:14.042Z"
   },
   {
    "duration": 5,
    "start_time": "2024-11-20T08:22:14.230Z"
   },
   {
    "duration": 205,
    "start_time": "2024-11-20T08:22:14.237Z"
   },
   {
    "duration": 8,
    "start_time": "2024-11-20T08:22:14.443Z"
   },
   {
    "duration": 19,
    "start_time": "2024-11-20T08:22:14.453Z"
   },
   {
    "duration": 231,
    "start_time": "2024-11-20T08:22:14.474Z"
   },
   {
    "duration": 163,
    "start_time": "2024-11-20T08:22:14.707Z"
   },
   {
    "duration": 8,
    "start_time": "2024-11-20T08:22:14.872Z"
   },
   {
    "duration": 55,
    "start_time": "2024-11-20T08:22:14.881Z"
   },
   {
    "duration": 11,
    "start_time": "2024-11-20T08:22:14.937Z"
   },
   {
    "duration": 17,
    "start_time": "2024-11-20T08:22:14.950Z"
   },
   {
    "duration": 11,
    "start_time": "2024-11-20T08:22:14.969Z"
   },
   {
    "duration": 46,
    "start_time": "2024-11-20T08:22:14.982Z"
   },
   {
    "duration": 19,
    "start_time": "2024-11-20T08:22:15.030Z"
   },
   {
    "duration": 1146,
    "start_time": "2024-11-20T08:32:19.748Z"
   },
   {
    "duration": 3,
    "start_time": "2024-11-20T08:32:20.896Z"
   },
   {
    "duration": 130,
    "start_time": "2024-11-20T08:32:20.901Z"
   },
   {
    "duration": 2,
    "start_time": "2024-11-20T08:32:21.033Z"
   },
   {
    "duration": 82,
    "start_time": "2024-11-20T08:32:21.037Z"
   },
   {
    "duration": 22,
    "start_time": "2024-11-20T08:32:21.121Z"
   },
   {
    "duration": 26,
    "start_time": "2024-11-20T08:32:21.144Z"
   },
   {
    "duration": 37,
    "start_time": "2024-11-20T08:32:21.172Z"
   },
   {
    "duration": 61,
    "start_time": "2024-11-20T08:32:21.211Z"
   },
   {
    "duration": 20,
    "start_time": "2024-11-20T08:32:21.275Z"
   },
   {
    "duration": 41,
    "start_time": "2024-11-20T08:32:21.296Z"
   },
   {
    "duration": 205,
    "start_time": "2024-11-20T08:32:21.339Z"
   },
   {
    "duration": 139,
    "start_time": "2024-11-20T08:32:21.547Z"
   },
   {
    "duration": 11,
    "start_time": "2024-11-20T08:32:21.688Z"
   },
   {
    "duration": 26,
    "start_time": "2024-11-20T08:32:21.701Z"
   },
   {
    "duration": 110,
    "start_time": "2024-11-20T08:32:21.728Z"
   },
   {
    "duration": 422,
    "start_time": "2024-11-20T08:32:21.840Z"
   },
   {
    "duration": 374,
    "start_time": "2024-11-20T08:32:22.264Z"
   },
   {
    "duration": 498,
    "start_time": "2024-11-20T08:32:22.640Z"
   },
   {
    "duration": 7,
    "start_time": "2024-11-20T08:32:23.140Z"
   },
   {
    "duration": 53,
    "start_time": "2024-11-20T08:32:23.149Z"
   },
   {
    "duration": 33,
    "start_time": "2024-11-20T08:32:23.204Z"
   },
   {
    "duration": 452,
    "start_time": "2024-11-20T08:32:23.239Z"
   },
   {
    "duration": 496,
    "start_time": "2024-11-20T08:32:23.693Z"
   },
   {
    "duration": 11,
    "start_time": "2024-11-20T08:32:24.190Z"
   },
   {
    "duration": 29,
    "start_time": "2024-11-20T08:32:24.203Z"
   },
   {
    "duration": 193,
    "start_time": "2024-11-20T08:32:24.238Z"
   },
   {
    "duration": 5,
    "start_time": "2024-11-20T08:32:24.435Z"
   },
   {
    "duration": 238,
    "start_time": "2024-11-20T08:32:24.441Z"
   },
   {
    "duration": 5,
    "start_time": "2024-11-20T08:32:24.681Z"
   },
   {
    "duration": 233,
    "start_time": "2024-11-20T08:32:24.687Z"
   },
   {
    "duration": 160,
    "start_time": "2024-11-20T08:32:24.922Z"
   },
   {
    "duration": 9,
    "start_time": "2024-11-20T08:32:25.084Z"
   },
   {
    "duration": 40,
    "start_time": "2024-11-20T08:32:25.095Z"
   },
   {
    "duration": 11,
    "start_time": "2024-11-20T08:32:25.137Z"
   },
   {
    "duration": 8,
    "start_time": "2024-11-20T08:32:25.150Z"
   },
   {
    "duration": 9,
    "start_time": "2024-11-20T08:32:25.160Z"
   },
   {
    "duration": 62,
    "start_time": "2024-11-20T08:32:25.171Z"
   },
   {
    "duration": 13,
    "start_time": "2024-11-20T08:32:25.235Z"
   },
   {
    "duration": 1119,
    "start_time": "2024-11-20T08:34:30.315Z"
   },
   {
    "duration": 2,
    "start_time": "2024-11-20T08:34:31.436Z"
   },
   {
    "duration": 132,
    "start_time": "2024-11-20T08:34:31.440Z"
   },
   {
    "duration": 3,
    "start_time": "2024-11-20T08:34:31.575Z"
   },
   {
    "duration": 10,
    "start_time": "2024-11-20T08:34:31.579Z"
   },
   {
    "duration": 13,
    "start_time": "2024-11-20T08:34:31.591Z"
   },
   {
    "duration": 20,
    "start_time": "2024-11-20T08:34:31.606Z"
   },
   {
    "duration": 11,
    "start_time": "2024-11-20T08:34:31.628Z"
   },
   {
    "duration": 44,
    "start_time": "2024-11-20T08:34:31.640Z"
   },
   {
    "duration": 19,
    "start_time": "2024-11-20T08:34:31.687Z"
   },
   {
    "duration": 9,
    "start_time": "2024-11-20T08:34:31.707Z"
   },
   {
    "duration": 173,
    "start_time": "2024-11-20T08:34:31.717Z"
   },
   {
    "duration": 137,
    "start_time": "2024-11-20T08:34:31.892Z"
   },
   {
    "duration": 12,
    "start_time": "2024-11-20T08:34:32.030Z"
   },
   {
    "duration": 9,
    "start_time": "2024-11-20T08:34:32.043Z"
   },
   {
    "duration": 4,
    "start_time": "2024-11-20T08:34:32.054Z"
   },
   {
    "duration": 371,
    "start_time": "2024-11-20T08:34:32.059Z"
   },
   {
    "duration": 375,
    "start_time": "2024-11-20T08:34:32.432Z"
   },
   {
    "duration": 493,
    "start_time": "2024-11-20T08:34:32.809Z"
   },
   {
    "duration": 5,
    "start_time": "2024-11-20T08:34:33.304Z"
   },
   {
    "duration": 6,
    "start_time": "2024-11-20T08:34:33.318Z"
   },
   {
    "duration": 23,
    "start_time": "2024-11-20T08:34:33.325Z"
   },
   {
    "duration": 437,
    "start_time": "2024-11-20T08:34:33.350Z"
   },
   {
    "duration": 481,
    "start_time": "2024-11-20T08:34:33.789Z"
   },
   {
    "duration": 18,
    "start_time": "2024-11-20T08:34:34.273Z"
   },
   {
    "duration": 26,
    "start_time": "2024-11-20T08:34:34.293Z"
   },
   {
    "duration": 193,
    "start_time": "2024-11-20T08:34:34.321Z"
   },
   {
    "duration": 6,
    "start_time": "2024-11-20T08:34:34.518Z"
   },
   {
    "duration": 197,
    "start_time": "2024-11-20T08:34:34.525Z"
   },
   {
    "duration": 7,
    "start_time": "2024-11-20T08:34:34.724Z"
   },
   {
    "duration": 229,
    "start_time": "2024-11-20T08:34:34.733Z"
   },
   {
    "duration": 145,
    "start_time": "2024-11-20T08:34:34.964Z"
   },
   {
    "duration": 10,
    "start_time": "2024-11-20T08:34:35.111Z"
   },
   {
    "duration": 34,
    "start_time": "2024-11-20T08:34:35.123Z"
   },
   {
    "duration": 22,
    "start_time": "2024-11-20T08:34:35.158Z"
   },
   {
    "duration": 24,
    "start_time": "2024-11-20T08:34:35.182Z"
   },
   {
    "duration": 59,
    "start_time": "2024-11-20T08:34:35.207Z"
   },
   {
    "duration": 44,
    "start_time": "2024-11-20T08:34:35.267Z"
   },
   {
    "duration": 15,
    "start_time": "2024-11-20T08:34:35.313Z"
   },
   {
    "duration": 1029,
    "start_time": "2024-11-20T08:42:54.452Z"
   },
   {
    "duration": 3,
    "start_time": "2024-11-20T08:42:55.483Z"
   },
   {
    "duration": 91,
    "start_time": "2024-11-20T08:42:55.487Z"
   },
   {
    "duration": 3,
    "start_time": "2024-11-20T08:42:55.580Z"
   },
   {
    "duration": 7,
    "start_time": "2024-11-20T08:42:55.585Z"
   },
   {
    "duration": 21,
    "start_time": "2024-11-20T08:42:55.593Z"
   },
   {
    "duration": 15,
    "start_time": "2024-11-20T08:42:55.616Z"
   },
   {
    "duration": 23,
    "start_time": "2024-11-20T08:42:55.633Z"
   },
   {
    "duration": 44,
    "start_time": "2024-11-20T08:42:55.657Z"
   },
   {
    "duration": 20,
    "start_time": "2024-11-20T08:42:55.703Z"
   },
   {
    "duration": 9,
    "start_time": "2024-11-20T08:42:55.724Z"
   },
   {
    "duration": 174,
    "start_time": "2024-11-20T08:42:55.734Z"
   },
   {
    "duration": 134,
    "start_time": "2024-11-20T08:42:55.909Z"
   },
   {
    "duration": 12,
    "start_time": "2024-11-20T08:42:56.046Z"
   },
   {
    "duration": 4,
    "start_time": "2024-11-20T08:42:56.060Z"
   },
   {
    "duration": 9,
    "start_time": "2024-11-20T08:42:56.065Z"
   },
   {
    "duration": 378,
    "start_time": "2024-11-20T08:42:56.076Z"
   },
   {
    "duration": 352,
    "start_time": "2024-11-20T08:42:56.455Z"
   },
   {
    "duration": 443,
    "start_time": "2024-11-20T08:42:56.808Z"
   },
   {
    "duration": 5,
    "start_time": "2024-11-20T08:42:57.252Z"
   },
   {
    "duration": 7,
    "start_time": "2024-11-20T08:42:57.259Z"
   },
   {
    "duration": 4,
    "start_time": "2024-11-20T08:42:57.267Z"
   },
   {
    "duration": 379,
    "start_time": "2024-11-20T08:42:57.272Z"
   },
   {
    "duration": 424,
    "start_time": "2024-11-20T08:42:57.653Z"
   },
   {
    "duration": 12,
    "start_time": "2024-11-20T08:42:58.080Z"
   },
   {
    "duration": 25,
    "start_time": "2024-11-20T08:42:58.094Z"
   },
   {
    "duration": 171,
    "start_time": "2024-11-20T08:42:58.120Z"
   },
   {
    "duration": 5,
    "start_time": "2024-11-20T08:42:58.292Z"
   },
   {
    "duration": 188,
    "start_time": "2024-11-20T08:42:58.299Z"
   },
   {
    "duration": 5,
    "start_time": "2024-11-20T08:42:58.488Z"
   },
   {
    "duration": 192,
    "start_time": "2024-11-20T08:42:58.495Z"
   },
   {
    "duration": 139,
    "start_time": "2024-11-20T08:42:58.689Z"
   },
   {
    "duration": 8,
    "start_time": "2024-11-20T08:42:58.829Z"
   },
   {
    "duration": 50,
    "start_time": "2024-11-20T08:42:58.839Z"
   },
   {
    "duration": 16,
    "start_time": "2024-11-20T08:42:58.890Z"
   },
   {
    "duration": 22,
    "start_time": "2024-11-20T08:42:58.908Z"
   },
   {
    "duration": 26,
    "start_time": "2024-11-20T08:42:58.931Z"
   },
   {
    "duration": 38,
    "start_time": "2024-11-20T08:42:58.959Z"
   },
   {
    "duration": 16,
    "start_time": "2024-11-20T08:42:58.998Z"
   },
   {
    "duration": 4,
    "start_time": "2024-11-20T09:27:35.925Z"
   },
   {
    "duration": 3,
    "start_time": "2024-11-20T09:27:36.535Z"
   },
   {
    "duration": 33,
    "start_time": "2024-11-20T09:27:38.234Z"
   },
   {
    "duration": 3,
    "start_time": "2024-11-20T09:27:44.282Z"
   },
   {
    "duration": 31,
    "start_time": "2024-11-20T09:27:44.650Z"
   },
   {
    "duration": 109,
    "start_time": "2024-11-20T09:27:49.633Z"
   },
   {
    "duration": 3,
    "start_time": "2024-11-20T09:27:52.518Z"
   },
   {
    "duration": 6,
    "start_time": "2024-11-20T09:27:52.921Z"
   },
   {
    "duration": 10,
    "start_time": "2024-11-20T09:27:53.324Z"
   },
   {
    "duration": 10,
    "start_time": "2024-11-20T09:31:09.849Z"
   },
   {
    "duration": 13,
    "start_time": "2024-11-20T09:31:17.817Z"
   },
   {
    "duration": 11,
    "start_time": "2024-11-20T09:31:44.185Z"
   },
   {
    "duration": 10,
    "start_time": "2024-11-20T09:31:59.961Z"
   },
   {
    "duration": 6,
    "start_time": "2024-11-20T09:32:47.532Z"
   },
   {
    "duration": 9,
    "start_time": "2024-11-20T09:33:13.530Z"
   },
   {
    "duration": 7,
    "start_time": "2024-11-20T09:33:21.663Z"
   },
   {
    "duration": 6,
    "start_time": "2024-11-20T09:34:00.737Z"
   },
   {
    "duration": 5,
    "start_time": "2024-11-20T09:34:11.578Z"
   },
   {
    "duration": 11,
    "start_time": "2024-11-20T09:35:31.024Z"
   },
   {
    "duration": 1034,
    "start_time": "2024-11-20T09:38:38.570Z"
   },
   {
    "duration": 15,
    "start_time": "2024-11-20T09:38:50.029Z"
   },
   {
    "duration": 14,
    "start_time": "2024-11-20T09:39:01.649Z"
   },
   {
    "duration": 10,
    "start_time": "2024-11-20T09:39:13.273Z"
   },
   {
    "duration": 6,
    "start_time": "2024-11-20T09:41:18.541Z"
   },
   {
    "duration": 6,
    "start_time": "2024-11-20T09:42:03.404Z"
   },
   {
    "duration": 5,
    "start_time": "2024-11-20T09:42:17.865Z"
   },
   {
    "duration": 1086,
    "start_time": "2024-11-20T09:48:04.559Z"
   },
   {
    "duration": 3,
    "start_time": "2024-11-20T09:48:05.647Z"
   },
   {
    "duration": 99,
    "start_time": "2024-11-20T09:48:05.652Z"
   },
   {
    "duration": 3,
    "start_time": "2024-11-20T09:48:05.754Z"
   },
   {
    "duration": 12,
    "start_time": "2024-11-20T09:48:05.759Z"
   },
   {
    "duration": 22,
    "start_time": "2024-11-20T09:48:05.773Z"
   },
   {
    "duration": 39,
    "start_time": "2024-11-20T09:48:05.797Z"
   },
   {
    "duration": 37,
    "start_time": "2024-11-20T09:48:05.838Z"
   },
   {
    "duration": 52,
    "start_time": "2024-11-20T09:48:05.877Z"
   },
   {
    "duration": 19,
    "start_time": "2024-11-20T09:48:05.931Z"
   },
   {
    "duration": 12,
    "start_time": "2024-11-20T09:48:05.951Z"
   },
   {
    "duration": 24,
    "start_time": "2024-11-20T09:48:05.966Z"
   },
   {
    "duration": 18,
    "start_time": "2024-11-20T09:48:05.992Z"
   },
   {
    "duration": 34,
    "start_time": "2024-11-20T09:48:06.011Z"
   },
   {
    "duration": 18,
    "start_time": "2024-11-20T09:48:06.047Z"
   },
   {
    "duration": 29,
    "start_time": "2024-11-20T09:48:06.067Z"
   },
   {
    "duration": 29,
    "start_time": "2024-11-20T09:48:06.097Z"
   },
   {
    "duration": 26,
    "start_time": "2024-11-20T09:48:06.128Z"
   },
   {
    "duration": 9,
    "start_time": "2024-11-20T09:48:06.156Z"
   },
   {
    "duration": 26,
    "start_time": "2024-11-20T09:48:06.167Z"
   },
   {
    "duration": 210,
    "start_time": "2024-11-20T09:48:06.195Z"
   },
   {
    "duration": 128,
    "start_time": "2024-11-20T09:48:06.406Z"
   },
   {
    "duration": 35,
    "start_time": "2024-11-20T09:48:06.536Z"
   },
   {
    "duration": 11,
    "start_time": "2024-11-20T09:48:06.572Z"
   },
   {
    "duration": 19,
    "start_time": "2024-11-20T09:48:06.584Z"
   },
   {
    "duration": 354,
    "start_time": "2024-11-20T09:48:06.604Z"
   },
   {
    "duration": 372,
    "start_time": "2024-11-20T09:48:06.960Z"
   },
   {
    "duration": 428,
    "start_time": "2024-11-20T09:48:07.334Z"
   },
   {
    "duration": 6,
    "start_time": "2024-11-20T09:48:07.763Z"
   },
   {
    "duration": 19,
    "start_time": "2024-11-20T09:48:07.770Z"
   },
   {
    "duration": 5,
    "start_time": "2024-11-20T09:48:07.790Z"
   },
   {
    "duration": 375,
    "start_time": "2024-11-20T09:48:07.796Z"
   },
   {
    "duration": 434,
    "start_time": "2024-11-20T09:48:08.172Z"
   },
   {
    "duration": 23,
    "start_time": "2024-11-20T09:48:08.607Z"
   },
   {
    "duration": 14,
    "start_time": "2024-11-20T09:48:08.632Z"
   },
   {
    "duration": 220,
    "start_time": "2024-11-20T09:48:08.652Z"
   },
   {
    "duration": 6,
    "start_time": "2024-11-20T09:48:08.874Z"
   },
   {
    "duration": 208,
    "start_time": "2024-11-20T09:48:08.882Z"
   },
   {
    "duration": 5,
    "start_time": "2024-11-20T09:48:09.092Z"
   },
   {
    "duration": 226,
    "start_time": "2024-11-20T09:48:09.098Z"
   },
   {
    "duration": 147,
    "start_time": "2024-11-20T09:48:09.326Z"
   },
   {
    "duration": 9,
    "start_time": "2024-11-20T09:48:09.474Z"
   },
   {
    "duration": 42,
    "start_time": "2024-11-20T09:48:09.485Z"
   },
   {
    "duration": 11,
    "start_time": "2024-11-20T09:48:09.529Z"
   },
   {
    "duration": 20,
    "start_time": "2024-11-20T09:48:09.541Z"
   },
   {
    "duration": 9,
    "start_time": "2024-11-20T09:48:09.563Z"
   },
   {
    "duration": 47,
    "start_time": "2024-11-20T09:48:09.573Z"
   },
   {
    "duration": 18,
    "start_time": "2024-11-20T09:48:09.622Z"
   },
   {
    "duration": 7,
    "start_time": "2024-11-20T09:52:00.152Z"
   },
   {
    "duration": 11,
    "start_time": "2024-11-20T09:56:31.241Z"
   },
   {
    "duration": 5,
    "start_time": "2024-11-20T09:58:41.119Z"
   },
   {
    "duration": 13,
    "start_time": "2024-11-20T09:58:51.728Z"
   },
   {
    "duration": 9,
    "start_time": "2024-11-20T09:59:34.840Z"
   },
   {
    "duration": 6,
    "start_time": "2024-11-20T09:59:39.147Z"
   },
   {
    "duration": 10,
    "start_time": "2024-11-20T09:59:42.543Z"
   },
   {
    "duration": 11,
    "start_time": "2024-11-20T09:59:52.167Z"
   },
   {
    "duration": 122,
    "start_time": "2024-11-20T10:10:49.597Z"
   },
   {
    "duration": 9,
    "start_time": "2024-11-20T10:11:07.015Z"
   },
   {
    "duration": 11,
    "start_time": "2024-11-20T10:11:12.494Z"
   },
   {
    "duration": 11,
    "start_time": "2024-11-20T10:12:25.958Z"
   },
   {
    "duration": 6,
    "start_time": "2024-11-20T10:13:04.230Z"
   },
   {
    "duration": 5,
    "start_time": "2024-11-20T10:14:50.776Z"
   },
   {
    "duration": 5,
    "start_time": "2024-11-20T10:17:05.453Z"
   },
   {
    "duration": 1192,
    "start_time": "2024-11-20T10:17:40.813Z"
   },
   {
    "duration": 4,
    "start_time": "2024-11-20T10:17:48.269Z"
   },
   {
    "duration": 4,
    "start_time": "2024-11-20T10:18:55.638Z"
   },
   {
    "duration": 5,
    "start_time": "2024-11-20T10:19:07.878Z"
   },
   {
    "duration": 4,
    "start_time": "2024-11-20T10:19:34.676Z"
   },
   {
    "duration": 11,
    "start_time": "2024-11-20T10:22:03.229Z"
   },
   {
    "duration": 14,
    "start_time": "2024-11-20T10:23:03.301Z"
   },
   {
    "duration": 9,
    "start_time": "2024-11-20T10:23:24.787Z"
   },
   {
    "duration": 3,
    "start_time": "2024-11-20T10:24:03.372Z"
   },
   {
    "duration": 5,
    "start_time": "2024-11-20T10:24:12.837Z"
   },
   {
    "duration": 4,
    "start_time": "2024-11-20T10:25:44.557Z"
   },
   {
    "duration": 14,
    "start_time": "2024-11-20T10:26:07.109Z"
   },
   {
    "duration": 6,
    "start_time": "2024-11-20T10:26:21.526Z"
   },
   {
    "duration": 4,
    "start_time": "2024-11-20T10:27:20.892Z"
   },
   {
    "duration": 6,
    "start_time": "2024-11-20T10:27:30.020Z"
   },
   {
    "duration": 1061,
    "start_time": "2024-11-20T10:28:36.876Z"
   },
   {
    "duration": 3,
    "start_time": "2024-11-20T10:28:37.939Z"
   },
   {
    "duration": 91,
    "start_time": "2024-11-20T10:28:37.943Z"
   },
   {
    "duration": 3,
    "start_time": "2024-11-20T10:28:38.036Z"
   },
   {
    "duration": 26,
    "start_time": "2024-11-20T10:28:38.041Z"
   },
   {
    "duration": 43,
    "start_time": "2024-11-20T10:28:38.069Z"
   },
   {
    "duration": 7,
    "start_time": "2024-11-20T10:28:38.114Z"
   },
   {
    "duration": 21,
    "start_time": "2024-11-20T10:28:38.122Z"
   },
   {
    "duration": 51,
    "start_time": "2024-11-20T10:28:38.145Z"
   },
   {
    "duration": 19,
    "start_time": "2024-11-20T10:28:38.199Z"
   },
   {
    "duration": 10,
    "start_time": "2024-11-20T10:28:38.220Z"
   },
   {
    "duration": 16,
    "start_time": "2024-11-20T10:28:38.231Z"
   },
   {
    "duration": 22,
    "start_time": "2024-11-20T10:28:38.248Z"
   },
   {
    "duration": 7,
    "start_time": "2024-11-20T10:28:38.272Z"
   },
   {
    "duration": 6,
    "start_time": "2024-11-20T10:28:38.281Z"
   },
   {
    "duration": 8,
    "start_time": "2024-11-20T10:28:38.288Z"
   },
   {
    "duration": 8,
    "start_time": "2024-11-20T10:28:38.297Z"
   },
   {
    "duration": 14,
    "start_time": "2024-11-20T10:28:38.306Z"
   },
   {
    "duration": 14,
    "start_time": "2024-11-20T10:28:38.321Z"
   },
   {
    "duration": 15,
    "start_time": "2024-11-20T10:28:38.337Z"
   },
   {
    "duration": 19,
    "start_time": "2024-11-20T10:28:38.353Z"
   },
   {
    "duration": 89,
    "start_time": "2024-11-20T10:28:38.374Z"
   },
   {
    "duration": 72,
    "start_time": "2024-11-20T10:28:38.465Z"
   },
   {
    "duration": 14,
    "start_time": "2024-11-20T10:28:38.539Z"
   },
   {
    "duration": 26,
    "start_time": "2024-11-20T10:28:38.555Z"
   },
   {
    "duration": 11,
    "start_time": "2024-11-20T10:28:38.582Z"
   },
   {
    "duration": 371,
    "start_time": "2024-11-20T10:28:38.594Z"
   },
   {
    "duration": 343,
    "start_time": "2024-11-20T10:28:38.969Z"
   },
   {
    "duration": 281,
    "start_time": "2024-11-20T10:28:39.318Z"
   },
   {
    "duration": 6,
    "start_time": "2024-11-20T10:28:39.601Z"
   },
   {
    "duration": 6,
    "start_time": "2024-11-20T10:28:39.617Z"
   },
   {
    "duration": 6,
    "start_time": "2024-11-20T10:28:39.625Z"
   },
   {
    "duration": 362,
    "start_time": "2024-11-20T10:28:39.633Z"
   },
   {
    "duration": 444,
    "start_time": "2024-11-20T10:28:39.997Z"
   },
   {
    "duration": 13,
    "start_time": "2024-11-20T10:28:40.443Z"
   },
   {
    "duration": 7,
    "start_time": "2024-11-20T10:28:40.458Z"
   },
   {
    "duration": 206,
    "start_time": "2024-11-20T10:28:40.467Z"
   },
   {
    "duration": 7,
    "start_time": "2024-11-20T10:28:40.674Z"
   },
   {
    "duration": 181,
    "start_time": "2024-11-20T10:28:40.683Z"
   },
   {
    "duration": 4,
    "start_time": "2024-11-20T10:28:40.866Z"
   },
   {
    "duration": 201,
    "start_time": "2024-11-20T10:28:40.872Z"
   },
   {
    "duration": 72,
    "start_time": "2024-11-20T10:28:41.075Z"
   },
   {
    "duration": 8,
    "start_time": "2024-11-20T10:28:41.148Z"
   },
   {
    "duration": 27,
    "start_time": "2024-11-20T10:28:41.157Z"
   },
   {
    "duration": 126,
    "start_time": "2024-11-20T10:28:41.186Z"
   },
   {
    "duration": 0,
    "start_time": "2024-11-20T10:28:41.314Z"
   },
   {
    "duration": 0,
    "start_time": "2024-11-20T10:28:41.317Z"
   },
   {
    "duration": 0,
    "start_time": "2024-11-20T10:28:41.318Z"
   },
   {
    "duration": 0,
    "start_time": "2024-11-20T10:28:41.319Z"
   },
   {
    "duration": 5,
    "start_time": "2024-11-20T10:29:25.821Z"
   },
   {
    "duration": 1107,
    "start_time": "2024-11-20T10:30:34.784Z"
   },
   {
    "duration": 3,
    "start_time": "2024-11-20T10:30:35.893Z"
   },
   {
    "duration": 111,
    "start_time": "2024-11-20T10:30:35.897Z"
   },
   {
    "duration": 3,
    "start_time": "2024-11-20T10:30:36.010Z"
   },
   {
    "duration": 23,
    "start_time": "2024-11-20T10:30:36.015Z"
   },
   {
    "duration": 16,
    "start_time": "2024-11-20T10:30:36.040Z"
   },
   {
    "duration": 9,
    "start_time": "2024-11-20T10:30:36.058Z"
   },
   {
    "duration": 24,
    "start_time": "2024-11-20T10:30:36.068Z"
   },
   {
    "duration": 49,
    "start_time": "2024-11-20T10:30:36.093Z"
   },
   {
    "duration": 20,
    "start_time": "2024-11-20T10:30:36.143Z"
   },
   {
    "duration": 12,
    "start_time": "2024-11-20T10:30:36.164Z"
   },
   {
    "duration": 44,
    "start_time": "2024-11-20T10:30:36.178Z"
   },
   {
    "duration": 21,
    "start_time": "2024-11-20T10:30:36.224Z"
   },
   {
    "duration": 31,
    "start_time": "2024-11-20T10:30:36.248Z"
   },
   {
    "duration": 19,
    "start_time": "2024-11-20T10:30:36.281Z"
   },
   {
    "duration": 62,
    "start_time": "2024-11-20T10:30:36.302Z"
   },
   {
    "duration": 54,
    "start_time": "2024-11-20T10:30:36.366Z"
   },
   {
    "duration": 9,
    "start_time": "2024-11-20T10:30:36.422Z"
   },
   {
    "duration": 17,
    "start_time": "2024-11-20T10:30:36.432Z"
   },
   {
    "duration": 206,
    "start_time": "2024-11-20T10:30:36.451Z"
   },
   {
    "duration": 124,
    "start_time": "2024-11-20T10:30:36.659Z"
   },
   {
    "duration": 11,
    "start_time": "2024-11-20T10:30:36.785Z"
   },
   {
    "duration": 22,
    "start_time": "2024-11-20T10:30:36.797Z"
   },
   {
    "duration": 10,
    "start_time": "2024-11-20T10:30:36.820Z"
   },
   {
    "duration": 372,
    "start_time": "2024-11-20T10:30:36.832Z"
   },
   {
    "duration": 352,
    "start_time": "2024-11-20T10:30:37.206Z"
   },
   {
    "duration": 454,
    "start_time": "2024-11-20T10:30:37.560Z"
   },
   {
    "duration": 5,
    "start_time": "2024-11-20T10:30:38.018Z"
   },
   {
    "duration": 7,
    "start_time": "2024-11-20T10:30:38.025Z"
   },
   {
    "duration": 5,
    "start_time": "2024-11-20T10:30:38.033Z"
   },
   {
    "duration": 427,
    "start_time": "2024-11-20T10:30:38.040Z"
   },
   {
    "duration": 420,
    "start_time": "2024-11-20T10:30:38.469Z"
   },
   {
    "duration": 12,
    "start_time": "2024-11-20T10:30:38.891Z"
   },
   {
    "duration": 19,
    "start_time": "2024-11-20T10:30:38.904Z"
   },
   {
    "duration": 159,
    "start_time": "2024-11-20T10:30:38.925Z"
   },
   {
    "duration": 5,
    "start_time": "2024-11-20T10:30:39.086Z"
   },
   {
    "duration": 185,
    "start_time": "2024-11-20T10:30:39.092Z"
   },
   {
    "duration": 5,
    "start_time": "2024-11-20T10:30:39.279Z"
   },
   {
    "duration": 233,
    "start_time": "2024-11-20T10:30:39.285Z"
   },
   {
    "duration": 156,
    "start_time": "2024-11-20T10:30:39.520Z"
   },
   {
    "duration": 9,
    "start_time": "2024-11-20T10:30:39.679Z"
   },
   {
    "duration": 42,
    "start_time": "2024-11-20T10:30:39.690Z"
   },
   {
    "duration": 11,
    "start_time": "2024-11-20T10:30:39.734Z"
   },
   {
    "duration": 10,
    "start_time": "2024-11-20T10:30:39.747Z"
   },
   {
    "duration": 15,
    "start_time": "2024-11-20T10:30:39.759Z"
   },
   {
    "duration": 48,
    "start_time": "2024-11-20T10:30:39.776Z"
   },
   {
    "duration": 13,
    "start_time": "2024-11-20T10:30:39.826Z"
   },
   {
    "duration": 7,
    "start_time": "2024-11-20T10:35:34.675Z"
   },
   {
    "duration": 10,
    "start_time": "2024-11-20T10:35:40.868Z"
   },
   {
    "duration": 100,
    "start_time": "2024-11-20T10:36:34.372Z"
   },
   {
    "duration": 9,
    "start_time": "2024-11-20T10:37:03.195Z"
   },
   {
    "duration": 7,
    "start_time": "2024-11-20T10:37:06.076Z"
   },
   {
    "duration": 1123,
    "start_time": "2024-11-20T10:37:06.668Z"
   },
   {
    "duration": 8,
    "start_time": "2024-11-20T10:37:25.140Z"
   },
   {
    "duration": 15,
    "start_time": "2024-11-20T10:37:27.820Z"
   },
   {
    "duration": 12,
    "start_time": "2024-11-20T10:37:44.891Z"
   },
   {
    "duration": 1135,
    "start_time": "2024-11-20T10:37:52.652Z"
   },
   {
    "duration": 1098,
    "start_time": "2024-11-20T10:38:22.700Z"
   },
   {
    "duration": 11,
    "start_time": "2024-11-20T10:38:29.726Z"
   },
   {
    "duration": 9,
    "start_time": "2024-11-20T10:39:07.764Z"
   },
   {
    "duration": 9,
    "start_time": "2024-11-20T10:39:22.443Z"
   },
   {
    "duration": 5,
    "start_time": "2024-11-20T10:39:23.228Z"
   },
   {
    "duration": 10,
    "start_time": "2024-11-20T10:39:37.983Z"
   },
   {
    "duration": 1115,
    "start_time": "2024-11-20T10:39:51.143Z"
   },
   {
    "duration": 2,
    "start_time": "2024-11-20T10:39:52.260Z"
   },
   {
    "duration": 113,
    "start_time": "2024-11-20T10:39:52.264Z"
   },
   {
    "duration": 3,
    "start_time": "2024-11-20T10:39:52.379Z"
   },
   {
    "duration": 39,
    "start_time": "2024-11-20T10:39:52.383Z"
   },
   {
    "duration": 31,
    "start_time": "2024-11-20T10:39:52.424Z"
   },
   {
    "duration": 36,
    "start_time": "2024-11-20T10:39:52.457Z"
   },
   {
    "duration": 42,
    "start_time": "2024-11-20T10:39:52.495Z"
   },
   {
    "duration": 76,
    "start_time": "2024-11-20T10:39:52.538Z"
   },
   {
    "duration": 19,
    "start_time": "2024-11-20T10:39:52.618Z"
   },
   {
    "duration": 23,
    "start_time": "2024-11-20T10:39:52.639Z"
   },
   {
    "duration": 43,
    "start_time": "2024-11-20T10:39:52.664Z"
   },
   {
    "duration": 25,
    "start_time": "2024-11-20T10:39:52.709Z"
   },
   {
    "duration": 43,
    "start_time": "2024-11-20T10:39:52.735Z"
   },
   {
    "duration": 40,
    "start_time": "2024-11-20T10:39:52.780Z"
   },
   {
    "duration": 31,
    "start_time": "2024-11-20T10:39:52.821Z"
   },
   {
    "duration": 18,
    "start_time": "2024-11-20T10:39:52.855Z"
   },
   {
    "duration": 41,
    "start_time": "2024-11-20T10:39:52.874Z"
   },
   {
    "duration": 27,
    "start_time": "2024-11-20T10:39:52.917Z"
   },
   {
    "duration": 51,
    "start_time": "2024-11-20T10:39:52.946Z"
   },
   {
    "duration": 45,
    "start_time": "2024-11-20T10:39:52.999Z"
   },
   {
    "duration": 61,
    "start_time": "2024-11-20T10:39:53.046Z"
   },
   {
    "duration": 195,
    "start_time": "2024-11-20T10:39:53.109Z"
   },
   {
    "duration": 127,
    "start_time": "2024-11-20T10:39:53.305Z"
   },
   {
    "duration": 77,
    "start_time": "2024-11-20T10:39:53.434Z"
   },
   {
    "duration": 25,
    "start_time": "2024-11-20T10:39:53.512Z"
   },
   {
    "duration": 37,
    "start_time": "2024-11-20T10:39:53.539Z"
   },
   {
    "duration": 353,
    "start_time": "2024-11-20T10:39:53.579Z"
   },
   {
    "duration": 344,
    "start_time": "2024-11-20T10:39:53.934Z"
   },
   {
    "duration": 428,
    "start_time": "2024-11-20T10:39:54.280Z"
   },
   {
    "duration": 11,
    "start_time": "2024-11-20T10:39:54.710Z"
   },
   {
    "duration": 11,
    "start_time": "2024-11-20T10:39:54.724Z"
   },
   {
    "duration": 10,
    "start_time": "2024-11-20T10:39:54.738Z"
   },
   {
    "duration": 368,
    "start_time": "2024-11-20T10:39:54.749Z"
   },
   {
    "duration": 451,
    "start_time": "2024-11-20T10:39:55.119Z"
   },
   {
    "duration": 12,
    "start_time": "2024-11-20T10:39:55.571Z"
   },
   {
    "duration": 7,
    "start_time": "2024-11-20T10:39:55.584Z"
   },
   {
    "duration": 200,
    "start_time": "2024-11-20T10:39:55.592Z"
   },
   {
    "duration": 5,
    "start_time": "2024-11-20T10:39:55.794Z"
   },
   {
    "duration": 180,
    "start_time": "2024-11-20T10:39:55.800Z"
   },
   {
    "duration": 5,
    "start_time": "2024-11-20T10:39:55.982Z"
   },
   {
    "duration": 232,
    "start_time": "2024-11-20T10:39:55.988Z"
   },
   {
    "duration": 144,
    "start_time": "2024-11-20T10:39:56.222Z"
   },
   {
    "duration": 8,
    "start_time": "2024-11-20T10:39:56.368Z"
   },
   {
    "duration": 40,
    "start_time": "2024-11-20T10:39:56.377Z"
   },
   {
    "duration": 9,
    "start_time": "2024-11-20T10:39:56.420Z"
   },
   {
    "duration": 8,
    "start_time": "2024-11-20T10:39:56.431Z"
   },
   {
    "duration": 24,
    "start_time": "2024-11-20T10:39:56.441Z"
   },
   {
    "duration": 25,
    "start_time": "2024-11-20T10:39:56.467Z"
   },
   {
    "duration": 30,
    "start_time": "2024-11-20T10:39:56.494Z"
   },
   {
    "duration": 12,
    "start_time": "2024-11-20T10:40:57.773Z"
   },
   {
    "duration": 343,
    "start_time": "2024-11-20T10:42:21.708Z"
   },
   {
    "duration": 580,
    "start_time": "2024-11-20T10:42:41.524Z"
   },
   {
    "duration": 28,
    "start_time": "2024-11-20T10:46:59.932Z"
   },
   {
    "duration": 29,
    "start_time": "2024-11-20T10:47:35.207Z"
   },
   {
    "duration": 28,
    "start_time": "2024-11-20T10:47:40.388Z"
   },
   {
    "duration": 29,
    "start_time": "2024-11-20T10:47:53.579Z"
   },
   {
    "duration": 28,
    "start_time": "2024-11-20T10:48:16.813Z"
   },
   {
    "duration": 36,
    "start_time": "2024-11-20T10:48:35.532Z"
   },
   {
    "duration": 31,
    "start_time": "2024-11-20T10:48:49.844Z"
   },
   {
    "duration": 28,
    "start_time": "2024-11-20T10:49:00.261Z"
   },
   {
    "duration": 28,
    "start_time": "2024-11-20T10:49:04.587Z"
   },
   {
    "duration": 28,
    "start_time": "2024-11-20T10:49:21.235Z"
   },
   {
    "duration": 98,
    "start_time": "2024-11-20T10:52:38.406Z"
   },
   {
    "duration": 12,
    "start_time": "2024-11-20T10:55:29.627Z"
   },
   {
    "duration": 10,
    "start_time": "2024-11-20T10:56:36.323Z"
   },
   {
    "duration": 5,
    "start_time": "2024-11-20T10:56:43.705Z"
   },
   {
    "duration": 10,
    "start_time": "2024-11-20T10:57:08.836Z"
   },
   {
    "duration": 9,
    "start_time": "2024-11-20T10:58:20.610Z"
   },
   {
    "duration": 25,
    "start_time": "2024-11-20T10:58:37.235Z"
   },
   {
    "duration": 8,
    "start_time": "2024-11-20T10:58:42.507Z"
   },
   {
    "duration": 25,
    "start_time": "2024-11-20T10:58:43.555Z"
   },
   {
    "duration": 25,
    "start_time": "2024-11-20T10:59:15.314Z"
   },
   {
    "duration": 25,
    "start_time": "2024-11-20T10:59:36.319Z"
   },
   {
    "duration": 25,
    "start_time": "2024-11-20T10:59:57.185Z"
   },
   {
    "duration": 14,
    "start_time": "2024-11-20T11:00:14.732Z"
   },
   {
    "duration": 1047,
    "start_time": "2024-11-20T11:00:52.626Z"
   },
   {
    "duration": 3,
    "start_time": "2024-11-20T11:00:53.675Z"
   },
   {
    "duration": 89,
    "start_time": "2024-11-20T11:00:53.682Z"
   },
   {
    "duration": 3,
    "start_time": "2024-11-20T11:00:53.774Z"
   },
   {
    "duration": 7,
    "start_time": "2024-11-20T11:00:53.779Z"
   },
   {
    "duration": 17,
    "start_time": "2024-11-20T11:00:53.787Z"
   },
   {
    "duration": 5,
    "start_time": "2024-11-20T11:00:53.806Z"
   },
   {
    "duration": 14,
    "start_time": "2024-11-20T11:00:53.813Z"
   },
   {
    "duration": 50,
    "start_time": "2024-11-20T11:00:53.828Z"
   },
   {
    "duration": 19,
    "start_time": "2024-11-20T11:00:53.880Z"
   },
   {
    "duration": 11,
    "start_time": "2024-11-20T11:00:53.901Z"
   },
   {
    "duration": 15,
    "start_time": "2024-11-20T11:00:53.913Z"
   },
   {
    "duration": 5,
    "start_time": "2024-11-20T11:00:53.931Z"
   },
   {
    "duration": 5,
    "start_time": "2024-11-20T11:00:53.938Z"
   },
   {
    "duration": 9,
    "start_time": "2024-11-20T11:00:53.945Z"
   },
   {
    "duration": 6,
    "start_time": "2024-11-20T11:00:53.956Z"
   },
   {
    "duration": 3,
    "start_time": "2024-11-20T11:00:53.964Z"
   },
   {
    "duration": 8,
    "start_time": "2024-11-20T11:00:53.969Z"
   },
   {
    "duration": 41,
    "start_time": "2024-11-20T11:00:53.978Z"
   },
   {
    "duration": 18,
    "start_time": "2024-11-20T11:00:54.021Z"
   },
   {
    "duration": 9,
    "start_time": "2024-11-20T11:00:54.040Z"
   },
   {
    "duration": 179,
    "start_time": "2024-11-20T11:00:54.051Z"
   },
   {
    "duration": 125,
    "start_time": "2024-11-20T11:00:54.232Z"
   },
   {
    "duration": 11,
    "start_time": "2024-11-20T11:00:54.359Z"
   },
   {
    "duration": 14,
    "start_time": "2024-11-20T11:00:54.372Z"
   },
   {
    "duration": 4,
    "start_time": "2024-11-20T11:00:54.387Z"
   },
   {
    "duration": 370,
    "start_time": "2024-11-20T11:00:54.393Z"
   },
   {
    "duration": 368,
    "start_time": "2024-11-20T11:00:54.764Z"
   },
   {
    "duration": 420,
    "start_time": "2024-11-20T11:00:55.134Z"
   },
   {
    "duration": 5,
    "start_time": "2024-11-20T11:00:55.556Z"
   },
   {
    "duration": 19,
    "start_time": "2024-11-20T11:00:55.562Z"
   },
   {
    "duration": 6,
    "start_time": "2024-11-20T11:00:55.582Z"
   },
   {
    "duration": 357,
    "start_time": "2024-11-20T11:00:55.590Z"
   },
   {
    "duration": 444,
    "start_time": "2024-11-20T11:00:55.949Z"
   },
   {
    "duration": 13,
    "start_time": "2024-11-20T11:00:56.395Z"
   },
   {
    "duration": 8,
    "start_time": "2024-11-20T11:00:56.419Z"
   },
   {
    "duration": 209,
    "start_time": "2024-11-20T11:00:56.428Z"
   },
   {
    "duration": 4,
    "start_time": "2024-11-20T11:00:56.639Z"
   },
   {
    "duration": 176,
    "start_time": "2024-11-20T11:00:56.644Z"
   },
   {
    "duration": 5,
    "start_time": "2024-11-20T11:00:56.823Z"
   },
   {
    "duration": 223,
    "start_time": "2024-11-20T11:00:56.829Z"
   },
   {
    "duration": 124,
    "start_time": "2024-11-20T11:00:57.053Z"
   },
   {
    "duration": 8,
    "start_time": "2024-11-20T11:00:57.178Z"
   },
   {
    "duration": 73,
    "start_time": "2024-11-20T11:00:57.187Z"
   },
   {
    "duration": 9,
    "start_time": "2024-11-20T11:00:57.261Z"
   },
   {
    "duration": 8,
    "start_time": "2024-11-20T11:00:57.272Z"
   },
   {
    "duration": 7,
    "start_time": "2024-11-20T11:00:57.281Z"
   },
   {
    "duration": 24,
    "start_time": "2024-11-20T11:00:57.289Z"
   },
   {
    "duration": 12,
    "start_time": "2024-11-20T11:00:57.318Z"
   },
   {
    "duration": 134,
    "start_time": "2024-11-20T11:09:15.938Z"
   },
   {
    "duration": 95,
    "start_time": "2024-11-20T11:09:23.362Z"
   },
   {
    "duration": 8,
    "start_time": "2024-11-20T11:09:28.851Z"
   },
   {
    "duration": 8,
    "start_time": "2024-11-20T11:11:18.026Z"
   },
   {
    "duration": 10,
    "start_time": "2024-11-20T11:15:21.658Z"
   },
   {
    "duration": 13,
    "start_time": "2024-11-20T11:15:27.641Z"
   },
   {
    "duration": 8,
    "start_time": "2024-11-20T11:15:40.961Z"
   },
   {
    "duration": 9,
    "start_time": "2024-11-20T11:15:59.048Z"
   },
   {
    "duration": 8,
    "start_time": "2024-11-20T11:17:16.031Z"
   },
   {
    "duration": 4,
    "start_time": "2024-11-20T11:17:24.649Z"
   },
   {
    "duration": 1053,
    "start_time": "2024-11-20T11:17:44.349Z"
   },
   {
    "duration": 2,
    "start_time": "2024-11-20T11:17:45.405Z"
   },
   {
    "duration": 122,
    "start_time": "2024-11-20T11:17:45.408Z"
   },
   {
    "duration": 4,
    "start_time": "2024-11-20T11:17:45.532Z"
   },
   {
    "duration": 8,
    "start_time": "2024-11-20T11:17:45.539Z"
   },
   {
    "duration": 11,
    "start_time": "2024-11-20T11:17:45.548Z"
   },
   {
    "duration": 6,
    "start_time": "2024-11-20T11:17:45.560Z"
   },
   {
    "duration": 12,
    "start_time": "2024-11-20T11:17:45.567Z"
   },
   {
    "duration": 45,
    "start_time": "2024-11-20T11:17:45.580Z"
   },
   {
    "duration": 19,
    "start_time": "2024-11-20T11:17:45.626Z"
   },
   {
    "duration": 12,
    "start_time": "2024-11-20T11:17:45.646Z"
   },
   {
    "duration": 20,
    "start_time": "2024-11-20T11:17:45.659Z"
   },
   {
    "duration": 6,
    "start_time": "2024-11-20T11:17:45.681Z"
   },
   {
    "duration": 26,
    "start_time": "2024-11-20T11:17:45.692Z"
   },
   {
    "duration": 10,
    "start_time": "2024-11-20T11:17:45.720Z"
   },
   {
    "duration": 6,
    "start_time": "2024-11-20T11:17:45.732Z"
   },
   {
    "duration": 3,
    "start_time": "2024-11-20T11:17:45.740Z"
   },
   {
    "duration": 9,
    "start_time": "2024-11-20T11:17:45.745Z"
   },
   {
    "duration": 6,
    "start_time": "2024-11-20T11:17:45.756Z"
   },
   {
    "duration": 14,
    "start_time": "2024-11-20T11:17:45.763Z"
   },
   {
    "duration": 11,
    "start_time": "2024-11-20T11:17:45.818Z"
   },
   {
    "duration": 182,
    "start_time": "2024-11-20T11:17:45.831Z"
   },
   {
    "duration": 130,
    "start_time": "2024-11-20T11:17:46.018Z"
   },
   {
    "duration": 11,
    "start_time": "2024-11-20T11:17:46.150Z"
   },
   {
    "duration": 7,
    "start_time": "2024-11-20T11:17:46.163Z"
   },
   {
    "duration": 4,
    "start_time": "2024-11-20T11:17:46.171Z"
   },
   {
    "duration": 389,
    "start_time": "2024-11-20T11:17:46.177Z"
   },
   {
    "duration": 344,
    "start_time": "2024-11-20T11:17:46.567Z"
   },
   {
    "duration": 444,
    "start_time": "2024-11-20T11:17:46.913Z"
   },
   {
    "duration": 6,
    "start_time": "2024-11-20T11:17:47.358Z"
   },
   {
    "duration": 7,
    "start_time": "2024-11-20T11:17:47.365Z"
   },
   {
    "duration": 7,
    "start_time": "2024-11-20T11:17:47.373Z"
   },
   {
    "duration": 357,
    "start_time": "2024-11-20T11:17:47.382Z"
   },
   {
    "duration": 472,
    "start_time": "2024-11-20T11:17:47.741Z"
   },
   {
    "duration": 11,
    "start_time": "2024-11-20T11:17:48.218Z"
   },
   {
    "duration": 8,
    "start_time": "2024-11-20T11:17:48.231Z"
   },
   {
    "duration": 184,
    "start_time": "2024-11-20T11:17:48.241Z"
   },
   {
    "duration": 5,
    "start_time": "2024-11-20T11:17:48.427Z"
   },
   {
    "duration": 179,
    "start_time": "2024-11-20T11:17:48.433Z"
   },
   {
    "duration": 5,
    "start_time": "2024-11-20T11:17:48.617Z"
   },
   {
    "duration": 221,
    "start_time": "2024-11-20T11:17:48.625Z"
   },
   {
    "duration": 134,
    "start_time": "2024-11-20T11:17:48.848Z"
   },
   {
    "duration": 8,
    "start_time": "2024-11-20T11:17:48.984Z"
   },
   {
    "duration": 46,
    "start_time": "2024-11-20T11:17:48.993Z"
   },
   {
    "duration": 10,
    "start_time": "2024-11-20T11:17:49.040Z"
   },
   {
    "duration": 9,
    "start_time": "2024-11-20T11:17:49.051Z"
   },
   {
    "duration": 18,
    "start_time": "2024-11-20T11:17:49.061Z"
   },
   {
    "duration": 46,
    "start_time": "2024-11-20T11:17:49.081Z"
   },
   {
    "duration": 14,
    "start_time": "2024-11-20T11:17:49.129Z"
   },
   {
    "duration": 104,
    "start_time": "2024-11-20T11:20:14.695Z"
   },
   {
    "duration": 11,
    "start_time": "2024-11-20T11:20:48.184Z"
   },
   {
    "duration": 17,
    "start_time": "2024-11-20T11:20:59.799Z"
   },
   {
    "duration": 17,
    "start_time": "2024-11-20T11:21:08.247Z"
   },
   {
    "duration": 16,
    "start_time": "2024-11-20T11:21:22.768Z"
   },
   {
    "duration": 9,
    "start_time": "2024-11-20T11:22:19.064Z"
   },
   {
    "duration": 13,
    "start_time": "2024-11-20T11:22:42.256Z"
   },
   {
    "duration": 16,
    "start_time": "2024-11-20T11:22:47.286Z"
   },
   {
    "duration": 7,
    "start_time": "2024-11-20T11:23:35.432Z"
   },
   {
    "duration": 1062,
    "start_time": "2024-11-20T12:14:03.256Z"
   },
   {
    "duration": 3,
    "start_time": "2024-11-20T12:14:04.320Z"
   },
   {
    "duration": 100,
    "start_time": "2024-11-20T12:14:04.325Z"
   },
   {
    "duration": 3,
    "start_time": "2024-11-20T12:14:04.427Z"
   },
   {
    "duration": 34,
    "start_time": "2024-11-20T12:14:04.432Z"
   },
   {
    "duration": 22,
    "start_time": "2024-11-20T12:14:04.468Z"
   },
   {
    "duration": 22,
    "start_time": "2024-11-20T12:14:04.491Z"
   },
   {
    "duration": 35,
    "start_time": "2024-11-20T12:14:04.515Z"
   },
   {
    "duration": 62,
    "start_time": "2024-11-20T12:14:04.552Z"
   },
   {
    "duration": 19,
    "start_time": "2024-11-20T12:14:04.616Z"
   },
   {
    "duration": 10,
    "start_time": "2024-11-20T12:14:04.636Z"
   },
   {
    "duration": 38,
    "start_time": "2024-11-20T12:14:04.648Z"
   },
   {
    "duration": 40,
    "start_time": "2024-11-20T12:14:04.688Z"
   },
   {
    "duration": 5,
    "start_time": "2024-11-20T12:14:04.731Z"
   },
   {
    "duration": 54,
    "start_time": "2024-11-20T12:14:04.738Z"
   },
   {
    "duration": 11,
    "start_time": "2024-11-20T12:14:04.793Z"
   },
   {
    "duration": 14,
    "start_time": "2024-11-20T12:14:04.805Z"
   },
   {
    "duration": 26,
    "start_time": "2024-11-20T12:14:04.821Z"
   },
   {
    "duration": 15,
    "start_time": "2024-11-20T12:14:04.848Z"
   },
   {
    "duration": 21,
    "start_time": "2024-11-20T12:14:04.864Z"
   },
   {
    "duration": 8,
    "start_time": "2024-11-20T12:14:04.887Z"
   },
   {
    "duration": 194,
    "start_time": "2024-11-20T12:14:04.896Z"
   },
   {
    "duration": 122,
    "start_time": "2024-11-20T12:14:05.091Z"
   },
   {
    "duration": 16,
    "start_time": "2024-11-20T12:14:05.217Z"
   },
   {
    "duration": 38,
    "start_time": "2024-11-20T12:14:05.235Z"
   },
   {
    "duration": 33,
    "start_time": "2024-11-20T12:14:05.275Z"
   },
   {
    "duration": 398,
    "start_time": "2024-11-20T12:14:05.310Z"
   },
   {
    "duration": 347,
    "start_time": "2024-11-20T12:14:05.710Z"
   },
   {
    "duration": 399,
    "start_time": "2024-11-20T12:14:06.059Z"
   },
   {
    "duration": 5,
    "start_time": "2024-11-20T12:14:06.460Z"
   },
   {
    "duration": 20,
    "start_time": "2024-11-20T12:14:06.467Z"
   },
   {
    "duration": 12,
    "start_time": "2024-11-20T12:14:06.488Z"
   },
   {
    "duration": 403,
    "start_time": "2024-11-20T12:14:06.501Z"
   },
   {
    "duration": 480,
    "start_time": "2024-11-20T12:14:06.906Z"
   },
   {
    "duration": 11,
    "start_time": "2024-11-20T12:14:07.388Z"
   },
   {
    "duration": 18,
    "start_time": "2024-11-20T12:14:07.401Z"
   },
   {
    "duration": 175,
    "start_time": "2024-11-20T12:14:07.421Z"
   },
   {
    "duration": 4,
    "start_time": "2024-11-20T12:14:07.598Z"
   },
   {
    "duration": 237,
    "start_time": "2024-11-20T12:14:07.604Z"
   },
   {
    "duration": 5,
    "start_time": "2024-11-20T12:14:07.842Z"
   },
   {
    "duration": 235,
    "start_time": "2024-11-20T12:14:07.851Z"
   },
   {
    "duration": 135,
    "start_time": "2024-11-20T12:14:08.087Z"
   },
   {
    "duration": 8,
    "start_time": "2024-11-20T12:14:08.224Z"
   },
   {
    "duration": 46,
    "start_time": "2024-11-20T12:14:08.234Z"
   },
   {
    "duration": 11,
    "start_time": "2024-11-20T12:14:08.282Z"
   },
   {
    "duration": 8,
    "start_time": "2024-11-20T12:14:08.295Z"
   },
   {
    "duration": 9,
    "start_time": "2024-11-20T12:14:08.317Z"
   },
   {
    "duration": 36,
    "start_time": "2024-11-20T12:14:08.328Z"
   },
   {
    "duration": 14,
    "start_time": "2024-11-20T12:14:08.366Z"
   },
   {
    "duration": 1125,
    "start_time": "2024-11-20T12:20:15.502Z"
   },
   {
    "duration": 3,
    "start_time": "2024-11-20T12:20:16.629Z"
   },
   {
    "duration": 92,
    "start_time": "2024-11-20T12:20:16.634Z"
   },
   {
    "duration": 3,
    "start_time": "2024-11-20T12:20:16.728Z"
   },
   {
    "duration": 6,
    "start_time": "2024-11-20T12:20:16.733Z"
   },
   {
    "duration": 9,
    "start_time": "2024-11-20T12:20:16.741Z"
   },
   {
    "duration": 29,
    "start_time": "2024-11-20T12:20:16.752Z"
   },
   {
    "duration": 17,
    "start_time": "2024-11-20T12:20:16.783Z"
   },
   {
    "duration": 46,
    "start_time": "2024-11-20T12:20:16.802Z"
   },
   {
    "duration": 19,
    "start_time": "2024-11-20T12:20:16.850Z"
   },
   {
    "duration": 10,
    "start_time": "2024-11-20T12:20:16.871Z"
   },
   {
    "duration": 31,
    "start_time": "2024-11-20T12:20:16.883Z"
   },
   {
    "duration": 8,
    "start_time": "2024-11-20T12:20:16.915Z"
   },
   {
    "duration": 6,
    "start_time": "2024-11-20T12:20:16.926Z"
   },
   {
    "duration": 10,
    "start_time": "2024-11-20T12:20:16.934Z"
   },
   {
    "duration": 8,
    "start_time": "2024-11-20T12:20:16.946Z"
   },
   {
    "duration": 12,
    "start_time": "2024-11-20T12:20:16.955Z"
   },
   {
    "duration": 10,
    "start_time": "2024-11-20T12:20:16.968Z"
   },
   {
    "duration": 7,
    "start_time": "2024-11-20T12:20:16.979Z"
   },
   {
    "duration": 40,
    "start_time": "2024-11-20T12:20:16.987Z"
   },
   {
    "duration": 9,
    "start_time": "2024-11-20T12:20:17.029Z"
   },
   {
    "duration": 203,
    "start_time": "2024-11-20T12:20:17.039Z"
   },
   {
    "duration": 137,
    "start_time": "2024-11-20T12:20:17.244Z"
   },
   {
    "duration": 12,
    "start_time": "2024-11-20T12:20:17.382Z"
   },
   {
    "duration": 41,
    "start_time": "2024-11-20T12:20:17.395Z"
   },
   {
    "duration": 16,
    "start_time": "2024-11-20T12:20:17.437Z"
   },
   {
    "duration": 410,
    "start_time": "2024-11-20T12:20:17.455Z"
   },
   {
    "duration": 353,
    "start_time": "2024-11-20T12:20:17.867Z"
   },
   {
    "duration": 442,
    "start_time": "2024-11-20T12:20:18.222Z"
   },
   {
    "duration": 5,
    "start_time": "2024-11-20T12:20:18.666Z"
   },
   {
    "duration": 17,
    "start_time": "2024-11-20T12:20:18.672Z"
   },
   {
    "duration": 6,
    "start_time": "2024-11-20T12:20:18.691Z"
   },
   {
    "duration": 362,
    "start_time": "2024-11-20T12:20:18.699Z"
   },
   {
    "duration": 458,
    "start_time": "2024-11-20T12:20:19.064Z"
   },
   {
    "duration": 13,
    "start_time": "2024-11-20T12:20:19.524Z"
   },
   {
    "duration": 8,
    "start_time": "2024-11-20T12:20:19.539Z"
   },
   {
    "duration": 199,
    "start_time": "2024-11-20T12:20:19.548Z"
   },
   {
    "duration": 5,
    "start_time": "2024-11-20T12:20:19.749Z"
   },
   {
    "duration": 176,
    "start_time": "2024-11-20T12:20:19.756Z"
   },
   {
    "duration": 5,
    "start_time": "2024-11-20T12:20:19.933Z"
   },
   {
    "duration": 233,
    "start_time": "2024-11-20T12:20:19.942Z"
   },
   {
    "duration": 126,
    "start_time": "2024-11-20T12:20:20.177Z"
   },
   {
    "duration": 13,
    "start_time": "2024-11-20T12:20:20.305Z"
   },
   {
    "duration": 31,
    "start_time": "2024-11-20T12:20:20.320Z"
   },
   {
    "duration": 10,
    "start_time": "2024-11-20T12:20:20.352Z"
   },
   {
    "duration": 23,
    "start_time": "2024-11-20T12:20:20.364Z"
   },
   {
    "duration": 27,
    "start_time": "2024-11-20T12:20:20.388Z"
   },
   {
    "duration": 34,
    "start_time": "2024-11-20T12:20:20.416Z"
   },
   {
    "duration": 14,
    "start_time": "2024-11-20T12:20:20.451Z"
   },
   {
    "duration": 76,
    "start_time": "2024-11-20T12:21:26.944Z"
   },
   {
    "duration": 88,
    "start_time": "2024-11-20T12:21:36.006Z"
   },
   {
    "duration": 103,
    "start_time": "2024-11-20T12:21:59.456Z"
   },
   {
    "duration": 120,
    "start_time": "2024-11-20T12:22:03.985Z"
   },
   {
    "duration": 76,
    "start_time": "2024-11-20T12:22:23.065Z"
   },
   {
    "duration": 97,
    "start_time": "2024-11-20T12:22:48.033Z"
   },
   {
    "duration": 1010,
    "start_time": "2024-11-20T12:28:15.756Z"
   },
   {
    "duration": 3,
    "start_time": "2024-11-20T12:28:16.768Z"
   },
   {
    "duration": 96,
    "start_time": "2024-11-20T12:28:16.772Z"
   },
   {
    "duration": 3,
    "start_time": "2024-11-20T12:28:16.870Z"
   },
   {
    "duration": 8,
    "start_time": "2024-11-20T12:28:16.875Z"
   },
   {
    "duration": 10,
    "start_time": "2024-11-20T12:28:16.884Z"
   },
   {
    "duration": 20,
    "start_time": "2024-11-20T12:28:16.895Z"
   },
   {
    "duration": 40,
    "start_time": "2024-11-20T12:28:16.917Z"
   },
   {
    "duration": 41,
    "start_time": "2024-11-20T12:28:16.959Z"
   },
   {
    "duration": 20,
    "start_time": "2024-11-20T12:28:17.002Z"
   },
   {
    "duration": 10,
    "start_time": "2024-11-20T12:28:17.024Z"
   },
   {
    "duration": 13,
    "start_time": "2024-11-20T12:28:17.036Z"
   },
   {
    "duration": 6,
    "start_time": "2024-11-20T12:28:17.050Z"
   },
   {
    "duration": 5,
    "start_time": "2024-11-20T12:28:17.059Z"
   },
   {
    "duration": 24,
    "start_time": "2024-11-20T12:28:17.065Z"
   },
   {
    "duration": 31,
    "start_time": "2024-11-20T12:28:17.090Z"
   },
   {
    "duration": 5,
    "start_time": "2024-11-20T12:28:17.123Z"
   },
   {
    "duration": 8,
    "start_time": "2024-11-20T12:28:17.130Z"
   },
   {
    "duration": 6,
    "start_time": "2024-11-20T12:28:17.140Z"
   },
   {
    "duration": 15,
    "start_time": "2024-11-20T12:28:17.147Z"
   },
   {
    "duration": 10,
    "start_time": "2024-11-20T12:28:17.164Z"
   },
   {
    "duration": 210,
    "start_time": "2024-11-20T12:28:17.176Z"
   },
   {
    "duration": 133,
    "start_time": "2024-11-20T12:28:17.388Z"
   },
   {
    "duration": 12,
    "start_time": "2024-11-20T12:28:17.523Z"
   },
   {
    "duration": 24,
    "start_time": "2024-11-20T12:28:17.537Z"
   },
   {
    "duration": 11,
    "start_time": "2024-11-20T12:28:17.563Z"
   },
   {
    "duration": 344,
    "start_time": "2024-11-20T12:28:17.575Z"
   },
   {
    "duration": 335,
    "start_time": "2024-11-20T12:28:17.921Z"
   },
   {
    "duration": 412,
    "start_time": "2024-11-20T12:28:18.258Z"
   },
   {
    "duration": 6,
    "start_time": "2024-11-20T12:28:18.671Z"
   },
   {
    "duration": 7,
    "start_time": "2024-11-20T12:28:18.678Z"
   },
   {
    "duration": 5,
    "start_time": "2024-11-20T12:28:18.687Z"
   },
   {
    "duration": 389,
    "start_time": "2024-11-20T12:28:18.693Z"
   },
   {
    "duration": 480,
    "start_time": "2024-11-20T12:28:19.084Z"
   },
   {
    "duration": 12,
    "start_time": "2024-11-20T12:28:19.565Z"
   },
   {
    "duration": 7,
    "start_time": "2024-11-20T12:28:19.579Z"
   },
   {
    "duration": 221,
    "start_time": "2024-11-20T12:28:19.588Z"
   },
   {
    "duration": 8,
    "start_time": "2024-11-20T12:28:19.810Z"
   },
   {
    "duration": 182,
    "start_time": "2024-11-20T12:28:19.820Z"
   },
   {
    "duration": 5,
    "start_time": "2024-11-20T12:28:20.004Z"
   },
   {
    "duration": 241,
    "start_time": "2024-11-20T12:28:20.020Z"
   },
   {
    "duration": 155,
    "start_time": "2024-11-20T12:28:20.263Z"
   },
   {
    "duration": 10,
    "start_time": "2024-11-20T12:28:20.419Z"
   },
   {
    "duration": 50,
    "start_time": "2024-11-20T12:28:20.430Z"
   },
   {
    "duration": 12,
    "start_time": "2024-11-20T12:28:20.483Z"
   },
   {
    "duration": 38,
    "start_time": "2024-11-20T12:28:20.496Z"
   },
   {
    "duration": 10,
    "start_time": "2024-11-20T12:28:20.536Z"
   },
   {
    "duration": 42,
    "start_time": "2024-11-20T12:28:20.548Z"
   },
   {
    "duration": 14,
    "start_time": "2024-11-20T12:28:20.592Z"
   },
   {
    "duration": 7,
    "start_time": "2024-11-20T12:29:10.957Z"
   },
   {
    "duration": 5,
    "start_time": "2024-11-20T12:29:43.552Z"
   },
   {
    "duration": 5,
    "start_time": "2024-11-20T12:29:58.513Z"
   },
   {
    "duration": 71,
    "start_time": "2024-11-20T12:31:25.793Z"
   },
   {
    "duration": 1041,
    "start_time": "2024-11-20T12:32:02.350Z"
   },
   {
    "duration": 2,
    "start_time": "2024-11-20T12:32:03.393Z"
   },
   {
    "duration": 105,
    "start_time": "2024-11-20T12:32:03.397Z"
   },
   {
    "duration": 3,
    "start_time": "2024-11-20T12:32:03.504Z"
   },
   {
    "duration": 11,
    "start_time": "2024-11-20T12:32:03.509Z"
   },
   {
    "duration": 17,
    "start_time": "2024-11-20T12:32:03.522Z"
   },
   {
    "duration": 24,
    "start_time": "2024-11-20T12:32:03.541Z"
   },
   {
    "duration": 32,
    "start_time": "2024-11-20T12:32:03.567Z"
   },
   {
    "duration": 52,
    "start_time": "2024-11-20T12:32:03.601Z"
   },
   {
    "duration": 22,
    "start_time": "2024-11-20T12:32:03.655Z"
   },
   {
    "duration": 16,
    "start_time": "2024-11-20T12:32:03.679Z"
   },
   {
    "duration": 102,
    "start_time": "2024-11-20T12:32:03.697Z"
   },
   {
    "duration": 21,
    "start_time": "2024-11-20T12:32:03.801Z"
   },
   {
    "duration": 12,
    "start_time": "2024-11-20T12:32:03.824Z"
   },
   {
    "duration": 35,
    "start_time": "2024-11-20T12:32:03.838Z"
   },
   {
    "duration": 5,
    "start_time": "2024-11-20T12:32:03.874Z"
   },
   {
    "duration": 6,
    "start_time": "2024-11-20T12:32:03.880Z"
   },
   {
    "duration": 14,
    "start_time": "2024-11-20T12:32:03.888Z"
   },
   {
    "duration": 21,
    "start_time": "2024-11-20T12:32:03.903Z"
   },
   {
    "duration": 5,
    "start_time": "2024-11-20T12:32:03.925Z"
   },
   {
    "duration": 13,
    "start_time": "2024-11-20T12:32:03.931Z"
   },
   {
    "duration": 18,
    "start_time": "2024-11-20T12:32:03.945Z"
   },
   {
    "duration": 29,
    "start_time": "2024-11-20T12:32:03.964Z"
   },
   {
    "duration": 32,
    "start_time": "2024-11-20T12:32:03.994Z"
   },
   {
    "duration": 184,
    "start_time": "2024-11-20T12:32:04.028Z"
   },
   {
    "duration": 149,
    "start_time": "2024-11-20T12:32:04.213Z"
   },
   {
    "duration": 12,
    "start_time": "2024-11-20T12:32:04.363Z"
   },
   {
    "duration": 9,
    "start_time": "2024-11-20T12:32:04.379Z"
   },
   {
    "duration": 26,
    "start_time": "2024-11-20T12:32:04.390Z"
   },
   {
    "duration": 332,
    "start_time": "2024-11-20T12:32:04.418Z"
   },
   {
    "duration": 254,
    "start_time": "2024-11-20T12:32:04.751Z"
   },
   {
    "duration": 339,
    "start_time": "2024-11-20T12:32:05.007Z"
   },
   {
    "duration": 6,
    "start_time": "2024-11-20T12:32:05.347Z"
   },
   {
    "duration": 32,
    "start_time": "2024-11-20T12:32:05.355Z"
   },
   {
    "duration": 13,
    "start_time": "2024-11-20T12:32:05.389Z"
   },
   {
    "duration": 332,
    "start_time": "2024-11-20T12:32:05.404Z"
   },
   {
    "duration": 0,
    "start_time": "2024-11-20T12:32:05.738Z"
   },
   {
    "duration": 0,
    "start_time": "2024-11-20T12:32:05.739Z"
   },
   {
    "duration": 0,
    "start_time": "2024-11-20T12:32:05.741Z"
   },
   {
    "duration": 0,
    "start_time": "2024-11-20T12:32:05.743Z"
   },
   {
    "duration": 0,
    "start_time": "2024-11-20T12:32:05.744Z"
   },
   {
    "duration": 0,
    "start_time": "2024-11-20T12:32:05.745Z"
   },
   {
    "duration": 0,
    "start_time": "2024-11-20T12:32:05.747Z"
   },
   {
    "duration": 0,
    "start_time": "2024-11-20T12:32:05.749Z"
   },
   {
    "duration": 0,
    "start_time": "2024-11-20T12:32:05.750Z"
   },
   {
    "duration": 0,
    "start_time": "2024-11-20T12:32:05.751Z"
   },
   {
    "duration": 0,
    "start_time": "2024-11-20T12:32:05.753Z"
   },
   {
    "duration": 0,
    "start_time": "2024-11-20T12:32:05.755Z"
   },
   {
    "duration": 0,
    "start_time": "2024-11-20T12:32:05.756Z"
   },
   {
    "duration": 0,
    "start_time": "2024-11-20T12:32:05.757Z"
   },
   {
    "duration": 0,
    "start_time": "2024-11-20T12:32:05.758Z"
   },
   {
    "duration": 0,
    "start_time": "2024-11-20T12:32:05.759Z"
   },
   {
    "duration": 6,
    "start_time": "2024-11-20T12:34:20.915Z"
   },
   {
    "duration": 4,
    "start_time": "2024-11-20T12:35:28.658Z"
   },
   {
    "duration": 1096,
    "start_time": "2024-11-20T12:35:38.014Z"
   },
   {
    "duration": 3,
    "start_time": "2024-11-20T12:35:39.111Z"
   },
   {
    "duration": 94,
    "start_time": "2024-11-20T12:35:39.115Z"
   },
   {
    "duration": 3,
    "start_time": "2024-11-20T12:35:39.212Z"
   },
   {
    "duration": 27,
    "start_time": "2024-11-20T12:35:39.217Z"
   },
   {
    "duration": 11,
    "start_time": "2024-11-20T12:35:39.246Z"
   },
   {
    "duration": 6,
    "start_time": "2024-11-20T12:35:39.258Z"
   },
   {
    "duration": 14,
    "start_time": "2024-11-20T12:35:39.266Z"
   },
   {
    "duration": 69,
    "start_time": "2024-11-20T12:35:39.282Z"
   },
   {
    "duration": 19,
    "start_time": "2024-11-20T12:35:39.354Z"
   },
   {
    "duration": 10,
    "start_time": "2024-11-20T12:35:39.375Z"
   },
   {
    "duration": 15,
    "start_time": "2024-11-20T12:35:39.387Z"
   },
   {
    "duration": 17,
    "start_time": "2024-11-20T12:35:39.404Z"
   },
   {
    "duration": 13,
    "start_time": "2024-11-20T12:35:39.423Z"
   },
   {
    "duration": 7,
    "start_time": "2024-11-20T12:35:39.438Z"
   },
   {
    "duration": 10,
    "start_time": "2024-11-20T12:35:39.446Z"
   },
   {
    "duration": 9,
    "start_time": "2024-11-20T12:35:39.457Z"
   },
   {
    "duration": 8,
    "start_time": "2024-11-20T12:35:39.467Z"
   },
   {
    "duration": 18,
    "start_time": "2024-11-20T12:35:39.476Z"
   },
   {
    "duration": 6,
    "start_time": "2024-11-20T12:35:39.496Z"
   },
   {
    "duration": 11,
    "start_time": "2024-11-20T12:35:39.504Z"
   },
   {
    "duration": 16,
    "start_time": "2024-11-20T12:35:39.517Z"
   },
   {
    "duration": 7,
    "start_time": "2024-11-20T12:35:39.535Z"
   },
   {
    "duration": 22,
    "start_time": "2024-11-20T12:35:39.544Z"
   },
   {
    "duration": 9,
    "start_time": "2024-11-20T12:35:39.567Z"
   },
   {
    "duration": 177,
    "start_time": "2024-11-20T12:35:39.577Z"
   },
   {
    "duration": 127,
    "start_time": "2024-11-20T12:35:39.755Z"
   },
   {
    "duration": 11,
    "start_time": "2024-11-20T12:35:39.886Z"
   },
   {
    "duration": 42,
    "start_time": "2024-11-20T12:35:39.899Z"
   },
   {
    "duration": 4,
    "start_time": "2024-11-20T12:35:39.943Z"
   },
   {
    "duration": 316,
    "start_time": "2024-11-20T12:35:39.949Z"
   },
   {
    "duration": 253,
    "start_time": "2024-11-20T12:35:40.267Z"
   },
   {
    "duration": 371,
    "start_time": "2024-11-20T12:35:40.521Z"
   },
   {
    "duration": 5,
    "start_time": "2024-11-20T12:35:40.894Z"
   },
   {
    "duration": 17,
    "start_time": "2024-11-20T12:35:40.901Z"
   },
   {
    "duration": 8,
    "start_time": "2024-11-20T12:35:40.920Z"
   },
   {
    "duration": 309,
    "start_time": "2024-11-20T12:35:40.929Z"
   },
   {
    "duration": 0,
    "start_time": "2024-11-20T12:35:41.240Z"
   },
   {
    "duration": 0,
    "start_time": "2024-11-20T12:35:41.241Z"
   },
   {
    "duration": 0,
    "start_time": "2024-11-20T12:35:41.242Z"
   },
   {
    "duration": 0,
    "start_time": "2024-11-20T12:35:41.243Z"
   },
   {
    "duration": 0,
    "start_time": "2024-11-20T12:35:41.244Z"
   },
   {
    "duration": 0,
    "start_time": "2024-11-20T12:35:41.245Z"
   },
   {
    "duration": 0,
    "start_time": "2024-11-20T12:35:41.246Z"
   },
   {
    "duration": 0,
    "start_time": "2024-11-20T12:35:41.248Z"
   },
   {
    "duration": 0,
    "start_time": "2024-11-20T12:35:41.248Z"
   },
   {
    "duration": 0,
    "start_time": "2024-11-20T12:35:41.249Z"
   },
   {
    "duration": 0,
    "start_time": "2024-11-20T12:35:41.250Z"
   },
   {
    "duration": 0,
    "start_time": "2024-11-20T12:35:41.251Z"
   },
   {
    "duration": 0,
    "start_time": "2024-11-20T12:35:41.252Z"
   },
   {
    "duration": 0,
    "start_time": "2024-11-20T12:35:41.253Z"
   },
   {
    "duration": 0,
    "start_time": "2024-11-20T12:35:41.254Z"
   },
   {
    "duration": 0,
    "start_time": "2024-11-20T12:35:41.255Z"
   },
   {
    "duration": 205,
    "start_time": "2024-11-20T12:36:19.426Z"
   },
   {
    "duration": 11,
    "start_time": "2024-11-20T12:38:57.691Z"
   },
   {
    "duration": 99,
    "start_time": "2024-11-20T12:40:44.267Z"
   },
   {
    "duration": 103,
    "start_time": "2024-11-20T12:41:30.074Z"
   },
   {
    "duration": 77,
    "start_time": "2024-11-20T12:41:38.515Z"
   },
   {
    "duration": 7,
    "start_time": "2024-11-20T12:42:13.505Z"
   },
   {
    "duration": 3,
    "start_time": "2024-11-20T12:42:40.787Z"
   },
   {
    "duration": 1111,
    "start_time": "2024-11-20T12:42:49.691Z"
   },
   {
    "duration": 3,
    "start_time": "2024-11-20T12:42:50.804Z"
   },
   {
    "duration": 103,
    "start_time": "2024-11-20T12:42:50.808Z"
   },
   {
    "duration": 2,
    "start_time": "2024-11-20T12:42:50.913Z"
   },
   {
    "duration": 23,
    "start_time": "2024-11-20T12:42:50.917Z"
   },
   {
    "duration": 11,
    "start_time": "2024-11-20T12:42:50.942Z"
   },
   {
    "duration": 11,
    "start_time": "2024-11-20T12:42:50.954Z"
   },
   {
    "duration": 31,
    "start_time": "2024-11-20T12:42:50.966Z"
   },
   {
    "duration": 57,
    "start_time": "2024-11-20T12:42:50.999Z"
   },
   {
    "duration": 19,
    "start_time": "2024-11-20T12:42:51.057Z"
   },
   {
    "duration": 13,
    "start_time": "2024-11-20T12:42:51.077Z"
   },
   {
    "duration": 29,
    "start_time": "2024-11-20T12:42:51.092Z"
   },
   {
    "duration": 29,
    "start_time": "2024-11-20T12:42:51.123Z"
   },
   {
    "duration": 14,
    "start_time": "2024-11-20T12:42:51.155Z"
   },
   {
    "duration": 673,
    "start_time": "2024-11-20T12:42:51.170Z"
   },
   {
    "duration": 0,
    "start_time": "2024-11-20T12:42:51.845Z"
   },
   {
    "duration": 0,
    "start_time": "2024-11-20T12:42:51.847Z"
   },
   {
    "duration": 0,
    "start_time": "2024-11-20T12:42:51.849Z"
   },
   {
    "duration": 0,
    "start_time": "2024-11-20T12:42:51.850Z"
   },
   {
    "duration": 0,
    "start_time": "2024-11-20T12:42:51.852Z"
   },
   {
    "duration": 0,
    "start_time": "2024-11-20T12:42:51.854Z"
   },
   {
    "duration": 1,
    "start_time": "2024-11-20T12:42:51.855Z"
   },
   {
    "duration": 0,
    "start_time": "2024-11-20T12:42:51.857Z"
   },
   {
    "duration": 0,
    "start_time": "2024-11-20T12:42:51.859Z"
   },
   {
    "duration": 0,
    "start_time": "2024-11-20T12:42:51.860Z"
   },
   {
    "duration": 0,
    "start_time": "2024-11-20T12:42:51.861Z"
   },
   {
    "duration": 0,
    "start_time": "2024-11-20T12:42:51.863Z"
   },
   {
    "duration": 0,
    "start_time": "2024-11-20T12:42:51.864Z"
   },
   {
    "duration": 0,
    "start_time": "2024-11-20T12:42:51.865Z"
   },
   {
    "duration": 0,
    "start_time": "2024-11-20T12:42:51.867Z"
   },
   {
    "duration": 0,
    "start_time": "2024-11-20T12:42:51.868Z"
   },
   {
    "duration": 0,
    "start_time": "2024-11-20T12:42:51.869Z"
   },
   {
    "duration": 0,
    "start_time": "2024-11-20T12:42:51.870Z"
   },
   {
    "duration": 0,
    "start_time": "2024-11-20T12:42:51.871Z"
   },
   {
    "duration": 0,
    "start_time": "2024-11-20T12:42:51.872Z"
   },
   {
    "duration": 0,
    "start_time": "2024-11-20T12:42:51.873Z"
   },
   {
    "duration": 0,
    "start_time": "2024-11-20T12:42:51.874Z"
   },
   {
    "duration": 0,
    "start_time": "2024-11-20T12:42:51.875Z"
   },
   {
    "duration": 0,
    "start_time": "2024-11-20T12:42:51.876Z"
   },
   {
    "duration": 0,
    "start_time": "2024-11-20T12:42:51.877Z"
   },
   {
    "duration": 0,
    "start_time": "2024-11-20T12:42:51.878Z"
   },
   {
    "duration": 0,
    "start_time": "2024-11-20T12:42:51.880Z"
   },
   {
    "duration": 0,
    "start_time": "2024-11-20T12:42:51.881Z"
   },
   {
    "duration": 0,
    "start_time": "2024-11-20T12:42:51.882Z"
   },
   {
    "duration": 0,
    "start_time": "2024-11-20T12:42:51.918Z"
   },
   {
    "duration": 0,
    "start_time": "2024-11-20T12:42:51.919Z"
   },
   {
    "duration": 0,
    "start_time": "2024-11-20T12:42:51.920Z"
   },
   {
    "duration": 0,
    "start_time": "2024-11-20T12:42:51.921Z"
   },
   {
    "duration": 0,
    "start_time": "2024-11-20T12:42:51.922Z"
   },
   {
    "duration": 0,
    "start_time": "2024-11-20T12:42:51.923Z"
   },
   {
    "duration": 0,
    "start_time": "2024-11-20T12:42:51.924Z"
   },
   {
    "duration": 0,
    "start_time": "2024-11-20T12:42:51.925Z"
   },
   {
    "duration": 0,
    "start_time": "2024-11-20T12:42:51.926Z"
   },
   {
    "duration": 4,
    "start_time": "2024-11-20T12:43:21.424Z"
   },
   {
    "duration": 739,
    "start_time": "2024-11-20T12:43:23.095Z"
   },
   {
    "duration": 5,
    "start_time": "2024-11-20T12:43:28.984Z"
   },
   {
    "duration": 6,
    "start_time": "2024-11-20T12:43:43.557Z"
   },
   {
    "duration": 1114,
    "start_time": "2024-11-20T12:44:36.125Z"
   },
   {
    "duration": 3,
    "start_time": "2024-11-20T12:44:37.241Z"
   },
   {
    "duration": 101,
    "start_time": "2024-11-20T12:44:37.246Z"
   },
   {
    "duration": 3,
    "start_time": "2024-11-20T12:44:37.349Z"
   },
   {
    "duration": 26,
    "start_time": "2024-11-20T12:44:37.353Z"
   },
   {
    "duration": 17,
    "start_time": "2024-11-20T12:44:37.381Z"
   },
   {
    "duration": 5,
    "start_time": "2024-11-20T12:44:37.399Z"
   },
   {
    "duration": 12,
    "start_time": "2024-11-20T12:44:37.406Z"
   },
   {
    "duration": 49,
    "start_time": "2024-11-20T12:44:37.419Z"
   },
   {
    "duration": 19,
    "start_time": "2024-11-20T12:44:37.471Z"
   },
   {
    "duration": 45,
    "start_time": "2024-11-20T12:44:37.491Z"
   },
   {
    "duration": 7,
    "start_time": "2024-11-20T12:44:37.537Z"
   },
   {
    "duration": 10,
    "start_time": "2024-11-20T12:44:37.546Z"
   },
   {
    "duration": 11,
    "start_time": "2024-11-20T12:44:37.557Z"
   },
   {
    "duration": 11,
    "start_time": "2024-11-20T12:44:37.570Z"
   },
   {
    "duration": 23,
    "start_time": "2024-11-20T12:44:37.582Z"
   },
   {
    "duration": 20,
    "start_time": "2024-11-20T12:44:37.606Z"
   },
   {
    "duration": 7,
    "start_time": "2024-11-20T12:44:37.627Z"
   },
   {
    "duration": 4,
    "start_time": "2024-11-20T12:44:37.636Z"
   },
   {
    "duration": 10,
    "start_time": "2024-11-20T12:44:37.641Z"
   },
   {
    "duration": 6,
    "start_time": "2024-11-20T12:44:37.653Z"
   },
   {
    "duration": 20,
    "start_time": "2024-11-20T12:44:37.660Z"
   },
   {
    "duration": 41,
    "start_time": "2024-11-20T12:44:37.681Z"
   },
   {
    "duration": 181,
    "start_time": "2024-11-20T12:44:37.724Z"
   },
   {
    "duration": 135,
    "start_time": "2024-11-20T12:44:37.907Z"
   },
   {
    "duration": 12,
    "start_time": "2024-11-20T12:44:38.043Z"
   },
   {
    "duration": 5,
    "start_time": "2024-11-20T12:44:38.057Z"
   },
   {
    "duration": 5,
    "start_time": "2024-11-20T12:44:38.066Z"
   },
   {
    "duration": 400,
    "start_time": "2024-11-20T12:44:38.073Z"
   },
   {
    "duration": 342,
    "start_time": "2024-11-20T12:44:38.475Z"
   },
   {
    "duration": 434,
    "start_time": "2024-11-20T12:44:38.819Z"
   },
   {
    "duration": 6,
    "start_time": "2024-11-20T12:44:39.255Z"
   },
   {
    "duration": 17,
    "start_time": "2024-11-20T12:44:39.263Z"
   },
   {
    "duration": 6,
    "start_time": "2024-11-20T12:44:39.281Z"
   },
   {
    "duration": 362,
    "start_time": "2024-11-20T12:44:39.288Z"
   },
   {
    "duration": 473,
    "start_time": "2024-11-20T12:44:39.652Z"
   },
   {
    "duration": 12,
    "start_time": "2024-11-20T12:44:40.127Z"
   },
   {
    "duration": 7,
    "start_time": "2024-11-20T12:44:40.140Z"
   },
   {
    "duration": 189,
    "start_time": "2024-11-20T12:44:40.148Z"
   },
   {
    "duration": 5,
    "start_time": "2024-11-20T12:44:40.338Z"
   },
   {
    "duration": 172,
    "start_time": "2024-11-20T12:44:40.344Z"
   },
   {
    "duration": 5,
    "start_time": "2024-11-20T12:44:40.518Z"
   },
   {
    "duration": 219,
    "start_time": "2024-11-20T12:44:40.524Z"
   },
   {
    "duration": 136,
    "start_time": "2024-11-20T12:44:40.745Z"
   },
   {
    "duration": 8,
    "start_time": "2024-11-20T12:44:40.882Z"
   },
   {
    "duration": 43,
    "start_time": "2024-11-20T12:44:40.891Z"
   },
   {
    "duration": 9,
    "start_time": "2024-11-20T12:44:40.936Z"
   },
   {
    "duration": 8,
    "start_time": "2024-11-20T12:44:40.947Z"
   },
   {
    "duration": 18,
    "start_time": "2024-11-20T12:44:40.956Z"
   },
   {
    "duration": 26,
    "start_time": "2024-11-20T12:44:40.976Z"
   },
   {
    "duration": 25,
    "start_time": "2024-11-20T12:44:41.003Z"
   },
   {
    "duration": 6,
    "start_time": "2024-11-20T12:47:33.151Z"
   },
   {
    "duration": 4,
    "start_time": "2024-11-20T12:47:53.296Z"
   },
   {
    "duration": 1119,
    "start_time": "2024-11-20T12:47:58.826Z"
   },
   {
    "duration": 2,
    "start_time": "2024-11-20T12:47:59.947Z"
   },
   {
    "duration": 98,
    "start_time": "2024-11-20T12:47:59.951Z"
   },
   {
    "duration": 3,
    "start_time": "2024-11-20T12:48:00.052Z"
   },
   {
    "duration": 72,
    "start_time": "2024-11-20T12:48:00.056Z"
   },
   {
    "duration": 24,
    "start_time": "2024-11-20T12:48:00.129Z"
   },
   {
    "duration": 41,
    "start_time": "2024-11-20T12:48:00.155Z"
   },
   {
    "duration": 26,
    "start_time": "2024-11-20T12:48:00.197Z"
   },
   {
    "duration": 84,
    "start_time": "2024-11-20T12:48:00.224Z"
   },
   {
    "duration": 19,
    "start_time": "2024-11-20T12:48:00.311Z"
   },
   {
    "duration": 13,
    "start_time": "2024-11-20T12:48:00.332Z"
   },
   {
    "duration": 11,
    "start_time": "2024-11-20T12:48:00.347Z"
   },
   {
    "duration": 27,
    "start_time": "2024-11-20T12:48:00.359Z"
   },
   {
    "duration": 28,
    "start_time": "2024-11-20T12:48:00.388Z"
   },
   {
    "duration": 16,
    "start_time": "2024-11-20T12:48:00.417Z"
   },
   {
    "duration": 9,
    "start_time": "2024-11-20T12:48:00.434Z"
   },
   {
    "duration": 5,
    "start_time": "2024-11-20T12:48:00.445Z"
   },
   {
    "duration": 8,
    "start_time": "2024-11-20T12:48:00.452Z"
   },
   {
    "duration": 18,
    "start_time": "2024-11-20T12:48:00.461Z"
   },
   {
    "duration": 18,
    "start_time": "2024-11-20T12:48:00.481Z"
   },
   {
    "duration": 8,
    "start_time": "2024-11-20T12:48:00.500Z"
   },
   {
    "duration": 44,
    "start_time": "2024-11-20T12:48:00.510Z"
   },
   {
    "duration": 27,
    "start_time": "2024-11-20T12:48:00.556Z"
   },
   {
    "duration": 25,
    "start_time": "2024-11-20T12:48:00.584Z"
   },
   {
    "duration": 24,
    "start_time": "2024-11-20T12:48:00.610Z"
   },
   {
    "duration": 183,
    "start_time": "2024-11-20T12:48:00.635Z"
   },
   {
    "duration": 142,
    "start_time": "2024-11-20T12:48:00.820Z"
   },
   {
    "duration": 36,
    "start_time": "2024-11-20T12:48:00.966Z"
   },
   {
    "duration": 21,
    "start_time": "2024-11-20T12:48:01.003Z"
   },
   {
    "duration": 8,
    "start_time": "2024-11-20T12:48:01.026Z"
   },
   {
    "duration": 350,
    "start_time": "2024-11-20T12:48:01.036Z"
   },
   {
    "duration": 253,
    "start_time": "2024-11-20T12:48:01.387Z"
   },
   {
    "duration": 325,
    "start_time": "2024-11-20T12:48:01.641Z"
   },
   {
    "duration": 5,
    "start_time": "2024-11-20T12:48:01.968Z"
   },
   {
    "duration": 17,
    "start_time": "2024-11-20T12:48:01.974Z"
   },
   {
    "duration": 9,
    "start_time": "2024-11-20T12:48:01.993Z"
   },
   {
    "duration": 346,
    "start_time": "2024-11-20T12:48:02.004Z"
   },
   {
    "duration": 0,
    "start_time": "2024-11-20T12:48:02.352Z"
   },
   {
    "duration": 0,
    "start_time": "2024-11-20T12:48:02.354Z"
   },
   {
    "duration": 0,
    "start_time": "2024-11-20T12:48:02.355Z"
   },
   {
    "duration": 0,
    "start_time": "2024-11-20T12:48:02.356Z"
   },
   {
    "duration": 0,
    "start_time": "2024-11-20T12:48:02.357Z"
   },
   {
    "duration": 0,
    "start_time": "2024-11-20T12:48:02.358Z"
   },
   {
    "duration": 0,
    "start_time": "2024-11-20T12:48:02.359Z"
   },
   {
    "duration": 0,
    "start_time": "2024-11-20T12:48:02.360Z"
   },
   {
    "duration": 0,
    "start_time": "2024-11-20T12:48:02.362Z"
   },
   {
    "duration": 0,
    "start_time": "2024-11-20T12:48:02.362Z"
   },
   {
    "duration": 0,
    "start_time": "2024-11-20T12:48:02.364Z"
   },
   {
    "duration": 0,
    "start_time": "2024-11-20T12:48:02.365Z"
   },
   {
    "duration": 0,
    "start_time": "2024-11-20T12:48:02.366Z"
   },
   {
    "duration": 0,
    "start_time": "2024-11-20T12:48:02.367Z"
   },
   {
    "duration": 0,
    "start_time": "2024-11-20T12:48:02.368Z"
   },
   {
    "duration": 0,
    "start_time": "2024-11-20T12:48:02.369Z"
   },
   {
    "duration": 1083,
    "start_time": "2024-11-20T12:49:25.518Z"
   },
   {
    "duration": 2,
    "start_time": "2024-11-20T12:49:26.603Z"
   },
   {
    "duration": 129,
    "start_time": "2024-11-20T12:49:26.607Z"
   },
   {
    "duration": 4,
    "start_time": "2024-11-20T12:49:26.737Z"
   },
   {
    "duration": 21,
    "start_time": "2024-11-20T12:49:26.744Z"
   },
   {
    "duration": 28,
    "start_time": "2024-11-20T12:49:26.766Z"
   },
   {
    "duration": 47,
    "start_time": "2024-11-20T12:49:26.796Z"
   },
   {
    "duration": 28,
    "start_time": "2024-11-20T12:49:26.845Z"
   },
   {
    "duration": 61,
    "start_time": "2024-11-20T12:49:26.875Z"
   },
   {
    "duration": 19,
    "start_time": "2024-11-20T12:49:26.937Z"
   },
   {
    "duration": 13,
    "start_time": "2024-11-20T12:49:26.957Z"
   },
   {
    "duration": 15,
    "start_time": "2024-11-20T12:49:26.972Z"
   },
   {
    "duration": 14,
    "start_time": "2024-11-20T12:49:26.989Z"
   },
   {
    "duration": 26,
    "start_time": "2024-11-20T12:49:27.007Z"
   },
   {
    "duration": 32,
    "start_time": "2024-11-20T12:49:27.035Z"
   },
   {
    "duration": 14,
    "start_time": "2024-11-20T12:49:27.069Z"
   },
   {
    "duration": 16,
    "start_time": "2024-11-20T12:49:27.084Z"
   },
   {
    "duration": 17,
    "start_time": "2024-11-20T12:49:27.101Z"
   },
   {
    "duration": 20,
    "start_time": "2024-11-20T12:49:27.119Z"
   },
   {
    "duration": 22,
    "start_time": "2024-11-20T12:49:27.140Z"
   },
   {
    "duration": 34,
    "start_time": "2024-11-20T12:49:27.163Z"
   },
   {
    "duration": 8,
    "start_time": "2024-11-20T12:49:27.198Z"
   },
   {
    "duration": 19,
    "start_time": "2024-11-20T12:49:27.207Z"
   },
   {
    "duration": 27,
    "start_time": "2024-11-20T12:49:27.227Z"
   },
   {
    "duration": 19,
    "start_time": "2024-11-20T12:49:27.256Z"
   },
   {
    "duration": 22,
    "start_time": "2024-11-20T12:49:27.276Z"
   },
   {
    "duration": 12,
    "start_time": "2024-11-20T12:49:27.300Z"
   },
   {
    "duration": 168,
    "start_time": "2024-11-20T12:49:27.313Z"
   },
   {
    "duration": 120,
    "start_time": "2024-11-20T12:49:27.483Z"
   },
   {
    "duration": 18,
    "start_time": "2024-11-20T12:49:27.605Z"
   },
   {
    "duration": 13,
    "start_time": "2024-11-20T12:49:27.625Z"
   },
   {
    "duration": 15,
    "start_time": "2024-11-20T12:49:27.640Z"
   },
   {
    "duration": 369,
    "start_time": "2024-11-20T12:49:27.656Z"
   },
   {
    "duration": 257,
    "start_time": "2024-11-20T12:49:28.027Z"
   },
   {
    "duration": 393,
    "start_time": "2024-11-20T12:49:28.286Z"
   },
   {
    "duration": 7,
    "start_time": "2024-11-20T12:49:28.681Z"
   },
   {
    "duration": 31,
    "start_time": "2024-11-20T12:49:28.689Z"
   },
   {
    "duration": 4,
    "start_time": "2024-11-20T12:49:28.722Z"
   },
   {
    "duration": 315,
    "start_time": "2024-11-20T12:49:28.728Z"
   },
   {
    "duration": 0,
    "start_time": "2024-11-20T12:49:29.045Z"
   },
   {
    "duration": 0,
    "start_time": "2024-11-20T12:49:29.047Z"
   },
   {
    "duration": 0,
    "start_time": "2024-11-20T12:49:29.048Z"
   },
   {
    "duration": 0,
    "start_time": "2024-11-20T12:49:29.049Z"
   },
   {
    "duration": 0,
    "start_time": "2024-11-20T12:49:29.050Z"
   },
   {
    "duration": 0,
    "start_time": "2024-11-20T12:49:29.051Z"
   },
   {
    "duration": 0,
    "start_time": "2024-11-20T12:49:29.051Z"
   },
   {
    "duration": 0,
    "start_time": "2024-11-20T12:49:29.053Z"
   },
   {
    "duration": 0,
    "start_time": "2024-11-20T12:49:29.054Z"
   },
   {
    "duration": 0,
    "start_time": "2024-11-20T12:49:29.055Z"
   },
   {
    "duration": 0,
    "start_time": "2024-11-20T12:49:29.056Z"
   },
   {
    "duration": 0,
    "start_time": "2024-11-20T12:49:29.056Z"
   },
   {
    "duration": 0,
    "start_time": "2024-11-20T12:49:29.058Z"
   },
   {
    "duration": 0,
    "start_time": "2024-11-20T12:49:29.059Z"
   },
   {
    "duration": 0,
    "start_time": "2024-11-20T12:49:29.060Z"
   },
   {
    "duration": 0,
    "start_time": "2024-11-20T12:49:29.061Z"
   },
   {
    "duration": 72,
    "start_time": "2024-11-20T12:53:26.138Z"
   },
   {
    "duration": 6,
    "start_time": "2024-11-20T12:53:26.898Z"
   },
   {
    "duration": 4,
    "start_time": "2024-11-20T12:53:27.642Z"
   },
   {
    "duration": 1106,
    "start_time": "2024-11-20T12:53:37.398Z"
   },
   {
    "duration": 2,
    "start_time": "2024-11-20T12:53:38.507Z"
   },
   {
    "duration": 89,
    "start_time": "2024-11-20T12:53:38.511Z"
   },
   {
    "duration": 4,
    "start_time": "2024-11-20T12:53:38.602Z"
   },
   {
    "duration": 9,
    "start_time": "2024-11-20T12:53:38.607Z"
   },
   {
    "duration": 10,
    "start_time": "2024-11-20T12:53:38.617Z"
   },
   {
    "duration": 8,
    "start_time": "2024-11-20T12:53:38.628Z"
   },
   {
    "duration": 10,
    "start_time": "2024-11-20T12:53:38.637Z"
   },
   {
    "duration": 58,
    "start_time": "2024-11-20T12:53:38.649Z"
   },
   {
    "duration": 19,
    "start_time": "2024-11-20T12:53:38.709Z"
   },
   {
    "duration": 11,
    "start_time": "2024-11-20T12:53:38.729Z"
   },
   {
    "duration": 13,
    "start_time": "2024-11-20T12:53:38.742Z"
   },
   {
    "duration": 14,
    "start_time": "2024-11-20T12:53:38.757Z"
   },
   {
    "duration": 18,
    "start_time": "2024-11-20T12:53:38.773Z"
   },
   {
    "duration": 12,
    "start_time": "2024-11-20T12:53:38.792Z"
   },
   {
    "duration": 7,
    "start_time": "2024-11-20T12:53:38.805Z"
   },
   {
    "duration": 7,
    "start_time": "2024-11-20T12:53:38.814Z"
   },
   {
    "duration": 21,
    "start_time": "2024-11-20T12:53:38.822Z"
   },
   {
    "duration": 5,
    "start_time": "2024-11-20T12:53:38.845Z"
   },
   {
    "duration": 6,
    "start_time": "2024-11-20T12:53:38.852Z"
   },
   {
    "duration": 10,
    "start_time": "2024-11-20T12:53:38.860Z"
   },
   {
    "duration": 7,
    "start_time": "2024-11-20T12:53:38.871Z"
   },
   {
    "duration": 4,
    "start_time": "2024-11-20T12:53:38.880Z"
   },
   {
    "duration": 34,
    "start_time": "2024-11-20T12:53:38.885Z"
   },
   {
    "duration": 6,
    "start_time": "2024-11-20T12:53:38.921Z"
   },
   {
    "duration": 17,
    "start_time": "2024-11-20T12:53:38.929Z"
   },
   {
    "duration": 9,
    "start_time": "2024-11-20T12:53:38.948Z"
   },
   {
    "duration": 186,
    "start_time": "2024-11-20T12:53:38.960Z"
   },
   {
    "duration": 122,
    "start_time": "2024-11-20T12:53:39.148Z"
   },
   {
    "duration": 12,
    "start_time": "2024-11-20T12:53:39.272Z"
   },
   {
    "duration": 6,
    "start_time": "2024-11-20T12:53:39.285Z"
   },
   {
    "duration": 27,
    "start_time": "2024-11-20T12:53:39.292Z"
   },
   {
    "duration": 349,
    "start_time": "2024-11-20T12:53:39.321Z"
   },
   {
    "duration": 257,
    "start_time": "2024-11-20T12:53:39.672Z"
   },
   {
    "duration": 327,
    "start_time": "2024-11-20T12:53:39.931Z"
   },
   {
    "duration": 5,
    "start_time": "2024-11-20T12:53:40.260Z"
   },
   {
    "duration": 5,
    "start_time": "2024-11-20T12:53:40.267Z"
   },
   {
    "duration": 4,
    "start_time": "2024-11-20T12:53:40.274Z"
   },
   {
    "duration": 322,
    "start_time": "2024-11-20T12:53:40.279Z"
   },
   {
    "duration": 0,
    "start_time": "2024-11-20T12:53:40.603Z"
   },
   {
    "duration": 0,
    "start_time": "2024-11-20T12:53:40.604Z"
   },
   {
    "duration": 0,
    "start_time": "2024-11-20T12:53:40.605Z"
   },
   {
    "duration": 0,
    "start_time": "2024-11-20T12:53:40.606Z"
   },
   {
    "duration": 0,
    "start_time": "2024-11-20T12:53:40.607Z"
   },
   {
    "duration": 0,
    "start_time": "2024-11-20T12:53:40.618Z"
   },
   {
    "duration": 0,
    "start_time": "2024-11-20T12:53:40.619Z"
   },
   {
    "duration": 0,
    "start_time": "2024-11-20T12:53:40.620Z"
   },
   {
    "duration": 0,
    "start_time": "2024-11-20T12:53:40.621Z"
   },
   {
    "duration": 0,
    "start_time": "2024-11-20T12:53:40.622Z"
   },
   {
    "duration": 0,
    "start_time": "2024-11-20T12:53:40.623Z"
   },
   {
    "duration": 0,
    "start_time": "2024-11-20T12:53:40.625Z"
   },
   {
    "duration": 0,
    "start_time": "2024-11-20T12:53:40.627Z"
   },
   {
    "duration": 0,
    "start_time": "2024-11-20T12:53:40.628Z"
   },
   {
    "duration": 0,
    "start_time": "2024-11-20T12:53:40.629Z"
   },
   {
    "duration": 0,
    "start_time": "2024-11-20T12:53:40.631Z"
   },
   {
    "duration": 197,
    "start_time": "2024-11-20T12:54:18.229Z"
   },
   {
    "duration": 210,
    "start_time": "2024-11-20T12:54:54.535Z"
   },
   {
    "duration": 4,
    "start_time": "2024-11-20T12:55:27.766Z"
   },
   {
    "duration": 198,
    "start_time": "2024-11-20T12:56:21.046Z"
   },
   {
    "duration": 228,
    "start_time": "2024-11-20T12:57:07.431Z"
   },
   {
    "duration": 350,
    "start_time": "2024-11-20T12:57:15.408Z"
   },
   {
    "duration": 445,
    "start_time": "2024-11-20T12:57:47.135Z"
   },
   {
    "duration": 1120,
    "start_time": "2024-11-20T12:57:57.992Z"
   },
   {
    "duration": 4,
    "start_time": "2024-11-20T12:57:59.114Z"
   },
   {
    "duration": 88,
    "start_time": "2024-11-20T12:57:59.120Z"
   },
   {
    "duration": 3,
    "start_time": "2024-11-20T12:57:59.210Z"
   },
   {
    "duration": 6,
    "start_time": "2024-11-20T12:57:59.215Z"
   },
   {
    "duration": 14,
    "start_time": "2024-11-20T12:57:59.222Z"
   },
   {
    "duration": 17,
    "start_time": "2024-11-20T12:57:59.238Z"
   },
   {
    "duration": 11,
    "start_time": "2024-11-20T12:57:59.257Z"
   },
   {
    "duration": 44,
    "start_time": "2024-11-20T12:57:59.270Z"
   },
   {
    "duration": 19,
    "start_time": "2024-11-20T12:57:59.315Z"
   },
   {
    "duration": 10,
    "start_time": "2024-11-20T12:57:59.335Z"
   },
   {
    "duration": 6,
    "start_time": "2024-11-20T12:57:59.347Z"
   },
   {
    "duration": 9,
    "start_time": "2024-11-20T12:57:59.355Z"
   },
   {
    "duration": 4,
    "start_time": "2024-11-20T12:57:59.367Z"
   },
   {
    "duration": 4,
    "start_time": "2024-11-20T12:57:59.373Z"
   },
   {
    "duration": 5,
    "start_time": "2024-11-20T12:57:59.378Z"
   },
   {
    "duration": 4,
    "start_time": "2024-11-20T12:57:59.385Z"
   },
   {
    "duration": 19,
    "start_time": "2024-11-20T12:57:59.417Z"
   },
   {
    "duration": 10,
    "start_time": "2024-11-20T12:57:59.438Z"
   },
   {
    "duration": 10,
    "start_time": "2024-11-20T12:57:59.449Z"
   },
   {
    "duration": 3,
    "start_time": "2024-11-20T12:57:59.461Z"
   },
   {
    "duration": 11,
    "start_time": "2024-11-20T12:57:59.466Z"
   },
   {
    "duration": 7,
    "start_time": "2024-11-20T12:57:59.479Z"
   },
   {
    "duration": 16,
    "start_time": "2024-11-20T12:57:59.518Z"
   },
   {
    "duration": 9,
    "start_time": "2024-11-20T12:57:59.536Z"
   },
   {
    "duration": 188,
    "start_time": "2024-11-20T12:57:59.547Z"
   },
   {
    "duration": 138,
    "start_time": "2024-11-20T12:57:59.737Z"
   },
   {
    "duration": 11,
    "start_time": "2024-11-20T12:57:59.877Z"
   },
   {
    "duration": 40,
    "start_time": "2024-11-20T12:57:59.890Z"
   },
   {
    "duration": 5,
    "start_time": "2024-11-20T12:57:59.932Z"
   },
   {
    "duration": 334,
    "start_time": "2024-11-20T12:57:59.939Z"
   },
   {
    "duration": 273,
    "start_time": "2024-11-20T12:58:00.275Z"
   },
   {
    "duration": 309,
    "start_time": "2024-11-20T12:58:00.550Z"
   },
   {
    "duration": 5,
    "start_time": "2024-11-20T12:58:00.861Z"
   },
   {
    "duration": 21,
    "start_time": "2024-11-20T12:58:00.868Z"
   },
   {
    "duration": 10,
    "start_time": "2024-11-20T12:58:00.891Z"
   },
   {
    "duration": 235,
    "start_time": "2024-11-20T12:58:00.903Z"
   },
   {
    "duration": 336,
    "start_time": "2024-11-20T12:58:01.140Z"
   },
   {
    "duration": 12,
    "start_time": "2024-11-20T12:58:01.478Z"
   },
   {
    "duration": 28,
    "start_time": "2024-11-20T12:58:01.491Z"
   },
   {
    "duration": 215,
    "start_time": "2024-11-20T12:58:01.523Z"
   },
   {
    "duration": 5,
    "start_time": "2024-11-20T12:58:01.740Z"
   },
   {
    "duration": 178,
    "start_time": "2024-11-20T12:58:01.746Z"
   },
   {
    "duration": 18,
    "start_time": "2024-11-20T12:58:01.926Z"
   },
   {
    "duration": 230,
    "start_time": "2024-11-20T12:58:01.946Z"
   },
   {
    "duration": 131,
    "start_time": "2024-11-20T12:58:02.177Z"
   },
   {
    "duration": 14,
    "start_time": "2024-11-20T12:58:02.309Z"
   },
   {
    "duration": 46,
    "start_time": "2024-11-20T12:58:02.324Z"
   },
   {
    "duration": 19,
    "start_time": "2024-11-20T12:58:02.371Z"
   },
   {
    "duration": 13,
    "start_time": "2024-11-20T12:58:02.391Z"
   },
   {
    "duration": 46,
    "start_time": "2024-11-20T12:58:02.405Z"
   },
   {
    "duration": 61,
    "start_time": "2024-11-20T12:58:02.452Z"
   },
   {
    "duration": 14,
    "start_time": "2024-11-20T12:58:02.515Z"
   },
   {
    "duration": 1066,
    "start_time": "2024-11-20T12:59:05.100Z"
   },
   {
    "duration": 2,
    "start_time": "2024-11-20T12:59:06.168Z"
   },
   {
    "duration": 122,
    "start_time": "2024-11-20T12:59:06.172Z"
   },
   {
    "duration": 4,
    "start_time": "2024-11-20T12:59:06.295Z"
   },
   {
    "duration": 5,
    "start_time": "2024-11-20T12:59:06.301Z"
   },
   {
    "duration": 24,
    "start_time": "2024-11-20T12:59:06.307Z"
   },
   {
    "duration": 16,
    "start_time": "2024-11-20T12:59:06.333Z"
   },
   {
    "duration": 16,
    "start_time": "2024-11-20T12:59:06.350Z"
   },
   {
    "duration": 63,
    "start_time": "2024-11-20T12:59:06.368Z"
   },
   {
    "duration": 19,
    "start_time": "2024-11-20T12:59:06.432Z"
   },
   {
    "duration": 26,
    "start_time": "2024-11-20T12:59:06.453Z"
   },
   {
    "duration": 24,
    "start_time": "2024-11-20T12:59:06.481Z"
   },
   {
    "duration": 15,
    "start_time": "2024-11-20T12:59:06.506Z"
   },
   {
    "duration": 20,
    "start_time": "2024-11-20T12:59:06.524Z"
   },
   {
    "duration": 19,
    "start_time": "2024-11-20T12:59:06.546Z"
   },
   {
    "duration": 32,
    "start_time": "2024-11-20T12:59:06.566Z"
   },
   {
    "duration": 24,
    "start_time": "2024-11-20T12:59:06.599Z"
   },
   {
    "duration": 45,
    "start_time": "2024-11-20T12:59:06.624Z"
   },
   {
    "duration": 9,
    "start_time": "2024-11-20T12:59:06.671Z"
   },
   {
    "duration": 17,
    "start_time": "2024-11-20T12:59:06.682Z"
   },
   {
    "duration": 40,
    "start_time": "2024-11-20T12:59:06.700Z"
   },
   {
    "duration": 32,
    "start_time": "2024-11-20T12:59:06.742Z"
   },
   {
    "duration": 19,
    "start_time": "2024-11-20T12:59:06.776Z"
   },
   {
    "duration": 37,
    "start_time": "2024-11-20T12:59:06.797Z"
   },
   {
    "duration": 30,
    "start_time": "2024-11-20T12:59:06.836Z"
   },
   {
    "duration": 186,
    "start_time": "2024-11-20T12:59:06.868Z"
   },
   {
    "duration": 136,
    "start_time": "2024-11-20T12:59:07.055Z"
   },
   {
    "duration": 13,
    "start_time": "2024-11-20T12:59:07.193Z"
   },
   {
    "duration": 5,
    "start_time": "2024-11-20T12:59:07.218Z"
   },
   {
    "duration": 32,
    "start_time": "2024-11-20T12:59:07.225Z"
   },
   {
    "duration": 321,
    "start_time": "2024-11-20T12:59:07.258Z"
   },
   {
    "duration": 306,
    "start_time": "2024-11-20T12:59:07.580Z"
   },
   {
    "duration": 378,
    "start_time": "2024-11-20T12:59:07.888Z"
   },
   {
    "duration": 6,
    "start_time": "2024-11-20T12:59:08.269Z"
   },
   {
    "duration": 7,
    "start_time": "2024-11-20T12:59:08.277Z"
   },
   {
    "duration": 55,
    "start_time": "2024-11-20T12:59:08.286Z"
   },
   {
    "duration": 269,
    "start_time": "2024-11-20T12:59:08.343Z"
   },
   {
    "duration": 348,
    "start_time": "2024-11-20T12:59:08.614Z"
   },
   {
    "duration": 13,
    "start_time": "2024-11-20T12:59:08.963Z"
   },
   {
    "duration": 15,
    "start_time": "2024-11-20T12:59:08.977Z"
   },
   {
    "duration": 179,
    "start_time": "2024-11-20T12:59:08.996Z"
   },
   {
    "duration": 5,
    "start_time": "2024-11-20T12:59:09.177Z"
   },
   {
    "duration": 168,
    "start_time": "2024-11-20T12:59:09.183Z"
   },
   {
    "duration": 5,
    "start_time": "2024-11-20T12:59:09.352Z"
   },
   {
    "duration": 222,
    "start_time": "2024-11-20T12:59:09.359Z"
   },
   {
    "duration": 136,
    "start_time": "2024-11-20T12:59:09.583Z"
   },
   {
    "duration": 9,
    "start_time": "2024-11-20T12:59:09.722Z"
   },
   {
    "duration": 43,
    "start_time": "2024-11-20T12:59:09.733Z"
   },
   {
    "duration": 10,
    "start_time": "2024-11-20T12:59:09.778Z"
   },
   {
    "duration": 30,
    "start_time": "2024-11-20T12:59:09.789Z"
   },
   {
    "duration": 104,
    "start_time": "2024-11-20T12:59:09.821Z"
   },
   {
    "duration": 32,
    "start_time": "2024-11-20T12:59:09.927Z"
   },
   {
    "duration": 13,
    "start_time": "2024-11-20T12:59:09.960Z"
   },
   {
    "duration": 1121,
    "start_time": "2024-11-21T06:18:27.501Z"
   },
   {
    "duration": 3,
    "start_time": "2024-11-21T06:18:28.624Z"
   },
   {
    "duration": 119,
    "start_time": "2024-11-21T06:18:28.629Z"
   },
   {
    "duration": 16,
    "start_time": "2024-11-21T06:18:28.751Z"
   },
   {
    "duration": 85,
    "start_time": "2024-11-21T06:18:28.769Z"
   },
   {
    "duration": 43,
    "start_time": "2024-11-21T06:18:28.856Z"
   },
   {
    "duration": 141,
    "start_time": "2024-11-21T06:18:28.900Z"
   },
   {
    "duration": 52,
    "start_time": "2024-11-21T06:18:29.042Z"
   },
   {
    "duration": 66,
    "start_time": "2024-11-21T06:18:29.096Z"
   },
   {
    "duration": 19,
    "start_time": "2024-11-21T06:18:29.165Z"
   },
   {
    "duration": 34,
    "start_time": "2024-11-21T06:18:29.186Z"
   },
   {
    "duration": 14,
    "start_time": "2024-11-21T06:18:29.221Z"
   },
   {
    "duration": 37,
    "start_time": "2024-11-21T06:18:29.237Z"
   },
   {
    "duration": 28,
    "start_time": "2024-11-21T06:18:29.276Z"
   },
   {
    "duration": 37,
    "start_time": "2024-11-21T06:18:29.305Z"
   },
   {
    "duration": 40,
    "start_time": "2024-11-21T06:18:29.344Z"
   },
   {
    "duration": 100,
    "start_time": "2024-11-21T06:18:29.386Z"
   },
   {
    "duration": 47,
    "start_time": "2024-11-21T06:18:29.488Z"
   },
   {
    "duration": 39,
    "start_time": "2024-11-21T06:18:29.536Z"
   },
   {
    "duration": 45,
    "start_time": "2024-11-21T06:18:29.577Z"
   },
   {
    "duration": 40,
    "start_time": "2024-11-21T06:18:29.624Z"
   },
   {
    "duration": 45,
    "start_time": "2024-11-21T06:18:29.666Z"
   },
   {
    "duration": 32,
    "start_time": "2024-11-21T06:18:29.713Z"
   },
   {
    "duration": 33,
    "start_time": "2024-11-21T06:18:29.748Z"
   },
   {
    "duration": 49,
    "start_time": "2024-11-21T06:18:29.783Z"
   },
   {
    "duration": 404,
    "start_time": "2024-11-21T06:18:29.834Z"
   },
   {
    "duration": 288,
    "start_time": "2024-11-21T06:18:30.240Z"
   },
   {
    "duration": 18,
    "start_time": "2024-11-21T06:18:30.533Z"
   },
   {
    "duration": 66,
    "start_time": "2024-11-21T06:18:30.553Z"
   },
   {
    "duration": 99,
    "start_time": "2024-11-21T06:18:30.621Z"
   },
   {
    "duration": 700,
    "start_time": "2024-11-21T06:18:30.722Z"
   },
   {
    "duration": 260,
    "start_time": "2024-11-21T06:18:31.424Z"
   },
   {
    "duration": 375,
    "start_time": "2024-11-21T06:18:31.686Z"
   },
   {
    "duration": 6,
    "start_time": "2024-11-21T06:18:32.062Z"
   },
   {
    "duration": 27,
    "start_time": "2024-11-21T06:18:32.069Z"
   },
   {
    "duration": 37,
    "start_time": "2024-11-21T06:18:32.097Z"
   },
   {
    "duration": 242,
    "start_time": "2024-11-21T06:18:32.135Z"
   },
   {
    "duration": 387,
    "start_time": "2024-11-21T06:18:32.378Z"
   },
   {
    "duration": 11,
    "start_time": "2024-11-21T06:18:32.767Z"
   },
   {
    "duration": 76,
    "start_time": "2024-11-21T06:18:32.780Z"
   },
   {
    "duration": 199,
    "start_time": "2024-11-21T06:18:32.858Z"
   },
   {
    "duration": 6,
    "start_time": "2024-11-21T06:18:33.060Z"
   },
   {
    "duration": 242,
    "start_time": "2024-11-21T06:18:33.068Z"
   },
   {
    "duration": 9,
    "start_time": "2024-11-21T06:18:33.312Z"
   },
   {
    "duration": 248,
    "start_time": "2024-11-21T06:18:33.323Z"
   },
   {
    "duration": 168,
    "start_time": "2024-11-21T06:18:33.573Z"
   },
   {
    "duration": 7,
    "start_time": "2024-11-21T06:18:33.743Z"
   },
   {
    "duration": 43,
    "start_time": "2024-11-21T06:18:33.752Z"
   },
   {
    "duration": 25,
    "start_time": "2024-11-21T06:18:33.796Z"
   },
   {
    "duration": 14,
    "start_time": "2024-11-21T06:18:33.823Z"
   },
   {
    "duration": 20,
    "start_time": "2024-11-21T06:18:33.839Z"
   },
   {
    "duration": 35,
    "start_time": "2024-11-21T06:18:33.861Z"
   },
   {
    "duration": 14,
    "start_time": "2024-11-21T06:18:33.898Z"
   },
   {
    "duration": 1213,
    "start_time": "2025-02-03T11:51:50.925Z"
   },
   {
    "duration": 3,
    "start_time": "2025-02-03T11:51:52.140Z"
   },
   {
    "duration": 88,
    "start_time": "2025-02-03T11:51:52.145Z"
   },
   {
    "duration": 3,
    "start_time": "2025-02-03T11:51:52.235Z"
   },
   {
    "duration": 14,
    "start_time": "2025-02-03T11:51:52.240Z"
   },
   {
    "duration": 11,
    "start_time": "2025-02-03T11:51:52.256Z"
   },
   {
    "duration": 6,
    "start_time": "2025-02-03T11:51:52.268Z"
   },
   {
    "duration": 34,
    "start_time": "2025-02-03T11:51:52.275Z"
   },
   {
    "duration": 42,
    "start_time": "2025-02-03T11:51:52.312Z"
   },
   {
    "duration": 20,
    "start_time": "2025-02-03T11:51:52.356Z"
   },
   {
    "duration": 12,
    "start_time": "2025-02-03T11:51:52.377Z"
   },
   {
    "duration": 48,
    "start_time": "2025-02-03T11:51:52.390Z"
   },
   {
    "duration": 11,
    "start_time": "2025-02-03T11:51:52.439Z"
   },
   {
    "duration": 6,
    "start_time": "2025-02-03T11:51:52.452Z"
   },
   {
    "duration": 10,
    "start_time": "2025-02-03T11:51:52.459Z"
   },
   {
    "duration": 7,
    "start_time": "2025-02-03T11:51:52.470Z"
   },
   {
    "duration": 5,
    "start_time": "2025-02-03T11:51:52.478Z"
   },
   {
    "duration": 29,
    "start_time": "2025-02-03T11:51:52.485Z"
   },
   {
    "duration": 10,
    "start_time": "2025-02-03T11:51:52.516Z"
   },
   {
    "duration": 8,
    "start_time": "2025-02-03T11:51:52.528Z"
   },
   {
    "duration": 13,
    "start_time": "2025-02-03T11:51:52.537Z"
   },
   {
    "duration": 20,
    "start_time": "2025-02-03T11:51:52.552Z"
   },
   {
    "duration": 6,
    "start_time": "2025-02-03T11:51:52.574Z"
   },
   {
    "duration": 29,
    "start_time": "2025-02-03T11:51:52.582Z"
   },
   {
    "duration": 10,
    "start_time": "2025-02-03T11:51:52.612Z"
   },
   {
    "duration": 189,
    "start_time": "2025-02-03T11:51:52.624Z"
   },
   {
    "duration": 141,
    "start_time": "2025-02-03T11:51:52.815Z"
   },
   {
    "duration": 12,
    "start_time": "2025-02-03T11:51:52.961Z"
   },
   {
    "duration": 5,
    "start_time": "2025-02-03T11:51:52.979Z"
   },
   {
    "duration": 24,
    "start_time": "2025-02-03T11:51:52.986Z"
   },
   {
    "duration": 335,
    "start_time": "2025-02-03T11:51:53.012Z"
   },
   {
    "duration": 264,
    "start_time": "2025-02-03T11:51:53.348Z"
   },
   {
    "duration": 385,
    "start_time": "2025-02-03T11:51:53.614Z"
   },
   {
    "duration": 10,
    "start_time": "2025-02-03T11:51:54.001Z"
   },
   {
    "duration": 6,
    "start_time": "2025-02-03T11:51:54.013Z"
   },
   {
    "duration": 5,
    "start_time": "2025-02-03T11:51:54.021Z"
   },
   {
    "duration": 251,
    "start_time": "2025-02-03T11:51:54.028Z"
   },
   {
    "duration": 377,
    "start_time": "2025-02-03T11:51:54.280Z"
   },
   {
    "duration": 12,
    "start_time": "2025-02-03T11:51:54.659Z"
   },
   {
    "duration": 7,
    "start_time": "2025-02-03T11:51:54.672Z"
   },
   {
    "duration": 188,
    "start_time": "2025-02-03T11:51:54.681Z"
   },
   {
    "duration": 6,
    "start_time": "2025-02-03T11:51:54.870Z"
   },
   {
    "duration": 174,
    "start_time": "2025-02-03T11:51:54.877Z"
   },
   {
    "duration": 4,
    "start_time": "2025-02-03T11:51:55.053Z"
   },
   {
    "duration": 250,
    "start_time": "2025-02-03T11:51:55.059Z"
   },
   {
    "duration": 138,
    "start_time": "2025-02-03T11:51:55.311Z"
   },
   {
    "duration": 8,
    "start_time": "2025-02-03T11:51:55.451Z"
   },
   {
    "duration": 54,
    "start_time": "2025-02-03T11:51:55.460Z"
   },
   {
    "duration": 10,
    "start_time": "2025-02-03T11:51:55.516Z"
   },
   {
    "duration": 9,
    "start_time": "2025-02-03T11:51:55.527Z"
   },
   {
    "duration": 8,
    "start_time": "2025-02-03T11:51:55.538Z"
   },
   {
    "duration": 35,
    "start_time": "2025-02-03T11:51:55.548Z"
   },
   {
    "duration": 30,
    "start_time": "2025-02-03T11:51:55.585Z"
   }
  ],
  "kernelspec": {
   "display_name": "Python 3 (ipykernel)",
   "language": "python",
   "name": "python3"
  },
  "language_info": {
   "codemirror_mode": {
    "name": "ipython",
    "version": 3
   },
   "file_extension": ".py",
   "mimetype": "text/x-python",
   "name": "python",
   "nbconvert_exporter": "python",
   "pygments_lexer": "ipython3",
   "version": "3.9.5"
  },
  "toc": {
   "base_numbering": 1,
   "nav_menu": {},
   "number_sections": true,
   "sideBar": true,
   "skip_h1_title": true,
   "title_cell": "Table of Contents",
   "title_sidebar": "Contents",
   "toc_cell": false,
   "toc_position": {},
   "toc_section_display": true,
   "toc_window_display": true
  }
 },
 "nbformat": 4,
 "nbformat_minor": 2
}
